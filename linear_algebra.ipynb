{
 "cells": [
  {
   "cell_type": "markdown",
   "metadata": {},
   "source": [
    "# Statement"
   ]
  },
  {
   "cell_type": "markdown",
   "metadata": {},
   "source": [
    "The Sure Tomorrow insurance company wants to solve several tasks with the help of Machine Learning and you are asked to evaluate that possibility.\n",
    "\n",
    "- Task 1: Find customers who are similar to a given customer. This will help the company's agents with marketing.\n",
    "- Task 2: Predict whether a new customer is likely to receive an insurance benefit. Can a prediction model do better than a dummy model?\n",
    "- Task 3: Predict the number of insurance benefits a new customer is likely to receive using a linear regression model.\n",
    "- Task 4: Protect clients' personal data without breaking the model from the previous task. It's necessary to develop a data transformation algorithm that would make it hard to recover personal information if the data fell into the wrong hands. This is called data masking, or data obfuscation. But the data should be protected in such a way that the quality of machine learning models doesn't suffer. You don't need to pick the best model, just prove that the algorithm works correctly."
   ]
  },
  {
   "cell_type": "markdown",
   "metadata": {},
   "source": [
    "# Data Preprocessing & Exploration\n",
    "\n",
    "## Initialization"
   ]
  },
  {
   "cell_type": "code",
   "execution_count": 1,
   "metadata": {},
   "outputs": [
    {
     "name": "stdout",
     "output_type": "stream",
     "text": [
      "Requirement already satisfied: scikit-learn in /opt/conda/lib/python3.9/site-packages (1.1.1)\n",
      "Requirement already satisfied: scipy>=1.3.2 in /opt/conda/lib/python3.9/site-packages (from scikit-learn) (1.8.0)\n",
      "Requirement already satisfied: threadpoolctl>=2.0.0 in /opt/conda/lib/python3.9/site-packages (from scikit-learn) (3.1.0)\n",
      "Requirement already satisfied: numpy>=1.17.3 in /opt/conda/lib/python3.9/site-packages (from scikit-learn) (1.21.1)\n",
      "Requirement already satisfied: joblib>=1.0.0 in /opt/conda/lib/python3.9/site-packages (from scikit-learn) (1.1.0)\n",
      "Note: you may need to restart the kernel to use updated packages.\n"
     ]
    }
   ],
   "source": [
    "pip install scikit-learn --upgrade"
   ]
  },
  {
   "cell_type": "code",
   "execution_count": 2,
   "metadata": {},
   "outputs": [],
   "source": [
    "import numpy as np\n",
    "import pandas as pd\n",
    "import math\n",
    "\n",
    "import seaborn as sns\n",
    "\n",
    "import sklearn.linear_model\n",
    "import sklearn.metrics\n",
    "import sklearn.neighbors\n",
    "import sklearn.preprocessing\n",
    "from sklearn.neighbors import NearestNeighbors\n",
    "from numpy import random\n",
    "from sklearn.utils import shuffle\n",
    "\n",
    "from sklearn.model_selection import train_test_split\n",
    "\n",
    "from IPython.display import display"
   ]
  },
  {
   "cell_type": "code",
   "execution_count": 3,
   "metadata": {},
   "outputs": [],
   "source": [
    "# Hide all warnings\n",
    "\n",
    "import warnings\n",
    "warnings.filterwarnings('ignore')"
   ]
  },
  {
   "cell_type": "markdown",
   "metadata": {},
   "source": [
    "## Load Data"
   ]
  },
  {
   "cell_type": "markdown",
   "metadata": {},
   "source": [
    "Load data and conduct a basic check that it's free from obvious issues."
   ]
  },
  {
   "cell_type": "code",
   "execution_count": 4,
   "metadata": {},
   "outputs": [],
   "source": [
    "df = pd.read_csv('/datasets/insurance_us.csv')"
   ]
  },
  {
   "cell_type": "markdown",
   "metadata": {},
   "source": [
    "We rename the colums to make the code look more consistent with its style."
   ]
  },
  {
   "cell_type": "code",
   "execution_count": 5,
   "metadata": {},
   "outputs": [],
   "source": [
    "df = df.rename(columns={'Gender': 'gender', 'Age': 'age', 'Salary': 'income', 'Family members': 'family_members', 'Insurance benefits': 'insurance_benefits'})"
   ]
  },
  {
   "cell_type": "code",
   "execution_count": 6,
   "metadata": {},
   "outputs": [
    {
     "data": {
      "text/html": [
       "<div>\n",
       "<style scoped>\n",
       "    .dataframe tbody tr th:only-of-type {\n",
       "        vertical-align: middle;\n",
       "    }\n",
       "\n",
       "    .dataframe tbody tr th {\n",
       "        vertical-align: top;\n",
       "    }\n",
       "\n",
       "    .dataframe thead th {\n",
       "        text-align: right;\n",
       "    }\n",
       "</style>\n",
       "<table border=\"1\" class=\"dataframe\">\n",
       "  <thead>\n",
       "    <tr style=\"text-align: right;\">\n",
       "      <th></th>\n",
       "      <th>gender</th>\n",
       "      <th>age</th>\n",
       "      <th>income</th>\n",
       "      <th>family_members</th>\n",
       "      <th>insurance_benefits</th>\n",
       "    </tr>\n",
       "  </thead>\n",
       "  <tbody>\n",
       "    <tr>\n",
       "      <th>2199</th>\n",
       "      <td>0</td>\n",
       "      <td>28.0</td>\n",
       "      <td>29400.0</td>\n",
       "      <td>3</td>\n",
       "      <td>0</td>\n",
       "    </tr>\n",
       "    <tr>\n",
       "      <th>2880</th>\n",
       "      <td>1</td>\n",
       "      <td>27.0</td>\n",
       "      <td>37900.0</td>\n",
       "      <td>0</td>\n",
       "      <td>0</td>\n",
       "    </tr>\n",
       "    <tr>\n",
       "      <th>4972</th>\n",
       "      <td>1</td>\n",
       "      <td>25.0</td>\n",
       "      <td>29000.0</td>\n",
       "      <td>1</td>\n",
       "      <td>0</td>\n",
       "    </tr>\n",
       "    <tr>\n",
       "      <th>2611</th>\n",
       "      <td>0</td>\n",
       "      <td>20.0</td>\n",
       "      <td>42900.0</td>\n",
       "      <td>1</td>\n",
       "      <td>0</td>\n",
       "    </tr>\n",
       "    <tr>\n",
       "      <th>96</th>\n",
       "      <td>0</td>\n",
       "      <td>23.0</td>\n",
       "      <td>43700.0</td>\n",
       "      <td>0</td>\n",
       "      <td>0</td>\n",
       "    </tr>\n",
       "    <tr>\n",
       "      <th>2573</th>\n",
       "      <td>0</td>\n",
       "      <td>39.0</td>\n",
       "      <td>30000.0</td>\n",
       "      <td>3</td>\n",
       "      <td>0</td>\n",
       "    </tr>\n",
       "    <tr>\n",
       "      <th>2058</th>\n",
       "      <td>1</td>\n",
       "      <td>38.0</td>\n",
       "      <td>43500.0</td>\n",
       "      <td>0</td>\n",
       "      <td>0</td>\n",
       "    </tr>\n",
       "    <tr>\n",
       "      <th>4070</th>\n",
       "      <td>1</td>\n",
       "      <td>23.0</td>\n",
       "      <td>35800.0</td>\n",
       "      <td>3</td>\n",
       "      <td>0</td>\n",
       "    </tr>\n",
       "    <tr>\n",
       "      <th>2189</th>\n",
       "      <td>1</td>\n",
       "      <td>32.0</td>\n",
       "      <td>35500.0</td>\n",
       "      <td>0</td>\n",
       "      <td>0</td>\n",
       "    </tr>\n",
       "    <tr>\n",
       "      <th>3456</th>\n",
       "      <td>1</td>\n",
       "      <td>50.0</td>\n",
       "      <td>43300.0</td>\n",
       "      <td>1</td>\n",
       "      <td>2</td>\n",
       "    </tr>\n",
       "  </tbody>\n",
       "</table>\n",
       "</div>"
      ],
      "text/plain": [
       "      gender   age   income  family_members  insurance_benefits\n",
       "2199       0  28.0  29400.0               3                   0\n",
       "2880       1  27.0  37900.0               0                   0\n",
       "4972       1  25.0  29000.0               1                   0\n",
       "2611       0  20.0  42900.0               1                   0\n",
       "96         0  23.0  43700.0               0                   0\n",
       "2573       0  39.0  30000.0               3                   0\n",
       "2058       1  38.0  43500.0               0                   0\n",
       "4070       1  23.0  35800.0               3                   0\n",
       "2189       1  32.0  35500.0               0                   0\n",
       "3456       1  50.0  43300.0               1                   2"
      ]
     },
     "execution_count": 6,
     "metadata": {},
     "output_type": "execute_result"
    }
   ],
   "source": [
    "df.sample(10)"
   ]
  },
  {
   "cell_type": "code",
   "execution_count": 7,
   "metadata": {},
   "outputs": [
    {
     "name": "stdout",
     "output_type": "stream",
     "text": [
      "<class 'pandas.core.frame.DataFrame'>\n",
      "RangeIndex: 5000 entries, 0 to 4999\n",
      "Data columns (total 5 columns):\n",
      " #   Column              Non-Null Count  Dtype  \n",
      "---  ------              --------------  -----  \n",
      " 0   gender              5000 non-null   int64  \n",
      " 1   age                 5000 non-null   float64\n",
      " 2   income              5000 non-null   float64\n",
      " 3   family_members      5000 non-null   int64  \n",
      " 4   insurance_benefits  5000 non-null   int64  \n",
      "dtypes: float64(2), int64(3)\n",
      "memory usage: 195.4 KB\n"
     ]
    }
   ],
   "source": [
    "df.info()"
   ]
  },
  {
   "cell_type": "code",
   "execution_count": 8,
   "metadata": {},
   "outputs": [],
   "source": [
    "# we may want to fix the age type (from float to int) though this is not critical\n",
    "\n",
    "# write your conversion here if you choose:\n",
    "df['age'] = df['age'].astype('int')"
   ]
  },
  {
   "cell_type": "code",
   "execution_count": 9,
   "metadata": {},
   "outputs": [
    {
     "name": "stdout",
     "output_type": "stream",
     "text": [
      "<class 'pandas.core.frame.DataFrame'>\n",
      "RangeIndex: 5000 entries, 0 to 4999\n",
      "Data columns (total 5 columns):\n",
      " #   Column              Non-Null Count  Dtype  \n",
      "---  ------              --------------  -----  \n",
      " 0   gender              5000 non-null   int64  \n",
      " 1   age                 5000 non-null   int64  \n",
      " 2   income              5000 non-null   float64\n",
      " 3   family_members      5000 non-null   int64  \n",
      " 4   insurance_benefits  5000 non-null   int64  \n",
      "dtypes: float64(1), int64(4)\n",
      "memory usage: 195.4 KB\n"
     ]
    }
   ],
   "source": [
    "# check to see that the conversion was successful\n",
    "df.info()"
   ]
  },
  {
   "cell_type": "code",
   "execution_count": 10,
   "metadata": {},
   "outputs": [],
   "source": [
    "# now have a look at the data's descriptive statistics. \n",
    "# Does everything look okay?"
   ]
  },
  {
   "cell_type": "code",
   "execution_count": 11,
   "metadata": {},
   "outputs": [
    {
     "data": {
      "text/html": [
       "<div>\n",
       "<style scoped>\n",
       "    .dataframe tbody tr th:only-of-type {\n",
       "        vertical-align: middle;\n",
       "    }\n",
       "\n",
       "    .dataframe tbody tr th {\n",
       "        vertical-align: top;\n",
       "    }\n",
       "\n",
       "    .dataframe thead th {\n",
       "        text-align: right;\n",
       "    }\n",
       "</style>\n",
       "<table border=\"1\" class=\"dataframe\">\n",
       "  <thead>\n",
       "    <tr style=\"text-align: right;\">\n",
       "      <th></th>\n",
       "      <th>gender</th>\n",
       "      <th>age</th>\n",
       "      <th>income</th>\n",
       "      <th>family_members</th>\n",
       "      <th>insurance_benefits</th>\n",
       "    </tr>\n",
       "  </thead>\n",
       "  <tbody>\n",
       "    <tr>\n",
       "      <th>count</th>\n",
       "      <td>5000.000000</td>\n",
       "      <td>5000.000000</td>\n",
       "      <td>5000.000000</td>\n",
       "      <td>5000.000000</td>\n",
       "      <td>5000.000000</td>\n",
       "    </tr>\n",
       "    <tr>\n",
       "      <th>mean</th>\n",
       "      <td>0.499000</td>\n",
       "      <td>30.952800</td>\n",
       "      <td>39916.360000</td>\n",
       "      <td>1.194200</td>\n",
       "      <td>0.148000</td>\n",
       "    </tr>\n",
       "    <tr>\n",
       "      <th>std</th>\n",
       "      <td>0.500049</td>\n",
       "      <td>8.440807</td>\n",
       "      <td>9900.083569</td>\n",
       "      <td>1.091387</td>\n",
       "      <td>0.463183</td>\n",
       "    </tr>\n",
       "    <tr>\n",
       "      <th>min</th>\n",
       "      <td>0.000000</td>\n",
       "      <td>18.000000</td>\n",
       "      <td>5300.000000</td>\n",
       "      <td>0.000000</td>\n",
       "      <td>0.000000</td>\n",
       "    </tr>\n",
       "    <tr>\n",
       "      <th>25%</th>\n",
       "      <td>0.000000</td>\n",
       "      <td>24.000000</td>\n",
       "      <td>33300.000000</td>\n",
       "      <td>0.000000</td>\n",
       "      <td>0.000000</td>\n",
       "    </tr>\n",
       "    <tr>\n",
       "      <th>50%</th>\n",
       "      <td>0.000000</td>\n",
       "      <td>30.000000</td>\n",
       "      <td>40200.000000</td>\n",
       "      <td>1.000000</td>\n",
       "      <td>0.000000</td>\n",
       "    </tr>\n",
       "    <tr>\n",
       "      <th>75%</th>\n",
       "      <td>1.000000</td>\n",
       "      <td>37.000000</td>\n",
       "      <td>46600.000000</td>\n",
       "      <td>2.000000</td>\n",
       "      <td>0.000000</td>\n",
       "    </tr>\n",
       "    <tr>\n",
       "      <th>max</th>\n",
       "      <td>1.000000</td>\n",
       "      <td>65.000000</td>\n",
       "      <td>79000.000000</td>\n",
       "      <td>6.000000</td>\n",
       "      <td>5.000000</td>\n",
       "    </tr>\n",
       "  </tbody>\n",
       "</table>\n",
       "</div>"
      ],
      "text/plain": [
       "            gender          age        income  family_members  \\\n",
       "count  5000.000000  5000.000000   5000.000000     5000.000000   \n",
       "mean      0.499000    30.952800  39916.360000        1.194200   \n",
       "std       0.500049     8.440807   9900.083569        1.091387   \n",
       "min       0.000000    18.000000   5300.000000        0.000000   \n",
       "25%       0.000000    24.000000  33300.000000        0.000000   \n",
       "50%       0.000000    30.000000  40200.000000        1.000000   \n",
       "75%       1.000000    37.000000  46600.000000        2.000000   \n",
       "max       1.000000    65.000000  79000.000000        6.000000   \n",
       "\n",
       "       insurance_benefits  \n",
       "count         5000.000000  \n",
       "mean             0.148000  \n",
       "std              0.463183  \n",
       "min              0.000000  \n",
       "25%              0.000000  \n",
       "50%              0.000000  \n",
       "75%              0.000000  \n",
       "max              5.000000  "
      ]
     },
     "execution_count": 11,
     "metadata": {},
     "output_type": "execute_result"
    }
   ],
   "source": [
    "df.describe()"
   ]
  },
  {
   "cell_type": "code",
   "execution_count": 12,
   "metadata": {},
   "outputs": [
    {
     "data": {
      "text/html": [
       "<div>\n",
       "<style scoped>\n",
       "    .dataframe tbody tr th:only-of-type {\n",
       "        vertical-align: middle;\n",
       "    }\n",
       "\n",
       "    .dataframe tbody tr th {\n",
       "        vertical-align: top;\n",
       "    }\n",
       "\n",
       "    .dataframe thead th {\n",
       "        text-align: right;\n",
       "    }\n",
       "</style>\n",
       "<table border=\"1\" class=\"dataframe\">\n",
       "  <thead>\n",
       "    <tr style=\"text-align: right;\">\n",
       "      <th></th>\n",
       "      <th>gender</th>\n",
       "      <th>age</th>\n",
       "      <th>income</th>\n",
       "      <th>family_members</th>\n",
       "      <th>insurance_benefits</th>\n",
       "    </tr>\n",
       "  </thead>\n",
       "  <tbody>\n",
       "    <tr>\n",
       "      <th>281</th>\n",
       "      <td>1</td>\n",
       "      <td>39</td>\n",
       "      <td>48100.0</td>\n",
       "      <td>1</td>\n",
       "      <td>0</td>\n",
       "    </tr>\n",
       "    <tr>\n",
       "      <th>488</th>\n",
       "      <td>1</td>\n",
       "      <td>24</td>\n",
       "      <td>32900.0</td>\n",
       "      <td>1</td>\n",
       "      <td>0</td>\n",
       "    </tr>\n",
       "    <tr>\n",
       "      <th>513</th>\n",
       "      <td>0</td>\n",
       "      <td>31</td>\n",
       "      <td>37400.0</td>\n",
       "      <td>2</td>\n",
       "      <td>0</td>\n",
       "    </tr>\n",
       "    <tr>\n",
       "      <th>718</th>\n",
       "      <td>1</td>\n",
       "      <td>22</td>\n",
       "      <td>32600.0</td>\n",
       "      <td>1</td>\n",
       "      <td>0</td>\n",
       "    </tr>\n",
       "    <tr>\n",
       "      <th>785</th>\n",
       "      <td>0</td>\n",
       "      <td>20</td>\n",
       "      <td>35800.0</td>\n",
       "      <td>0</td>\n",
       "      <td>0</td>\n",
       "    </tr>\n",
       "    <tr>\n",
       "      <th>...</th>\n",
       "      <td>...</td>\n",
       "      <td>...</td>\n",
       "      <td>...</td>\n",
       "      <td>...</td>\n",
       "      <td>...</td>\n",
       "    </tr>\n",
       "    <tr>\n",
       "      <th>4793</th>\n",
       "      <td>1</td>\n",
       "      <td>24</td>\n",
       "      <td>37800.0</td>\n",
       "      <td>0</td>\n",
       "      <td>0</td>\n",
       "    </tr>\n",
       "    <tr>\n",
       "      <th>4902</th>\n",
       "      <td>1</td>\n",
       "      <td>35</td>\n",
       "      <td>38700.0</td>\n",
       "      <td>1</td>\n",
       "      <td>0</td>\n",
       "    </tr>\n",
       "    <tr>\n",
       "      <th>4935</th>\n",
       "      <td>1</td>\n",
       "      <td>19</td>\n",
       "      <td>32700.0</td>\n",
       "      <td>0</td>\n",
       "      <td>0</td>\n",
       "    </tr>\n",
       "    <tr>\n",
       "      <th>4945</th>\n",
       "      <td>1</td>\n",
       "      <td>21</td>\n",
       "      <td>45800.0</td>\n",
       "      <td>0</td>\n",
       "      <td>0</td>\n",
       "    </tr>\n",
       "    <tr>\n",
       "      <th>4965</th>\n",
       "      <td>0</td>\n",
       "      <td>22</td>\n",
       "      <td>40100.0</td>\n",
       "      <td>1</td>\n",
       "      <td>0</td>\n",
       "    </tr>\n",
       "  </tbody>\n",
       "</table>\n",
       "<p>153 rows × 5 columns</p>\n",
       "</div>"
      ],
      "text/plain": [
       "      gender  age   income  family_members  insurance_benefits\n",
       "281        1   39  48100.0               1                   0\n",
       "488        1   24  32900.0               1                   0\n",
       "513        0   31  37400.0               2                   0\n",
       "718        1   22  32600.0               1                   0\n",
       "785        0   20  35800.0               0                   0\n",
       "...      ...  ...      ...             ...                 ...\n",
       "4793       1   24  37800.0               0                   0\n",
       "4902       1   35  38700.0               1                   0\n",
       "4935       1   19  32700.0               0                   0\n",
       "4945       1   21  45800.0               0                   0\n",
       "4965       0   22  40100.0               1                   0\n",
       "\n",
       "[153 rows x 5 columns]"
      ]
     },
     "execution_count": 12,
     "metadata": {},
     "output_type": "execute_result"
    }
   ],
   "source": [
    "df[df.duplicated()]"
   ]
  },
  {
   "cell_type": "code",
   "execution_count": 13,
   "metadata": {},
   "outputs": [],
   "source": [
    "df.drop_duplicates(inplace=True)\n",
    "df.reset_index(drop=True, inplace=True)"
   ]
  },
  {
   "cell_type": "markdown",
   "metadata": {},
   "source": [
    "## EDA"
   ]
  },
  {
   "cell_type": "markdown",
   "metadata": {},
   "source": [
    "Let's quickly check whether there are certain groups of customers by looking at the pair plot."
   ]
  },
  {
   "cell_type": "code",
   "execution_count": 14,
   "metadata": {},
   "outputs": [
    {
     "data": {
      "image/png": "[encoded data removed]",
      "text/plain": [
       "<Figure size 864x864 with 30 Axes>"
      ]
     },
     "metadata": {
      "needs_background": "light"
     },
     "output_type": "display_data"
    }
   ],
   "source": [
    "g = sns.pairplot(df, kind='hist')\n",
    "g.fig.set_size_inches(12, 12)"
   ]
  },
  {
   "cell_type": "markdown",
   "metadata": {},
   "source": [
    "Ok, it is a bit difficult to spot obvious groups (clusters) as it is difficult to combine several variables simultaneously (to analyze multivariate distributions). That's where LA and ML can be quite handy."
   ]
  },
  {
   "cell_type": "markdown",
   "metadata": {},
   "source": [
    "# Task 1. Similar Customers"
   ]
  },
  {
   "cell_type": "markdown",
   "metadata": {},
   "source": [
    "In the language of ML, it is necessary to develop a procedure that returns k nearest neighbors (objects) for a given object based on the distance between the objects.\n",
    "\n",
    "You may want to review the following lessons (chapter -> lesson)\n",
    "- Distance Between Vectors -> Euclidean Distance\n",
    "- Distance Between Vectors -> Manhattan Distance\n",
    "\n",
    "To solve the task, we can try different distance metrics."
   ]
  },
  {
   "cell_type": "markdown",
   "metadata": {},
   "source": [
    "Write a function that returns k nearest neighbors for an $n^{th}$ object based on a specified distance metric. The number of received insurance benefits should not be taken into account for this task. \n",
    "\n",
    "You can use a ready implementation of the kNN algorithm from scikit-learn (check [the link](https://scikit-learn.org/stable/modules/generated/sklearn.neighbors.NearestNeighbors.html#sklearn.neighbors.NearestNeighbors)) or use your own.\n",
    "\n",
    "Test it for four combination of two cases\n",
    "- Scaling\n",
    "  - the data is not scaled\n",
    "  - the data is scaled with the [MaxAbsScaler](https://scikit-learn.org/stable/modules/generated/sklearn.preprocessing.MaxAbsScaler.html) scaler\n",
    "- Distance Metrics\n",
    "  - Euclidean\n",
    "  - Manhattan\n",
    "\n",
    "Answer these questions:\n",
    "- Does the data being not scaled affect the kNN algorithm? If so, how does that appear?\n",
    "- How similar are the results using the Manhattan distance metric (regardless of the scaling)?"
   ]
  },
  {
   "cell_type": "code",
   "execution_count": 15,
   "metadata": {},
   "outputs": [],
   "source": [
    "feature_names = ['gender', 'age', 'income', 'family_members']"
   ]
  },
  {
   "cell_type": "code",
   "execution_count": 16,
   "metadata": {},
   "outputs": [],
   "source": [
    "def get_knn(df, n, k, metric):\n",
    "    \n",
    "    \"\"\"\n",
    "    Returns k nearest neighbors\n",
    "\n",
    "    :param df: pandas DataFrame used to find similar objects within\n",
    "    :param n: object no for which the nearest neighbours are looked for\n",
    "    :param k: the number of the nearest neighbours to return\n",
    "    :param metric: name of distance metric\n",
    "    \"\"\"\n",
    "    \n",
    "    if metric == 'manhattan' or metric == \"city block\":\n",
    "        nbrs = NearestNeighbors(n_neighbors=k, p=1)\n",
    "    else:\n",
    "        nbrs = NearestNeighbors(n_neighbors=k, p=2)\n",
    "    nbrs.fit(df.drop('insurance_benefits', axis=1))\n",
    "    nbrs_distances, nbrs_indices = nbrs.kneighbors([df.iloc[n][feature_names]], k, return_distance=True)\n",
    "    \n",
    "    df_res = pd.concat([\n",
    "        df.iloc[nbrs_indices[0]], \n",
    "        pd.DataFrame(nbrs_distances.T, index=nbrs_indices[0], columns=['distance'])\n",
    "        ], axis=1)\n",
    "    \n",
    "    return df_res"
   ]
  },
  {
   "cell_type": "markdown",
   "metadata": {},
   "source": [
    "Scaling the data."
   ]
  },
  {
   "cell_type": "code",
   "execution_count": 17,
   "metadata": {},
   "outputs": [],
   "source": [
    "feature_names = ['gender', 'age', 'income', 'family_members']\n",
    "\n",
    "transformer_mas = sklearn.preprocessing.MaxAbsScaler().fit(df[feature_names].to_numpy())\n",
    "\n",
    "df_scaled = df.copy()\n",
    "df_scaled.loc[:, feature_names] = transformer_mas.transform(df[feature_names].to_numpy())"
   ]
  },
  {
   "cell_type": "code",
   "execution_count": 18,
   "metadata": {},
   "outputs": [
    {
     "data": {
      "text/html": [
       "<div>\n",
       "<style scoped>\n",
       "    .dataframe tbody tr th:only-of-type {\n",
       "        vertical-align: middle;\n",
       "    }\n",
       "\n",
       "    .dataframe tbody tr th {\n",
       "        vertical-align: top;\n",
       "    }\n",
       "\n",
       "    .dataframe thead th {\n",
       "        text-align: right;\n",
       "    }\n",
       "</style>\n",
       "<table border=\"1\" class=\"dataframe\">\n",
       "  <thead>\n",
       "    <tr style=\"text-align: right;\">\n",
       "      <th></th>\n",
       "      <th>gender</th>\n",
       "      <th>age</th>\n",
       "      <th>income</th>\n",
       "      <th>family_members</th>\n",
       "      <th>insurance_benefits</th>\n",
       "    </tr>\n",
       "  </thead>\n",
       "  <tbody>\n",
       "    <tr>\n",
       "      <th>623</th>\n",
       "      <td>1.0</td>\n",
       "      <td>0.476923</td>\n",
       "      <td>0.411392</td>\n",
       "      <td>0.166667</td>\n",
       "      <td>0</td>\n",
       "    </tr>\n",
       "    <tr>\n",
       "      <th>1688</th>\n",
       "      <td>0.0</td>\n",
       "      <td>0.338462</td>\n",
       "      <td>0.644304</td>\n",
       "      <td>0.166667</td>\n",
       "      <td>0</td>\n",
       "    </tr>\n",
       "    <tr>\n",
       "      <th>2924</th>\n",
       "      <td>0.0</td>\n",
       "      <td>0.492308</td>\n",
       "      <td>0.600000</td>\n",
       "      <td>0.333333</td>\n",
       "      <td>0</td>\n",
       "    </tr>\n",
       "    <tr>\n",
       "      <th>1837</th>\n",
       "      <td>0.0</td>\n",
       "      <td>0.538462</td>\n",
       "      <td>0.426582</td>\n",
       "      <td>0.000000</td>\n",
       "      <td>0</td>\n",
       "    </tr>\n",
       "    <tr>\n",
       "      <th>3813</th>\n",
       "      <td>1.0</td>\n",
       "      <td>0.461538</td>\n",
       "      <td>0.508861</td>\n",
       "      <td>0.166667</td>\n",
       "      <td>0</td>\n",
       "    </tr>\n",
       "  </tbody>\n",
       "</table>\n",
       "</div>"
      ],
      "text/plain": [
       "      gender       age    income  family_members  insurance_benefits\n",
       "623      1.0  0.476923  0.411392        0.166667                   0\n",
       "1688     0.0  0.338462  0.644304        0.166667                   0\n",
       "2924     0.0  0.492308  0.600000        0.333333                   0\n",
       "1837     0.0  0.538462  0.426582        0.000000                   0\n",
       "3813     1.0  0.461538  0.508861        0.166667                   0"
      ]
     },
     "execution_count": 18,
     "metadata": {},
     "output_type": "execute_result"
    }
   ],
   "source": [
    "df_scaled.sample(5)"
   ]
  },
  {
   "cell_type": "markdown",
   "metadata": {},
   "source": [
    "Now, let's get similar records for a given one for every combination"
   ]
  },
  {
   "cell_type": "code",
   "execution_count": 19,
   "metadata": {},
   "outputs": [
    {
     "data": {
      "text/html": [
       "<div>\n",
       "<style scoped>\n",
       "    .dataframe tbody tr th:only-of-type {\n",
       "        vertical-align: middle;\n",
       "    }\n",
       "\n",
       "    .dataframe tbody tr th {\n",
       "        vertical-align: top;\n",
       "    }\n",
       "\n",
       "    .dataframe thead th {\n",
       "        text-align: right;\n",
       "    }\n",
       "</style>\n",
       "<table border=\"1\" class=\"dataframe\">\n",
       "  <thead>\n",
       "    <tr style=\"text-align: right;\">\n",
       "      <th></th>\n",
       "      <th>gender</th>\n",
       "      <th>age</th>\n",
       "      <th>income</th>\n",
       "      <th>family_members</th>\n",
       "      <th>insurance_benefits</th>\n",
       "      <th>distance</th>\n",
       "    </tr>\n",
       "  </thead>\n",
       "  <tbody>\n",
       "    <tr>\n",
       "      <th>3</th>\n",
       "      <td>0</td>\n",
       "      <td>21</td>\n",
       "      <td>41700.0</td>\n",
       "      <td>2</td>\n",
       "      <td>0</td>\n",
       "      <td>0.000000</td>\n",
       "    </tr>\n",
       "    <tr>\n",
       "      <th>2071</th>\n",
       "      <td>0</td>\n",
       "      <td>23</td>\n",
       "      <td>41700.0</td>\n",
       "      <td>0</td>\n",
       "      <td>0</td>\n",
       "      <td>2.828427</td>\n",
       "    </tr>\n",
       "    <tr>\n",
       "      <th>415</th>\n",
       "      <td>0</td>\n",
       "      <td>25</td>\n",
       "      <td>41700.0</td>\n",
       "      <td>2</td>\n",
       "      <td>0</td>\n",
       "      <td>4.000000</td>\n",
       "    </tr>\n",
       "    <tr>\n",
       "      <th>4723</th>\n",
       "      <td>1</td>\n",
       "      <td>26</td>\n",
       "      <td>41700.0</td>\n",
       "      <td>2</td>\n",
       "      <td>0</td>\n",
       "      <td>5.099020</td>\n",
       "    </tr>\n",
       "    <tr>\n",
       "      <th>4144</th>\n",
       "      <td>0</td>\n",
       "      <td>26</td>\n",
       "      <td>41700.0</td>\n",
       "      <td>0</td>\n",
       "      <td>0</td>\n",
       "      <td>5.385165</td>\n",
       "    </tr>\n",
       "  </tbody>\n",
       "</table>\n",
       "</div>"
      ],
      "text/plain": [
       "      gender  age   income  family_members  insurance_benefits  distance\n",
       "3          0   21  41700.0               2                   0  0.000000\n",
       "2071       0   23  41700.0               0                   0  2.828427\n",
       "415        0   25  41700.0               2                   0  4.000000\n",
       "4723       1   26  41700.0               2                   0  5.099020\n",
       "4144       0   26  41700.0               0                   0  5.385165"
      ]
     },
     "execution_count": 19,
     "metadata": {},
     "output_type": "execute_result"
    }
   ],
   "source": [
    "get_knn(df, 3, 5, 'euclidean')"
   ]
  },
  {
   "cell_type": "code",
   "execution_count": 20,
   "metadata": {},
   "outputs": [
    {
     "data": {
      "text/html": [
       "<div>\n",
       "<style scoped>\n",
       "    .dataframe tbody tr th:only-of-type {\n",
       "        vertical-align: middle;\n",
       "    }\n",
       "\n",
       "    .dataframe tbody tr th {\n",
       "        vertical-align: top;\n",
       "    }\n",
       "\n",
       "    .dataframe thead th {\n",
       "        text-align: right;\n",
       "    }\n",
       "</style>\n",
       "<table border=\"1\" class=\"dataframe\">\n",
       "  <thead>\n",
       "    <tr style=\"text-align: right;\">\n",
       "      <th></th>\n",
       "      <th>gender</th>\n",
       "      <th>age</th>\n",
       "      <th>income</th>\n",
       "      <th>family_members</th>\n",
       "      <th>insurance_benefits</th>\n",
       "      <th>distance</th>\n",
       "    </tr>\n",
       "  </thead>\n",
       "  <tbody>\n",
       "    <tr>\n",
       "      <th>3</th>\n",
       "      <td>0.0</td>\n",
       "      <td>0.323077</td>\n",
       "      <td>0.527848</td>\n",
       "      <td>0.333333</td>\n",
       "      <td>0</td>\n",
       "      <td>0.000000</td>\n",
       "    </tr>\n",
       "    <tr>\n",
       "      <th>29</th>\n",
       "      <td>0.0</td>\n",
       "      <td>0.323077</td>\n",
       "      <td>0.534177</td>\n",
       "      <td>0.333333</td>\n",
       "      <td>0</td>\n",
       "      <td>0.006329</td>\n",
       "    </tr>\n",
       "    <tr>\n",
       "      <th>1594</th>\n",
       "      <td>0.0</td>\n",
       "      <td>0.323077</td>\n",
       "      <td>0.518987</td>\n",
       "      <td>0.333333</td>\n",
       "      <td>0</td>\n",
       "      <td>0.008861</td>\n",
       "    </tr>\n",
       "    <tr>\n",
       "      <th>3808</th>\n",
       "      <td>0.0</td>\n",
       "      <td>0.307692</td>\n",
       "      <td>0.525316</td>\n",
       "      <td>0.333333</td>\n",
       "      <td>0</td>\n",
       "      <td>0.015592</td>\n",
       "    </tr>\n",
       "    <tr>\n",
       "      <th>3326</th>\n",
       "      <td>0.0</td>\n",
       "      <td>0.307692</td>\n",
       "      <td>0.530380</td>\n",
       "      <td>0.333333</td>\n",
       "      <td>0</td>\n",
       "      <td>0.015592</td>\n",
       "    </tr>\n",
       "  </tbody>\n",
       "</table>\n",
       "</div>"
      ],
      "text/plain": [
       "      gender       age    income  family_members  insurance_benefits  distance\n",
       "3        0.0  0.323077  0.527848        0.333333                   0  0.000000\n",
       "29       0.0  0.323077  0.534177        0.333333                   0  0.006329\n",
       "1594     0.0  0.323077  0.518987        0.333333                   0  0.008861\n",
       "3808     0.0  0.307692  0.525316        0.333333                   0  0.015592\n",
       "3326     0.0  0.307692  0.530380        0.333333                   0  0.015592"
      ]
     },
     "execution_count": 20,
     "metadata": {},
     "output_type": "execute_result"
    }
   ],
   "source": [
    "get_knn(df_scaled, 3, 5, 'euclidean')"
   ]
  },
  {
   "cell_type": "code",
   "execution_count": 21,
   "metadata": {},
   "outputs": [
    {
     "data": {
      "text/html": [
       "<div>\n",
       "<style scoped>\n",
       "    .dataframe tbody tr th:only-of-type {\n",
       "        vertical-align: middle;\n",
       "    }\n",
       "\n",
       "    .dataframe tbody tr th {\n",
       "        vertical-align: top;\n",
       "    }\n",
       "\n",
       "    .dataframe thead th {\n",
       "        text-align: right;\n",
       "    }\n",
       "</style>\n",
       "<table border=\"1\" class=\"dataframe\">\n",
       "  <thead>\n",
       "    <tr style=\"text-align: right;\">\n",
       "      <th></th>\n",
       "      <th>gender</th>\n",
       "      <th>age</th>\n",
       "      <th>income</th>\n",
       "      <th>family_members</th>\n",
       "      <th>insurance_benefits</th>\n",
       "      <th>distance</th>\n",
       "    </tr>\n",
       "  </thead>\n",
       "  <tbody>\n",
       "    <tr>\n",
       "      <th>3</th>\n",
       "      <td>0</td>\n",
       "      <td>21</td>\n",
       "      <td>41700.0</td>\n",
       "      <td>2</td>\n",
       "      <td>0</td>\n",
       "      <td>0.0</td>\n",
       "    </tr>\n",
       "    <tr>\n",
       "      <th>415</th>\n",
       "      <td>0</td>\n",
       "      <td>25</td>\n",
       "      <td>41700.0</td>\n",
       "      <td>2</td>\n",
       "      <td>0</td>\n",
       "      <td>4.0</td>\n",
       "    </tr>\n",
       "    <tr>\n",
       "      <th>2071</th>\n",
       "      <td>0</td>\n",
       "      <td>23</td>\n",
       "      <td>41700.0</td>\n",
       "      <td>0</td>\n",
       "      <td>0</td>\n",
       "      <td>4.0</td>\n",
       "    </tr>\n",
       "    <tr>\n",
       "      <th>4723</th>\n",
       "      <td>1</td>\n",
       "      <td>26</td>\n",
       "      <td>41700.0</td>\n",
       "      <td>2</td>\n",
       "      <td>0</td>\n",
       "      <td>6.0</td>\n",
       "    </tr>\n",
       "    <tr>\n",
       "      <th>4144</th>\n",
       "      <td>0</td>\n",
       "      <td>26</td>\n",
       "      <td>41700.0</td>\n",
       "      <td>0</td>\n",
       "      <td>0</td>\n",
       "      <td>7.0</td>\n",
       "    </tr>\n",
       "  </tbody>\n",
       "</table>\n",
       "</div>"
      ],
      "text/plain": [
       "      gender  age   income  family_members  insurance_benefits  distance\n",
       "3          0   21  41700.0               2                   0       0.0\n",
       "415        0   25  41700.0               2                   0       4.0\n",
       "2071       0   23  41700.0               0                   0       4.0\n",
       "4723       1   26  41700.0               2                   0       6.0\n",
       "4144       0   26  41700.0               0                   0       7.0"
      ]
     },
     "execution_count": 21,
     "metadata": {},
     "output_type": "execute_result"
    }
   ],
   "source": [
    "get_knn(df, 3, 5, 'manhattan')"
   ]
  },
  {
   "cell_type": "code",
   "execution_count": 22,
   "metadata": {},
   "outputs": [
    {
     "data": {
      "text/html": [
       "<div>\n",
       "<style scoped>\n",
       "    .dataframe tbody tr th:only-of-type {\n",
       "        vertical-align: middle;\n",
       "    }\n",
       "\n",
       "    .dataframe tbody tr th {\n",
       "        vertical-align: top;\n",
       "    }\n",
       "\n",
       "    .dataframe thead th {\n",
       "        text-align: right;\n",
       "    }\n",
       "</style>\n",
       "<table border=\"1\" class=\"dataframe\">\n",
       "  <thead>\n",
       "    <tr style=\"text-align: right;\">\n",
       "      <th></th>\n",
       "      <th>gender</th>\n",
       "      <th>age</th>\n",
       "      <th>income</th>\n",
       "      <th>family_members</th>\n",
       "      <th>insurance_benefits</th>\n",
       "      <th>distance</th>\n",
       "    </tr>\n",
       "  </thead>\n",
       "  <tbody>\n",
       "    <tr>\n",
       "      <th>3</th>\n",
       "      <td>0.0</td>\n",
       "      <td>0.323077</td>\n",
       "      <td>0.527848</td>\n",
       "      <td>0.333333</td>\n",
       "      <td>0</td>\n",
       "      <td>0.000000</td>\n",
       "    </tr>\n",
       "    <tr>\n",
       "      <th>29</th>\n",
       "      <td>0.0</td>\n",
       "      <td>0.323077</td>\n",
       "      <td>0.534177</td>\n",
       "      <td>0.333333</td>\n",
       "      <td>0</td>\n",
       "      <td>0.006329</td>\n",
       "    </tr>\n",
       "    <tr>\n",
       "      <th>1594</th>\n",
       "      <td>0.0</td>\n",
       "      <td>0.323077</td>\n",
       "      <td>0.518987</td>\n",
       "      <td>0.333333</td>\n",
       "      <td>0</td>\n",
       "      <td>0.008861</td>\n",
       "    </tr>\n",
       "    <tr>\n",
       "      <th>3808</th>\n",
       "      <td>0.0</td>\n",
       "      <td>0.307692</td>\n",
       "      <td>0.525316</td>\n",
       "      <td>0.333333</td>\n",
       "      <td>0</td>\n",
       "      <td>0.017916</td>\n",
       "    </tr>\n",
       "    <tr>\n",
       "      <th>3326</th>\n",
       "      <td>0.0</td>\n",
       "      <td>0.307692</td>\n",
       "      <td>0.530380</td>\n",
       "      <td>0.333333</td>\n",
       "      <td>0</td>\n",
       "      <td>0.017916</td>\n",
       "    </tr>\n",
       "  </tbody>\n",
       "</table>\n",
       "</div>"
      ],
      "text/plain": [
       "      gender       age    income  family_members  insurance_benefits  distance\n",
       "3        0.0  0.323077  0.527848        0.333333                   0  0.000000\n",
       "29       0.0  0.323077  0.534177        0.333333                   0  0.006329\n",
       "1594     0.0  0.323077  0.518987        0.333333                   0  0.008861\n",
       "3808     0.0  0.307692  0.525316        0.333333                   0  0.017916\n",
       "3326     0.0  0.307692  0.530380        0.333333                   0  0.017916"
      ]
     },
     "execution_count": 22,
     "metadata": {},
     "output_type": "execute_result"
    }
   ],
   "source": [
    "get_knn(df_scaled, 3, 5, 'manhattan')"
   ]
  },
  {
   "cell_type": "markdown",
   "metadata": {},
   "source": [
    "Answers to the questions"
   ]
  },
  {
   "cell_type": "markdown",
   "metadata": {},
   "source": [
    "**Does the data being not scaled affect the kNN algorithm? If so, how does that appear?** \n",
    "\n",
    "Yes, the data being scaled does affet the kNN algorithm. This can be observed by looking at the indexes of the nearest neighbors that were returned. The indices of the nearest neighbors for the non-scaled data are **3**, **415**, **2071**, **4723**, and **4144**. The indices of the nearest neighbors for the scaled data are **3**, **29**, **1594**, **3808**, and **3326**."
   ]
  },
  {
   "cell_type": "markdown",
   "metadata": {},
   "source": [
    "**How similar are the results using the Manhattan distance metric (regardless of the scaling)?** \n",
    "\n",
    "Results using the Manhattan distance metric are identcial the results using the Euclidean distance metric."
   ]
  },
  {
   "cell_type": "markdown",
   "metadata": {},
   "source": [
    "<div class=\"alert alert-warning\">\n",
    "<b>Reviewer's comment</b>\n",
    "\n",
    "To be more specific about what makes the results on scaled and unscaled data different let's look at the top neighbors on unscaled data. Notice how all of them have exactly the same income. Now the important point is that with unscaled data if some feature (like income) has a much bigger magnitude than others, then in the distance calculation it has much more weight, and the other features are basically disregarded. Scaling makes all features measured on the same scale.\n",
    "\n",
    "</div>"
   ]
  },
  {
   "cell_type": "markdown",
   "metadata": {},
   "source": [
    "# Task 2. Is Customer Likely to Receive Insurance Benefit?"
   ]
  },
  {
   "cell_type": "markdown",
   "metadata": {},
   "source": [
    "In terms of machine learning we can look at this like a binary classification task."
   ]
  },
  {
   "cell_type": "markdown",
   "metadata": {},
   "source": [
    "With `insurance_benefits` being more than zero as the target, evaluate whether the kNN classification approach can do better than a dummy model.\n",
    "\n",
    "Instructions:\n",
    "- Build a KNN-based classifier and measure its quality with the F1 metric for k=1..10 for both the original data and the scaled one. That'd be interesting to see how k may influece the evaluation metric, and whether scaling the data makes any difference. You can use a ready implemention of the kNN classification algorithm from scikit-learn (check [the link](https://scikit-learn.org/stable/modules/generated/sklearn.neighbors.KNeighborsClassifier.html)) or use your own.\n",
    "- Build the dummy model which is just random for this case. It should return \"1\" with some probability. Let's test the model with four probability values: 0, the probability of paying any insurance benefit, 0.5, 1.\n",
    "\n",
    "The probability of paying any insurance benefit can be defined as\n",
    "\n",
    "$$\n",
    "P\\{\\text{insurance benefit received}\\}=\\frac{\\text{number of clients received any insurance benefit}}{\\text{total number of clients}}.\n",
    "$$\n",
    "\n",
    "Split the whole data in the 70:30 proportion for the training/testing parts."
   ]
  },
  {
   "cell_type": "code",
   "execution_count": 23,
   "metadata": {},
   "outputs": [],
   "source": [
    "# calculate the target\n",
    "\n",
    "from sklearn.neighbors import KNeighborsClassifier\n",
    "\n",
    "def calculate_target(df):\n",
    "    ''''''\n",
    "    df.loc[df['insurance_benefits'] > 0, 'insurance_benefits_received'] = 1\n",
    "    df.loc[df['insurance_benefits'] == 0, 'insurance_benefits_received'] = 0\n",
    "        \n",
    "calculate_target(df)\n",
    "calculate_target(df_scaled)\n",
    "       "
   ]
  },
  {
   "cell_type": "code",
   "execution_count": 24,
   "metadata": {},
   "outputs": [
    {
     "data": {
      "text/plain": [
       "0.0    4284\n",
       "1.0     563\n",
       "Name: insurance_benefits_received, dtype: int64"
      ]
     },
     "execution_count": 24,
     "metadata": {},
     "output_type": "execute_result"
    }
   ],
   "source": [
    "# check for the class imbalance with value_counts()\n",
    "\n",
    "df['insurance_benefits_received'].value_counts()"
   ]
  },
  {
   "cell_type": "code",
   "execution_count": 25,
   "metadata": {},
   "outputs": [
    {
     "data": {
      "text/plain": [
       "0.0    4284\n",
       "1.0     563\n",
       "Name: insurance_benefits_received, dtype: int64"
      ]
     },
     "execution_count": 25,
     "metadata": {},
     "output_type": "execute_result"
    }
   ],
   "source": [
    "# check for the class imbalance with value_counts()\n",
    "\n",
    "df_scaled['insurance_benefits_received'].value_counts()"
   ]
  },
  {
   "cell_type": "markdown",
   "metadata": {},
   "source": [
    "Yes, there is significant class imbalance. There are only **563** positive targets compared to the **4,284** negative targets."
   ]
  },
  {
   "cell_type": "code",
   "execution_count": 26,
   "metadata": {},
   "outputs": [],
   "source": [
    "# split the data into 70:30 training and testing\n",
    "\n",
    "# Non-scaled data\n",
    "features = df.drop(['insurance_benefits', 'insurance_benefits_received'], axis=1)\n",
    "target = df['insurance_benefits_received']\n",
    "\n",
    "train_features, test_features, train_target, test_target = train_test_split(features, target, test_size=0.3, random_state=12345)\n",
    "\n",
    "# Scaled data\n",
    "features_scaled = df_scaled.drop(['insurance_benefits', 'insurance_benefits_received'], axis=1)\n",
    "target_scaled = df_scaled['insurance_benefits_received']\n",
    "train_features_scaled, test_features_scaled, train_target_scaled, test_target_scaled = train_test_split(features_scaled, target_scaled, test_size=0.3, random_state=12345)\n"
   ]
  },
  {
   "cell_type": "code",
   "execution_count": 27,
   "metadata": {},
   "outputs": [],
   "source": [
    "def eval_classifier(y_true, y_pred):\n",
    "    \n",
    "    f1_score = sklearn.metrics.f1_score(y_true, y_pred)\n",
    "    print(f'F1: {f1_score:.2f}')\n",
    "    \n",
    "# if you have an issue with the following line, restart the kernel and run the notebook again\n",
    "    cm = sklearn.metrics.confusion_matrix(y_true, y_pred, normalize='all')\n",
    "    print('Confusion Matrix')\n",
    "    print(cm)"
   ]
  },
  {
   "cell_type": "code",
   "execution_count": 28,
   "metadata": {},
   "outputs": [],
   "source": [
    "# generating output of a random model\n",
    "\n",
    "def rnd_model_predict(P, size, seed=42):\n",
    "\n",
    "    rng = np.random.default_rng(seed=seed)\n",
    "    return rng.binomial(n=1, p=P, size=size)"
   ]
  },
  {
   "cell_type": "markdown",
   "metadata": {},
   "source": [
    "### Euclidean method on non-scaled data"
   ]
  },
  {
   "cell_type": "code",
   "execution_count": 29,
   "metadata": {},
   "outputs": [
    {
     "name": "stdout",
     "output_type": "stream",
     "text": [
      "F1: 0.68\n",
      "Confusion Matrix\n",
      "[[0.86254296 0.02199313]\n",
      " [0.04536082 0.07010309]]\n",
      "F1: 0.38\n",
      "Confusion Matrix\n",
      "[[0.87972509 0.004811  ]\n",
      " [0.08728522 0.02817869]]\n",
      "F1: 0.38\n",
      "Confusion Matrix\n",
      "[[0.87147766 0.01305842]\n",
      " [0.08522337 0.03024055]]\n",
      "F1: 0.18\n",
      "Confusion Matrix\n",
      "[[0.8790378  0.00549828]\n",
      " [0.10378007 0.01168385]]\n",
      "F1: 0.23\n",
      "Confusion Matrix\n",
      "[[0.87766323 0.00687285]\n",
      " [0.09965636 0.01580756]]\n",
      "F1: 0.06\n",
      "Confusion Matrix\n",
      "[[8.83848797e-01 6.87285223e-04]\n",
      " [1.12027491e-01 3.43642612e-03]]\n",
      "F1: 0.07\n",
      "Confusion Matrix\n",
      "[[0.88316151 0.00137457]\n",
      " [0.11134021 0.00412371]]\n",
      "F1: 0.00\n",
      "Confusion Matrix\n",
      "[[0.88453608 0.        ]\n",
      " [0.11546392 0.        ]]\n",
      "F1: 0.01\n",
      "Confusion Matrix\n",
      "[[8.84536082e-01 0.00000000e+00]\n",
      " [1.14776632e-01 6.87285223e-04]]\n",
      "F1: 0.00\n",
      "Confusion Matrix\n",
      "[[0.88453608 0.        ]\n",
      " [0.11546392 0.        ]]\n"
     ]
    }
   ],
   "source": [
    "# Train kNN classifier for various k values, calculate F1 score\n",
    "# Non-scaled data\n",
    "for k in range(1, 11):\n",
    "    neigh = KNeighborsClassifier(n_neighbors=k, p=2)\n",
    "    neigh.fit(train_features, train_target)\n",
    "    predictions = neigh.predict(test_features)\n",
    "    eval_classifier(test_target, predictions)\n",
    "    "
   ]
  },
  {
   "cell_type": "markdown",
   "metadata": {},
   "source": [
    "### Euclidean method on scaled data"
   ]
  },
  {
   "cell_type": "code",
   "execution_count": 30,
   "metadata": {},
   "outputs": [
    {
     "name": "stdout",
     "output_type": "stream",
     "text": [
      "F1: 0.93\n",
      "Confusion Matrix\n",
      "[[0.87972509 0.004811  ]\n",
      " [0.01168385 0.10378007]]\n",
      "F1: 0.89\n",
      "Confusion Matrix\n",
      "[[0.88247423 0.00206186]\n",
      " [0.02199313 0.09347079]]\n",
      "F1: 0.91\n",
      "Confusion Matrix\n",
      "[[0.88041237 0.00412371]\n",
      " [0.01649485 0.09896907]]\n",
      "F1: 0.88\n",
      "Confusion Matrix\n",
      "[[0.88178694 0.00274914]\n",
      " [0.0233677  0.09209622]]\n",
      "F1: 0.89\n",
      "Confusion Matrix\n",
      "[[0.87972509 0.004811  ]\n",
      " [0.0185567  0.09690722]]\n",
      "F1: 0.87\n",
      "Confusion Matrix\n",
      "[[0.88178694 0.00274914]\n",
      " [0.02405498 0.09140893]]\n",
      "F1: 0.90\n",
      "Confusion Matrix\n",
      "[[0.88178694 0.00274914]\n",
      " [0.01924399 0.09621993]]\n",
      "F1: 0.86\n",
      "Confusion Matrix\n",
      "[[0.88178694 0.00274914]\n",
      " [0.02542955 0.09003436]]\n",
      "F1: 0.87\n",
      "Confusion Matrix\n",
      "[[0.88178694 0.00274914]\n",
      " [0.02405498 0.09140893]]\n",
      "F1: 0.86\n",
      "Confusion Matrix\n",
      "[[0.88178694 0.00274914]\n",
      " [0.02542955 0.09003436]]\n"
     ]
    }
   ],
   "source": [
    "# Train kNN classifier for various k values, calculate F1 score\n",
    "# Scaled data\n",
    "for k in range(1, 11):\n",
    "    neigh = KNeighborsClassifier(n_neighbors=k, p=2)\n",
    "    neigh.fit(train_features_scaled, train_target_scaled)\n",
    "    predictions = neigh.predict(test_features_scaled)\n",
    "    eval_classifier(test_target_scaled, predictions)"
   ]
  },
  {
   "cell_type": "markdown",
   "metadata": {},
   "source": [
    "### Manhattan method on non-scaled data"
   ]
  },
  {
   "cell_type": "code",
   "execution_count": 31,
   "metadata": {},
   "outputs": [
    {
     "name": "stdout",
     "output_type": "stream",
     "text": [
      "F1: 0.67\n",
      "Confusion Matrix\n",
      "[[0.86185567 0.02268041]\n",
      " [0.04604811 0.06941581]]\n",
      "F1: 0.39\n",
      "Confusion Matrix\n",
      "[[0.88041237 0.00412371]\n",
      " [0.08659794 0.02886598]]\n",
      "F1: 0.40\n",
      "Confusion Matrix\n",
      "[[0.87353952 0.01099656]\n",
      " [0.0838488  0.03161512]]\n",
      "F1: 0.19\n",
      "Confusion Matrix\n",
      "[[0.8790378  0.00549828]\n",
      " [0.10309278 0.01237113]]\n",
      "F1: 0.23\n",
      "Confusion Matrix\n",
      "[[0.87697595 0.00756014]\n",
      " [0.09965636 0.01580756]]\n",
      "F1: 0.06\n",
      "Confusion Matrix\n",
      "[[8.83848797e-01 6.87285223e-04]\n",
      " [1.12027491e-01 3.43642612e-03]]\n",
      "F1: 0.07\n",
      "Confusion Matrix\n",
      "[[0.88316151 0.00137457]\n",
      " [0.11134021 0.00412371]]\n",
      "F1: 0.01\n",
      "Confusion Matrix\n",
      "[[8.84536082e-01 0.00000000e+00]\n",
      " [1.14776632e-01 6.87285223e-04]]\n",
      "F1: 0.01\n",
      "Confusion Matrix\n",
      "[[8.84536082e-01 0.00000000e+00]\n",
      " [1.14776632e-01 6.87285223e-04]]\n",
      "F1: 0.00\n",
      "Confusion Matrix\n",
      "[[0.88453608 0.        ]\n",
      " [0.11546392 0.        ]]\n"
     ]
    }
   ],
   "source": [
    "# Train kNN classifier for various k values, calculate F1 score\n",
    "# Non-scaled data\n",
    "for k in range(1, 11):\n",
    "    neigh = KNeighborsClassifier(n_neighbors=k, p=1)\n",
    "    neigh.fit(train_features, train_target)\n",
    "    predictions = neigh.predict(test_features)\n",
    "    eval_classifier(test_target, predictions)"
   ]
  },
  {
   "cell_type": "markdown",
   "metadata": {},
   "source": [
    "### Manhattan method on scaled data"
   ]
  },
  {
   "cell_type": "code",
   "execution_count": 32,
   "metadata": {},
   "outputs": [
    {
     "name": "stdout",
     "output_type": "stream",
     "text": [
      "F1: 0.92\n",
      "Confusion Matrix\n",
      "[[0.87972509 0.004811  ]\n",
      " [0.01237113 0.10309278]]\n",
      "F1: 0.89\n",
      "Confusion Matrix\n",
      "[[0.88247423 0.00206186]\n",
      " [0.02061856 0.09484536]]\n",
      "F1: 0.93\n",
      "Confusion Matrix\n",
      "[[0.88178694 0.00274914]\n",
      " [0.01305842 0.1024055 ]]\n",
      "F1: 0.88\n",
      "Confusion Matrix\n",
      "[[0.88316151 0.00137457]\n",
      " [0.02405498 0.09140893]]\n",
      "F1: 0.90\n",
      "Confusion Matrix\n",
      "[[0.88109966 0.00343643]\n",
      " [0.0185567  0.09690722]]\n",
      "F1: 0.87\n",
      "Confusion Matrix\n",
      "[[0.88247423 0.00206186]\n",
      " [0.02474227 0.09072165]]\n",
      "F1: 0.89\n",
      "Confusion Matrix\n",
      "[[0.88109966 0.00343643]\n",
      " [0.01924399 0.09621993]]\n",
      "F1: 0.87\n",
      "Confusion Matrix\n",
      "[[0.88178694 0.00274914]\n",
      " [0.02474227 0.09072165]]\n",
      "F1: 0.88\n",
      "Confusion Matrix\n",
      "[[0.88178694 0.00274914]\n",
      " [0.02199313 0.09347079]]\n",
      "F1: 0.87\n",
      "Confusion Matrix\n",
      "[[0.88316151 0.00137457]\n",
      " [0.02542955 0.09003436]]\n"
     ]
    }
   ],
   "source": [
    "# Train kNN classifier for various k values, calculate F1 score\n",
    "# Scaled data\n",
    "for k in range(1, 11):\n",
    "    neigh = KNeighborsClassifier(n_neighbors=k, p=1)\n",
    "    neigh.fit(train_features_scaled, train_target_scaled)\n",
    "    predictions = neigh.predict(test_features_scaled)\n",
    "    eval_classifier(test_target_scaled, predictions)"
   ]
  },
  {
   "cell_type": "code",
   "execution_count": 33,
   "metadata": {},
   "outputs": [
    {
     "name": "stdout",
     "output_type": "stream",
     "text": [
      "The probability: 0.00\n",
      "F1: 0.00\n",
      "Confusion Matrix\n",
      "[[0.88384568 0.        ]\n",
      " [0.11615432 0.        ]]\n",
      "\n",
      "The probability: 0.12\n",
      "F1: 0.13\n",
      "Confusion Matrix\n",
      "[[0.78502166 0.09882401]\n",
      " [0.1017124  0.01444192]]\n",
      "\n",
      "The probability: 0.50\n",
      "F1: 0.19\n",
      "Confusion Matrix\n",
      "[[0.44873117 0.4351145 ]\n",
      " [0.05921188 0.05694244]]\n",
      "\n",
      "The probability: 1.00\n",
      "F1: 0.21\n",
      "Confusion Matrix\n",
      "[[0.         0.88384568]\n",
      " [0.         0.11615432]]\n",
      "\n"
     ]
    }
   ],
   "source": [
    "\n",
    "for P in [0, df['insurance_benefits_received'].sum() / len(df), 0.5, 1]:\n",
    "\n",
    "    print(f'The probability: {P:.2f}')\n",
    "    y_pred_rnd = rnd_model_predict(P, len(df))\n",
    "\n",
    "    eval_classifier(df['insurance_benefits_received'], y_pred_rnd)\n",
    "\n",
    "    print()"
   ]
  },
  {
   "cell_type": "markdown",
   "metadata": {},
   "source": [
    "### Conclusions summary\n",
    "\n",
    "When utilizng non-scaled data, it appears that as you add more neighbors that they F1 score begins to decrease, rather quickly. All four of the KNeighborClassifier instances start off much better than the dummy model, but as more neighbors were added, the F1 score for models using non-scaled data fell inline with the dummy model with a score of **0**. The best results were obtained when using the scaled data. The best F1 score was **93** when either the Euclidean or Manhattan method was only using 1 neighbor with the scaled data."
   ]
  },
  {
   "cell_type": "markdown",
   "metadata": {},
   "source": [
    "# Task 3. Regression (with Linear Regression)"
   ]
  },
  {
   "cell_type": "markdown",
   "metadata": {},
   "source": [
    "With `insurance_benefits` as the target, evaluate what RMSE would be for a Linear Regression model."
   ]
  },
  {
   "cell_type": "markdown",
   "metadata": {},
   "source": [
    "Build your own implementation of LR. For that, recall how the linear regression task's solution is formulated in terms of LA. Check RMSE for both the original data and the scaled one. Can you see any difference in RMSE between these two cases?\n",
    "\n",
    "Let's denote\n",
    "- $X$ — feature matrix, each row is a case, each column is a feature, the first column consists of unities\n",
    "- $y$ — target (a vector)\n",
    "- $\\hat{y}$ — estimated tagret (a vector)\n",
    "- $w$ — weight vector\n",
    "\n",
    "The task of linear regression in the language of matrices can be formulated as\n",
    "\n",
    "$$\n",
    "y = Xw\n",
    "$$\n",
    "\n",
    "The training objective then is to find such $w$ that it would minimize the L2-distance (MSE) between $Xw$ and $y$:\n",
    "\n",
    "$$\n",
    "\\min_w d_2(Xw, y) \\quad \\text{or} \\quad \\min_w \\text{MSE}(Xw, y)\n",
    "$$\n",
    "\n",
    "It appears that there is analytical solution for the above:\n",
    "\n",
    "$$\n",
    "w = (X^T X)^{-1} X^T y\n",
    "$$\n",
    "\n",
    "The formula above can be used to find the weights $w$ and the latter can be used to calculate predicted values\n",
    "\n",
    "$$\n",
    "\\hat{y} = X_{val}w\n",
    "$$"
   ]
  },
  {
   "cell_type": "markdown",
   "metadata": {},
   "source": [
    "Split the whole data in the 70:30 proportion for the training/validation parts. Use the RMSE metric for the model evaluation."
   ]
  },
  {
   "cell_type": "code",
   "execution_count": 34,
   "metadata": {},
   "outputs": [],
   "source": [
    "class MyLinearRegression:\n",
    "    \n",
    "    def __init__(self):\n",
    "        \n",
    "        self.weights = None\n",
    "    \n",
    "    def fit(self, X, y):\n",
    "        \n",
    "        # adding the unities\n",
    "        X2 = np.append(np.ones([len(X), 1]), X, axis=1)\n",
    "        self.weights = ((np.linalg.inv(X2.T.dot(X2))).dot(X2.T)).dot(y)\n",
    "        self.w = self.weights[1:]\n",
    "        self.w0 = self.weights[0]\n",
    "\n",
    "    def predict(self, X):\n",
    "        y_pred = X.dot(self.w) + self.w0\n",
    "        \n",
    "        return y_pred"
   ]
  },
  {
   "cell_type": "code",
   "execution_count": 35,
   "metadata": {},
   "outputs": [],
   "source": [
    "def eval_regressor(y_true, y_pred):\n",
    "    \n",
    "    rmse = math.sqrt(sklearn.metrics.mean_squared_error(y_true, y_pred))\n",
    "    print(f'RMSE: {rmse:.2f}')\n",
    "    \n",
    "    r2_score = math.sqrt(sklearn.metrics.r2_score(y_true, y_pred))\n",
    "    print(f'R2: {r2_score:.2f}')    "
   ]
  },
  {
   "cell_type": "code",
   "execution_count": 36,
   "metadata": {},
   "outputs": [
    {
     "name": "stdout",
     "output_type": "stream",
     "text": [
      "[-9.77366729e-01  3.58042291e-02  1.95594888e-02  5.85336165e-07\n",
      " -1.21618420e-02]\n",
      "RMSE: 0.36\n",
      "R2: 0.66\n"
     ]
    }
   ],
   "source": [
    "X = df[['age', 'gender', 'income', 'family_members']].to_numpy()\n",
    "y = df['insurance_benefits'].to_numpy()\n",
    "\n",
    "X_train, X_test, y_train, y_test = train_test_split(X, y, test_size=0.3, random_state=12345)\n",
    "\n",
    "lr = MyLinearRegression()\n",
    "\n",
    "lr.fit(X_train, y_train)\n",
    "print(lr.weights)\n",
    "\n",
    "y_test_pred = lr.predict(X_test)\n",
    "eval_regressor(y_test, y_test_pred)"
   ]
  },
  {
   "cell_type": "code",
   "execution_count": 37,
   "metadata": {},
   "outputs": [
    {
     "name": "stdout",
     "output_type": "stream",
     "text": [
      "[-0.97736673  2.32727489  0.01955949  0.04624156 -0.07297105]\n",
      "RMSE: 0.36\n",
      "R2: 0.66\n"
     ]
    }
   ],
   "source": [
    "X = df_scaled[['age', 'gender', 'income', 'family_members']].to_numpy()\n",
    "y = df_scaled['insurance_benefits'].to_numpy()\n",
    "\n",
    "X_train, X_test, y_train, y_test = train_test_split(X, y, test_size=0.3, random_state=12345)\n",
    "\n",
    "lr = MyLinearRegression()\n",
    "\n",
    "lr.fit(X_train, y_train)\n",
    "print(lr.weights)\n",
    "\n",
    "y_test_pred = lr.predict(X_test)\n",
    "eval_regressor(y_test, y_test_pred)"
   ]
  },
  {
   "cell_type": "markdown",
   "metadata": {},
   "source": [
    "The RMSE and R2 are equivalent for both the model trained with non-scaled data and the model trained with scaled data. A difference between the two models is not observed."
   ]
  },
  {
   "cell_type": "markdown",
   "metadata": {},
   "source": [
    "# Task 4. Obfuscating Data"
   ]
  },
  {
   "cell_type": "markdown",
   "metadata": {},
   "source": [
    "It best to obfuscate data by multiplying the numerical features (remember, they can be seen as the matrix $X$) by an invertible matrix $P$. \n",
    "\n",
    "$$\n",
    "X' = X \\times P\n",
    "$$\n",
    "\n",
    "Try to do that and check how the features' values will look like after the transformation. By the way, the intertible property is important here so make sure that $P$ is indeed invertible.\n",
    "\n",
    "You may want to review the 'Matrices and Matrix Operations -> Matrix Multiplication' lesson to recall the rule of matrix multiplication and its implementation with NumPy."
   ]
  },
  {
   "cell_type": "code",
   "execution_count": 38,
   "metadata": {},
   "outputs": [],
   "source": [
    "personal_info_column_list = ['gender', 'age', 'income', 'family_members']\n",
    "df_pn = df[personal_info_column_list]"
   ]
  },
  {
   "cell_type": "code",
   "execution_count": 39,
   "metadata": {},
   "outputs": [],
   "source": [
    "X = df_pn.to_numpy()"
   ]
  },
  {
   "cell_type": "markdown",
   "metadata": {},
   "source": [
    "Generating a random matrix $P$."
   ]
  },
  {
   "cell_type": "code",
   "execution_count": 40,
   "metadata": {},
   "outputs": [],
   "source": [
    "rng = np.random.default_rng(seed=42)\n",
    "P = rng.random(size=(X.shape[1], X.shape[1]))"
   ]
  },
  {
   "cell_type": "markdown",
   "metadata": {},
   "source": [
    "Checking the matrix $P$ is invertible"
   ]
  },
  {
   "cell_type": "code",
   "execution_count": 41,
   "metadata": {},
   "outputs": [
    {
     "name": "stdout",
     "output_type": "stream",
     "text": [
      "The matrix P is invertible\n"
     ]
    }
   ],
   "source": [
    "try:\n",
    "    P_inverse = np.linalg.inv(P)\n",
    "    print('The matrix P is invertible')\n",
    "except:\n",
    "    print('The matrix P is non-invertible')"
   ]
  },
  {
   "cell_type": "markdown",
   "metadata": {},
   "source": [
    "Can you guess the customers' ages or income after the transformation?"
   ]
  },
  {
   "cell_type": "markdown",
   "metadata": {},
   "source": [
    "No, I cannot determine the customers' ages or income after the tranformation. The numbers presented are incredibly large, and cannot be used to determine any personal info about the customers."
   ]
  },
  {
   "cell_type": "markdown",
   "metadata": {},
   "source": [
    "Print all three cases for a few customers\n",
    "- The original data\n",
    "- The transformed one\n",
    "- The reversed (recovered) one"
   ]
  },
  {
   "cell_type": "markdown",
   "metadata": {},
   "source": [
    "Original Data:"
   ]
  },
  {
   "cell_type": "code",
   "execution_count": 42,
   "metadata": {},
   "outputs": [
    {
     "data": {
      "text/plain": [
       "array([[1.00e+00, 4.10e+01, 4.96e+04, 1.00e+00],\n",
       "       [0.00e+00, 4.60e+01, 3.80e+04, 1.00e+00],\n",
       "       [0.00e+00, 2.90e+01, 2.10e+04, 0.00e+00],\n",
       "       ...,\n",
       "       [0.00e+00, 2.00e+01, 3.39e+04, 2.00e+00],\n",
       "       [1.00e+00, 2.20e+01, 3.27e+04, 3.00e+00],\n",
       "       [1.00e+00, 2.80e+01, 4.06e+04, 1.00e+00]])"
      ]
     },
     "execution_count": 42,
     "metadata": {},
     "output_type": "execute_result"
    }
   ],
   "source": [
    "X"
   ]
  },
  {
   "cell_type": "markdown",
   "metadata": {},
   "source": [
    "Transformed Data:"
   ]
  },
  {
   "cell_type": "code",
   "execution_count": 43,
   "metadata": {},
   "outputs": [],
   "source": [
    "# multiply x by P\n",
    "X_obfuscated = X.dot(P)"
   ]
  },
  {
   "cell_type": "code",
   "execution_count": 44,
   "metadata": {},
   "outputs": [
    {
     "data": {
      "text/plain": [
       "array([[ 6359.71527314, 22380.40467609, 18424.09074184, 46000.69669016],\n",
       "       [ 4873.29406479, 17160.36702982, 14125.78076133, 35253.45577301],\n",
       "       [ 2693.11742928,  9486.397744  ,  7808.83156024, 19484.86063067],\n",
       "       ...,\n",
       "       [ 4346.2234249 , 15289.24126492, 12586.16264392, 31433.50888552],\n",
       "       [ 4194.09324155, 14751.9910242 , 12144.02930637, 30323.88763426],\n",
       "       [ 5205.46827354, 18314.24814446, 15077.01370762, 37649.59295455]])"
      ]
     },
     "execution_count": 44,
     "metadata": {},
     "output_type": "execute_result"
    }
   ],
   "source": [
    "X_obfuscated"
   ]
  },
  {
   "cell_type": "markdown",
   "metadata": {},
   "source": [
    "Can you recover the original data from $X'$ if you know $P$? Try to check that with calculations by moving $P$ from the right side of the formula above to the left one. The rules of matrix multiplcation are really helpful here."
   ]
  },
  {
   "cell_type": "markdown",
   "metadata": {},
   "source": [
    "The reversed (recovered) one"
   ]
  },
  {
   "cell_type": "code",
   "execution_count": 45,
   "metadata": {},
   "outputs": [
    {
     "data": {
      "text/plain": [
       "array([[ 1.00000000e+00,  4.10000000e+01,  4.96000000e+04,\n",
       "         1.00000000e+00],\n",
       "       [ 1.67952800e-12,  4.60000000e+01,  3.80000000e+04,\n",
       "         1.00000000e+00],\n",
       "       [-6.23021448e-13,  2.90000000e+01,  2.10000000e+04,\n",
       "        -2.03032656e-13],\n",
       "       ...,\n",
       "       [ 1.57996161e-12,  2.00000000e+01,  3.39000000e+04,\n",
       "         2.00000000e+00],\n",
       "       [ 1.00000000e+00,  2.20000000e+01,  3.27000000e+04,\n",
       "         3.00000000e+00],\n",
       "       [ 1.00000000e+00,  2.80000000e+01,  4.06000000e+04,\n",
       "         1.00000000e+00]])"
      ]
     },
     "execution_count": 45,
     "metadata": {},
     "output_type": "execute_result"
    }
   ],
   "source": [
    "X_obfuscated.dot(np.linalg.inv(P))"
   ]
  },
  {
   "cell_type": "markdown",
   "metadata": {},
   "source": [
    "You can probably see that some values are not exactly the same as they are in the original data. What might be the reason for that?"
   ]
  },
  {
   "cell_type": "markdown",
   "metadata": {},
   "source": [
    "Due to the way Python executes certain arithmetic some numbers do not come out to a perfect zero. Instead they are just returned as a very, very small number. But, for all intensive purposes the very, very small numbers can be viewed as being equivalent to zero."
   ]
  },
  {
   "cell_type": "markdown",
   "metadata": {},
   "source": [
    "## Proof That Data Obfuscation Can Work with LR"
   ]
  },
  {
   "cell_type": "markdown",
   "metadata": {},
   "source": [
    "The regression task has been solved with linear regression in this project. Your next task is to prove _analytically_ that the given obfuscation method won't affect linear regression in terms of predicted values i.e. their values will remain the same. Can you believe that? Well, you don't have to, you should prove it!"
   ]
  },
  {
   "cell_type": "markdown",
   "metadata": {},
   "source": [
    "So, the data is obfuscated and there is $X \\times P$ instead of just $X$ now. Consequently, there are other weights $w_P$ as\n",
    "$$\n",
    "w = (X^T X)^{-1} X^T y \\quad \\Rightarrow \\quad w_P = [(XP)^T XP]^{-1} (XP)^T y\n",
    "$$\n",
    "\n",
    "How would $w$ and $w_P$ be linked if you simplify the formula for $w_P$ above? \n",
    "\n",
    "What would be predicted values with $w_P$? \n",
    "\n",
    "What does that mean for the quality of linear regression if you measure it with RMSE?\n",
    "\n",
    "Check Appendix B Properties of Matrices in the end of the notebook. There are useful formulas in there!\n",
    "\n",
    "No code is necessary in this section, only analytical explanation!"
   ]
  },
  {
   "cell_type": "markdown",
   "metadata": {},
   "source": [
    "**Answer**"
   ]
  },
  {
   "cell_type": "markdown",
   "metadata": {},
   "source": [
    "$$w_P = P^{-1}w$$"
   ]
  },
  {
   "cell_type": "markdown",
   "metadata": {},
   "source": [
    "**Analytical proof**"
   ]
  },
  {
   "cell_type": "markdown",
   "metadata": {},
   "source": [
    "Initial formula:\n",
    "\n",
    "\n",
    "$$w_P = [(XP)^{T}XP]^{-1}(XP)^{T}y$$\n",
    "\n",
    "\n",
    "Reverse transpose:\n",
    "\n",
    "\n",
    "$$w_P = [(X^{T}P^{T})XP]^{-1}(X^{T}P^{T})y$$\n",
    "\n",
    "\n",
    "Rearrange using associative property:\n",
    "\n",
    "\n",
    "$$w_P = [(X^{T}X)P^{T}P]^{-1}(X^{T}P^{T})y$$\n",
    "\n",
    "\n",
    "Apply properties of inverse matrices:\n",
    "\n",
    "\n",
    "$$w_P = (X^{T}X)^{-1}(P^{T})^{-1}P^{-1}X^{T}P^{T}y$$\n",
    "\n",
    "\n",
    "Rearrange:\n",
    "\n",
    "\n",
    "$$w_P = (X^{T}X)^{-1}P^{T}(P^{T})^{-1}P^{-1}X^{T}y$$\n",
    "\n",
    "\n",
    "Apply properties of inverse matrices:\n",
    "\n",
    "\n",
    "$$w_P = (X^{T}X)^{-1}P^{-1}X^{T}y$$\n",
    "\n",
    "\n",
    "Rearrange:\n",
    "\n",
    "\n",
    "$$w_P = P^{-1}(X^T X)^{-1} X^T y$$\n",
    "\n",
    "\n",
    "Substitute $w$ in:\n",
    "\n",
    "\n",
    "$$w_P = P^{-1}w$$"
   ]
  },
  {
   "cell_type": "markdown",
   "metadata": {},
   "source": [
    "The predicted values and RMSE will be the same using $w$ or $w_p$."
   ]
  },
  {
   "cell_type": "markdown",
   "metadata": {},
   "source": [
    "## Test Linear Regression With Data Obfuscation"
   ]
  },
  {
   "cell_type": "markdown",
   "metadata": {},
   "source": [
    "Now, let's prove Linear Regression can work computationally with the chosen obfuscation transformation.\n",
    "\n",
    "Build a procedure or a class that runs Linear Regression optionally with the obfuscation. You can use either a ready implementation of Linear Regression from sciki-learn or your own.\n",
    "\n",
    "Run Linear Regression for the original data and the obfuscated one, compare the predicted values and the RMSE, $R^2$ metric values. Is there any difference?"
   ]
  },
  {
   "cell_type": "markdown",
   "metadata": {},
   "source": [
    "**Procedure**\n",
    "\n",
    "- Create a square matrix $P$ of random numbers.\n",
    "- Check that it is invertible. If not, repeat the first point until we get an invertible matrix.\n",
    "- Use $XP$ as the new feature matrix"
   ]
  },
  {
   "cell_type": "code",
   "execution_count": 46,
   "metadata": {},
   "outputs": [],
   "source": [
    "class MyObfuscatedLinearRegression:\n",
    "    \n",
    "    def __init__(self):\n",
    "        \n",
    "        self.weights = None\n",
    "    \n",
    "    def fit(self, X, y, obfuscated=False):\n",
    "        self.obfuscated = obfuscated\n",
    "        if self.obfuscated == True:\n",
    "            print('obfuscated')\n",
    "            X2 = np.append(np.ones([len(X), 1]), X, axis=1)\n",
    "            self.P = self.check_for_inverse(X2)\n",
    "            self.weights = ((np.linalg.inv(((X2.dot(self.P)).T).dot(X2.dot(self.P)))).dot((X2.dot(self.P)).T)).dot(y)\n",
    "  \n",
    "        else:\n",
    "            print('Not obfuscated')\n",
    "            X2 = np.append(np.ones([len(X), 1]), X, axis=1)\n",
    "            self.weights = ((np.linalg.inv(X2.T.dot(X2))).dot(X2.T)).dot(y)\n",
    "\n",
    "    def predict(self, X):\n",
    "        if self.obfuscated == True:\n",
    "            X2 = np.append(np.ones([len(X), 1]), X, axis=1)\n",
    "            y_pred = (X2.dot(self.P)).dot(self.weights)\n",
    "        else:\n",
    "            X2 = np.append(np.ones([len(X), 1]), X, axis=1)\n",
    "            y_pred = X2.dot(self.weights)\n",
    "        \n",
    "        return y_pred\n",
    "    \n",
    "    def check_for_inverse(self, X):\n",
    "        #initialize random generator\n",
    "        rng = np.random.default_rng(seed=42)\n",
    "        \n",
    "        while True:\n",
    "            P = rng.random(size=(X.shape[1], X.shape[1]))\n",
    "            try:\n",
    "                np.linalg.inv(P)\n",
    "                print(\"The matrix, P, is invertible.\")\n",
    "                return P\n",
    "            except:\n",
    "                continue\n",
    "        "
   ]
  },
  {
   "cell_type": "code",
   "execution_count": 47,
   "metadata": {},
   "outputs": [
    {
     "name": "stdout",
     "output_type": "stream",
     "text": [
      "Not obfuscated\n",
      "[-0.97736673  2.32727489  0.01955949  0.04624156 -0.07297105]\n",
      "RMSE: 0.36\n",
      "R2: 0.66\n"
     ]
    }
   ],
   "source": [
    "# Regular\n",
    "molr = MyObfuscatedLinearRegression()\n",
    "molr\n",
    "\n",
    "molr.fit(X_train, y_train)\n",
    "print(molr.weights)\n",
    "\n",
    "y_test_pred = molr.predict(X_test)\n",
    "eval_regressor(y_test, y_test_pred)"
   ]
  },
  {
   "cell_type": "code",
   "execution_count": 48,
   "metadata": {},
   "outputs": [
    {
     "name": "stdout",
     "output_type": "stream",
     "text": [
      "obfuscated\n",
      "The matrix, P, is invertible.\n",
      "[ 0.81359993  1.52880978 -0.45081985 -3.04570839  2.47441331]\n",
      "RMSE: 0.36\n",
      "R2: 0.66\n"
     ]
    }
   ],
   "source": [
    "# Obfuscated\n",
    "molr = MyObfuscatedLinearRegression()\n",
    "\n",
    "molr.fit(X_train, y_train, obfuscated=True)\n",
    "print(molr.weights)\n",
    "\n",
    "y_test_pred = molr.predict(X_test)\n",
    "eval_regressor(y_test, y_test_pred)"
   ]
  },
  {
   "cell_type": "markdown",
   "metadata": {},
   "source": [
    "As can be seen, the RMSE and R2 score using non-obfuscated data and obfuscated data are the same. There is no difference between the two methods."
   ]
  },
  {
   "cell_type": "markdown",
   "metadata": {},
   "source": [
    "# Conclusions\n",
    "\n",
    "Throughout this project we have learned quite a bit about kNN models, the Euclidean method, the Manhattan method, Linear Regression, and obfuscation. We first examined how KNeighborsClassifier models differed depending on if they were passed scaled or non-scaled data and how many k neighbors the models were to use. It was quickly seen that training models with scaled data outputed better results. We then tested Linear Regression on both the scaled and non-scaled datasets. No differences were seen between the RMSE and R2 values for either model. Finally, we tested whether or not we would obtain the same predictions after performing obfuscation on the original dataset. It was observed that the RMSE and R2 values were the same after obfuscation as they were before obfuscation. "
   ]
  },
  {
   "cell_type": "markdown",
   "metadata": {},
   "source": [
    "# Checklist"
   ]
  },
  {
   "cell_type": "markdown",
   "metadata": {},
   "source": [
    "Type 'x' to check. Then press Shift+Enter."
   ]
  },
  {
   "cell_type": "markdown",
   "metadata": {},
   "source": [
    "- [x]  Jupyter Notebook is open\n",
    "- [x]  Code is error free\n",
    "- [x]  The cells are arranged in order of logic and execution\n",
    "- [x]  Task 1 has been performed\n",
    "    - [x]  There is the procedure that can return k similar customers for a given one\n",
    "    - [x]  The procedure is tested for all four proposed combinations\n",
    "    - [x]  The questions re the scaling/distances are answered\n",
    "- [x]  Task 2 has been performed\n",
    "    - [x]  The random classification model is built and tested for all for probability levels\n",
    "    - [x]  The kNN classification model is built and tested for both the original data and the scaled one, the F1 metric is calculated.\n",
    "- [x]  Task 3 has been performed\n",
    "    - [x]  The linear regression solution is implemented with matrix operations.\n",
    "    - [x]  RMSE is calculated for the implemented solution.\n",
    "- [x]  Task 4 has been performed\n",
    "    - [x]  The data is obfuscated with a random and invertible matrix P\n",
    "    - [x]  The obfuscated data is recoved, few examples are printed out\n",
    "    - [x]  The analytical proof that the transformation does not affect RMSE is provided \n",
    "    - [x]  The computational proof that the transformation does not affect RMSE is provided\n",
    "- [x]  Conclusions have been made"
   ]
  },
  {
   "cell_type": "markdown",
   "metadata": {},
   "source": [
    "# Appendices \n",
    "\n",
    "## Appendix A: Writing Formulas in Jupyter Notebooks"
   ]
  },
  {
   "cell_type": "markdown",
   "metadata": {},
   "source": [
    "You can write formulas in your Jupyter Notebook in a markup language provided by a high-quality publishing system called $\\LaTeX$ (pronounced \"Lah-tech\"), and they will look like formulas in textbooks.\n",
    "\n",
    "To put a formula in a text, put the dollar sign (\\\\$) before and after the formula's text e.g. $\\frac{1}{2} \\times \\frac{3}{2} = \\frac{3}{4}$ or $y = x^2, x \\ge 1$.\n",
    "\n",
    "If a formula should be in its own paragraph, put the double dollar sign (\\\\$\\\\$) before and after the formula text e.g.\n",
    "\n",
    "$$\n",
    "\\bar{x} = \\frac{1}{n}\\sum_{i=1}^{n} x_i.\n",
    "$$\n",
    "\n",
    "The markup language of [LaTeX](https://en.wikipedia.org/wiki/LaTeX) is very popular among people who use formulas in their articles, books and texts. It can be complex but its basics are easy. Check this two page [cheatsheet](http://tug.ctan.org/info/undergradmath/undergradmath.pdf) for learning how to compose the most common formulas."
   ]
  },
  {
   "cell_type": "markdown",
   "metadata": {},
   "source": [
    "## Appendix B: Properties of Matrices"
   ]
  },
  {
   "cell_type": "markdown",
   "metadata": {},
   "source": [
    "Matrices have many properties in Linear Algebra. A few of them are listed here which can help with the analytical proof in this project."
   ]
  },
  {
   "cell_type": "markdown",
   "metadata": {},
   "source": [
    "<table>\n",
    "<tr>\n",
    "<td>Distributivity</td><td>$A(B+C)=AB+AC$</td>\n",
    "</tr>\n",
    "<tr>\n",
    "<td>Non-commutativity</td><td>$AB \\neq BA$</td>\n",
    "</tr>\n",
    "<tr>\n",
    "<td>Associative property of multiplication</td><td>$(AB)C = A(BC)$</td>\n",
    "</tr>\n",
    "<tr>\n",
    "<td>Multiplicative identity property</td><td>$IA = AI = A$</td>\n",
    "</tr>\n",
    "<tr>\n",
    "<td></td><td>$A^{-1}A = AA^{-1} = I$\n",
    "</td>\n",
    "</tr>    \n",
    "<tr>\n",
    "<td></td><td>$(AB)^{-1} = B^{-1}A^{-1}$</td>\n",
    "</tr>    \n",
    "<tr>\n",
    "<td>Reversivity of the transpose of a product of matrices,</td><td>$(AB)^T = B^TA^T$</td>\n",
    "</tr>    \n",
    "</table>"
   ]
  }
 ],
 "metadata": {
  "ExecuteTimeLog": [
   {
    "duration": 8554,
    "start_time": "2022-07-10T18:03:55.160Z"
   },
   {
    "duration": 1441,
    "start_time": "2022-07-10T18:04:03.716Z"
   },
   {
    "duration": 4,
    "start_time": "2022-07-10T18:04:11.049Z"
   },
   {
    "duration": 41,
    "start_time": "2022-07-10T18:04:13.644Z"
   },
   {
    "duration": 4,
    "start_time": "2022-07-10T18:04:15.364Z"
   },
   {
    "duration": 15,
    "start_time": "2022-07-10T18:04:15.680Z"
   },
   {
    "duration": 12,
    "start_time": "2022-07-10T18:04:18.480Z"
   },
   {
    "duration": 42,
    "start_time": "2022-07-11T01:41:40.538Z"
   },
   {
    "duration": 6115,
    "start_time": "2022-07-11T01:46:11.653Z"
   },
   {
    "duration": 1329,
    "start_time": "2022-07-11T01:46:17.770Z"
   },
   {
    "duration": 38,
    "start_time": "2022-07-11T01:46:19.100Z"
   },
   {
    "duration": 3,
    "start_time": "2022-07-11T01:46:19.139Z"
   },
   {
    "duration": 22,
    "start_time": "2022-07-11T01:46:19.144Z"
   },
   {
    "duration": 10,
    "start_time": "2022-07-11T01:46:19.167Z"
   },
   {
    "duration": 3,
    "start_time": "2022-07-11T01:46:19.178Z"
   },
   {
    "duration": 6,
    "start_time": "2022-07-11T01:46:19.182Z"
   },
   {
    "duration": 4,
    "start_time": "2022-07-11T01:46:19.189Z"
   },
   {
    "duration": 3252,
    "start_time": "2022-07-11T01:46:19.195Z"
   },
   {
    "duration": 2,
    "start_time": "2022-07-11T01:46:22.449Z"
   },
   {
    "duration": 98,
    "start_time": "2022-07-11T01:46:22.452Z"
   },
   {
    "duration": 0,
    "start_time": "2022-07-11T01:46:22.552Z"
   },
   {
    "duration": 0,
    "start_time": "2022-07-11T01:46:22.553Z"
   },
   {
    "duration": 0,
    "start_time": "2022-07-11T01:46:22.554Z"
   },
   {
    "duration": 0,
    "start_time": "2022-07-11T01:46:22.555Z"
   },
   {
    "duration": 0,
    "start_time": "2022-07-11T01:46:22.556Z"
   },
   {
    "duration": 0,
    "start_time": "2022-07-11T01:46:22.557Z"
   },
   {
    "duration": 0,
    "start_time": "2022-07-11T01:46:22.558Z"
   },
   {
    "duration": 0,
    "start_time": "2022-07-11T01:46:22.559Z"
   },
   {
    "duration": 0,
    "start_time": "2022-07-11T01:46:22.560Z"
   },
   {
    "duration": 0,
    "start_time": "2022-07-11T01:46:22.561Z"
   },
   {
    "duration": 0,
    "start_time": "2022-07-11T01:46:22.562Z"
   },
   {
    "duration": 0,
    "start_time": "2022-07-11T01:46:22.563Z"
   },
   {
    "duration": 0,
    "start_time": "2022-07-11T01:46:22.564Z"
   },
   {
    "duration": 10,
    "start_time": "2022-07-11T01:46:30.763Z"
   },
   {
    "duration": 8294,
    "start_time": "2022-07-16T21:46:19.894Z"
   },
   {
    "duration": 1421,
    "start_time": "2022-07-16T21:46:30.158Z"
   },
   {
    "duration": 69,
    "start_time": "2022-07-16T21:52:22.007Z"
   },
   {
    "duration": 4,
    "start_time": "2022-07-16T21:52:24.567Z"
   },
   {
    "duration": 15,
    "start_time": "2022-07-16T21:52:25.250Z"
   },
   {
    "duration": 14,
    "start_time": "2022-07-16T21:52:27.192Z"
   },
   {
    "duration": 5,
    "start_time": "2022-07-16T21:53:31.844Z"
   },
   {
    "duration": 14,
    "start_time": "2022-07-16T21:53:41.551Z"
   },
   {
    "duration": 23,
    "start_time": "2022-07-16T21:55:08.428Z"
   },
   {
    "duration": 4158,
    "start_time": "2022-07-16T21:56:28.876Z"
   },
   {
    "duration": 3,
    "start_time": "2022-07-16T22:00:25.696Z"
   },
   {
    "duration": 61,
    "start_time": "2022-07-16T22:00:28.684Z"
   },
   {
    "duration": 4,
    "start_time": "2022-07-16T22:06:17.898Z"
   },
   {
    "duration": 13,
    "start_time": "2022-07-16T22:06:30.453Z"
   },
   {
    "duration": 15,
    "start_time": "2022-07-16T22:06:33.143Z"
   },
   {
    "duration": 108,
    "start_time": "2022-07-16T22:15:37.021Z"
   },
   {
    "duration": 17,
    "start_time": "2022-07-16T22:15:45.567Z"
   },
   {
    "duration": 4,
    "start_time": "2022-07-16T22:16:14.647Z"
   },
   {
    "duration": 15,
    "start_time": "2022-07-16T22:16:18.632Z"
   },
   {
    "duration": 46,
    "start_time": "2022-07-16T22:20:48.728Z"
   },
   {
    "duration": 4,
    "start_time": "2022-07-16T22:24:37.855Z"
   },
   {
    "duration": 14,
    "start_time": "2022-07-16T22:26:08.843Z"
   },
   {
    "duration": 4,
    "start_time": "2022-07-16T22:26:57.967Z"
   },
   {
    "duration": 5,
    "start_time": "2022-07-16T22:27:01.192Z"
   },
   {
    "duration": 12,
    "start_time": "2022-07-16T22:27:01.960Z"
   },
   {
    "duration": 10,
    "start_time": "2022-07-16T22:27:03.552Z"
   },
   {
    "duration": 19,
    "start_time": "2022-07-16T22:27:05.258Z"
   },
   {
    "duration": 5,
    "start_time": "2022-07-16T22:27:28.530Z"
   },
   {
    "duration": 11,
    "start_time": "2022-07-16T22:27:29.225Z"
   },
   {
    "duration": 14,
    "start_time": "2022-07-16T22:27:29.403Z"
   },
   {
    "duration": 26,
    "start_time": "2022-07-16T22:27:30.899Z"
   },
   {
    "duration": 4,
    "start_time": "2022-07-16T22:28:56.608Z"
   },
   {
    "duration": 11,
    "start_time": "2022-07-16T22:28:57.197Z"
   },
   {
    "duration": 9,
    "start_time": "2022-07-16T22:28:57.385Z"
   },
   {
    "duration": 21,
    "start_time": "2022-07-16T22:28:57.862Z"
   },
   {
    "duration": 4,
    "start_time": "2022-07-16T22:30:39.624Z"
   },
   {
    "duration": 11,
    "start_time": "2022-07-16T22:30:40.000Z"
   },
   {
    "duration": 10,
    "start_time": "2022-07-16T22:30:40.153Z"
   },
   {
    "duration": 21,
    "start_time": "2022-07-16T22:30:40.921Z"
   },
   {
    "duration": 4,
    "start_time": "2022-07-16T22:31:31.311Z"
   },
   {
    "duration": 10,
    "start_time": "2022-07-16T22:31:31.720Z"
   },
   {
    "duration": 10,
    "start_time": "2022-07-16T22:31:31.873Z"
   },
   {
    "duration": 23,
    "start_time": "2022-07-16T22:31:32.147Z"
   },
   {
    "duration": 4,
    "start_time": "2022-07-16T22:32:19.982Z"
   },
   {
    "duration": 9,
    "start_time": "2022-07-16T22:32:20.728Z"
   },
   {
    "duration": 13,
    "start_time": "2022-07-16T22:32:20.954Z"
   },
   {
    "duration": 19,
    "start_time": "2022-07-16T22:32:21.287Z"
   },
   {
    "duration": 4,
    "start_time": "2022-07-16T22:48:31.258Z"
   },
   {
    "duration": 9,
    "start_time": "2022-07-16T22:48:32.421Z"
   },
   {
    "duration": 10,
    "start_time": "2022-07-16T22:48:32.432Z"
   },
   {
    "duration": 19,
    "start_time": "2022-07-16T22:48:34.134Z"
   },
   {
    "duration": 13,
    "start_time": "2022-07-16T23:00:54.806Z"
   },
   {
    "duration": 16,
    "start_time": "2022-07-16T23:00:55.608Z"
   },
   {
    "duration": 10,
    "start_time": "2022-07-16T23:00:55.770Z"
   },
   {
    "duration": 22,
    "start_time": "2022-07-16T23:00:56.410Z"
   },
   {
    "duration": 4,
    "start_time": "2022-07-16T23:01:21.223Z"
   },
   {
    "duration": 12,
    "start_time": "2022-07-16T23:01:21.573Z"
   },
   {
    "duration": 10,
    "start_time": "2022-07-16T23:01:21.727Z"
   },
   {
    "duration": 23,
    "start_time": "2022-07-16T23:01:22.008Z"
   },
   {
    "duration": 18,
    "start_time": "2022-07-16T23:03:13.428Z"
   },
   {
    "duration": 7,
    "start_time": "2022-07-16T23:03:16.106Z"
   },
   {
    "duration": 9,
    "start_time": "2022-07-16T23:03:16.653Z"
   },
   {
    "duration": 10,
    "start_time": "2022-07-16T23:03:16.763Z"
   },
   {
    "duration": 19,
    "start_time": "2022-07-16T23:03:17.053Z"
   },
   {
    "duration": 5,
    "start_time": "2022-07-16T23:06:06.743Z"
   },
   {
    "duration": 4,
    "start_time": "2022-07-16T23:06:58.384Z"
   },
   {
    "duration": 9,
    "start_time": "2022-07-16T23:06:58.786Z"
   },
   {
    "duration": 10,
    "start_time": "2022-07-16T23:06:58.939Z"
   },
   {
    "duration": 18,
    "start_time": "2022-07-16T23:06:59.230Z"
   },
   {
    "duration": 19,
    "start_time": "2022-07-16T23:07:06.969Z"
   },
   {
    "duration": 18,
    "start_time": "2022-07-16T23:07:34.445Z"
   },
   {
    "duration": 22,
    "start_time": "2022-07-16T23:07:34.599Z"
   },
   {
    "duration": 3,
    "start_time": "2022-07-16T23:08:45.819Z"
   },
   {
    "duration": 19,
    "start_time": "2022-07-16T23:08:49.644Z"
   },
   {
    "duration": 17,
    "start_time": "2022-07-16T23:08:49.833Z"
   },
   {
    "duration": 18,
    "start_time": "2022-07-16T23:08:49.986Z"
   },
   {
    "duration": 26,
    "start_time": "2022-07-16T23:08:50.097Z"
   },
   {
    "duration": 8,
    "start_time": "2022-07-16T23:20:43.914Z"
   },
   {
    "duration": 11,
    "start_time": "2022-07-16T23:20:57.113Z"
   },
   {
    "duration": 10,
    "start_time": "2022-07-16T23:21:27.975Z"
   },
   {
    "duration": 10,
    "start_time": "2022-07-16T23:21:35.876Z"
   },
   {
    "duration": 11,
    "start_time": "2022-07-16T23:21:48.003Z"
   },
   {
    "duration": 6,
    "start_time": "2022-07-16T23:21:59.207Z"
   },
   {
    "duration": 14,
    "start_time": "2022-07-16T23:27:49.289Z"
   },
   {
    "duration": 980,
    "start_time": "2022-07-16T23:30:03.384Z"
   },
   {
    "duration": 14,
    "start_time": "2022-07-16T23:30:08.959Z"
   },
   {
    "duration": 1014,
    "start_time": "2022-07-16T23:31:02.633Z"
   },
   {
    "duration": 13,
    "start_time": "2022-07-16T23:31:03.649Z"
   },
   {
    "duration": 1043,
    "start_time": "2022-07-16T23:31:09.521Z"
   },
   {
    "duration": 14,
    "start_time": "2022-07-16T23:31:10.566Z"
   },
   {
    "duration": 8,
    "start_time": "2022-07-16T23:31:51.027Z"
   },
   {
    "duration": 971,
    "start_time": "2022-07-16T23:32:12.522Z"
   },
   {
    "duration": 29,
    "start_time": "2022-07-16T23:32:13.495Z"
   },
   {
    "duration": 6,
    "start_time": "2022-07-16T23:32:50.892Z"
   },
   {
    "duration": 3,
    "start_time": "2022-07-16T23:33:07.855Z"
   },
   {
    "duration": 4,
    "start_time": "2022-07-16T23:33:13.385Z"
   },
   {
    "duration": 3,
    "start_time": "2022-07-16T23:34:30.960Z"
   },
   {
    "duration": 42,
    "start_time": "2022-07-16T23:34:39.139Z"
   },
   {
    "duration": 39,
    "start_time": "2022-07-16T23:35:12.591Z"
   },
   {
    "duration": 31,
    "start_time": "2022-07-16T23:35:20.278Z"
   },
   {
    "duration": 37,
    "start_time": "2022-07-16T23:35:28.295Z"
   },
   {
    "duration": 34,
    "start_time": "2022-07-16T23:35:32.724Z"
   },
   {
    "duration": 33,
    "start_time": "2022-07-16T23:35:38.560Z"
   },
   {
    "duration": 34,
    "start_time": "2022-07-16T23:35:42.571Z"
   },
   {
    "duration": 4,
    "start_time": "2022-07-16T23:35:50.780Z"
   },
   {
    "duration": 33,
    "start_time": "2022-07-16T23:37:27.737Z"
   },
   {
    "duration": 52,
    "start_time": "2022-07-16T23:38:47.454Z"
   },
   {
    "duration": 33,
    "start_time": "2022-07-16T23:40:11.962Z"
   },
   {
    "duration": 5,
    "start_time": "2022-07-16T23:40:13.685Z"
   },
   {
    "duration": 32,
    "start_time": "2022-07-16T23:40:15.955Z"
   },
   {
    "duration": 4,
    "start_time": "2022-07-16T23:42:31.290Z"
   },
   {
    "duration": 6935,
    "start_time": "2022-07-17T13:57:48.967Z"
   },
   {
    "duration": 1462,
    "start_time": "2022-07-17T13:58:46.692Z"
   },
   {
    "duration": 3,
    "start_time": "2022-07-17T13:58:49.178Z"
   },
   {
    "duration": 93,
    "start_time": "2022-07-17T13:58:50.088Z"
   },
   {
    "duration": 5,
    "start_time": "2022-07-17T13:58:50.693Z"
   },
   {
    "duration": 21,
    "start_time": "2022-07-17T13:58:50.830Z"
   },
   {
    "duration": 17,
    "start_time": "2022-07-17T13:58:50.993Z"
   },
   {
    "duration": 5,
    "start_time": "2022-07-17T13:58:51.163Z"
   },
   {
    "duration": 11,
    "start_time": "2022-07-17T13:58:51.267Z"
   },
   {
    "duration": 2,
    "start_time": "2022-07-17T13:58:51.402Z"
   },
   {
    "duration": 24,
    "start_time": "2022-07-17T13:58:51.563Z"
   },
   {
    "duration": 4011,
    "start_time": "2022-07-17T13:58:54.316Z"
   },
   {
    "duration": 6,
    "start_time": "2022-07-17T13:58:58.334Z"
   },
   {
    "duration": 6,
    "start_time": "2022-07-17T13:58:58.582Z"
   },
   {
    "duration": 12,
    "start_time": "2022-07-17T13:59:00.768Z"
   },
   {
    "duration": 12,
    "start_time": "2022-07-17T13:59:00.990Z"
   },
   {
    "duration": 27,
    "start_time": "2022-07-17T13:59:02.014Z"
   },
   {
    "duration": 27,
    "start_time": "2022-07-17T13:59:02.375Z"
   },
   {
    "duration": 25,
    "start_time": "2022-07-17T13:59:02.534Z"
   },
   {
    "duration": 27,
    "start_time": "2022-07-17T13:59:02.676Z"
   },
   {
    "duration": 1143,
    "start_time": "2022-07-17T13:59:07.375Z"
   },
   {
    "duration": 6,
    "start_time": "2022-07-17T13:59:10.197Z"
   },
   {
    "duration": 3,
    "start_time": "2022-07-17T13:59:12.108Z"
   },
   {
    "duration": 3,
    "start_time": "2022-07-17T13:59:13.499Z"
   },
   {
    "duration": 43,
    "start_time": "2022-07-17T13:59:13.818Z"
   },
   {
    "duration": 5,
    "start_time": "2022-07-17T13:59:18.386Z"
   },
   {
    "duration": 16,
    "start_time": "2022-07-17T13:59:21.912Z"
   },
   {
    "duration": 14,
    "start_time": "2022-07-17T13:59:28.509Z"
   },
   {
    "duration": 5,
    "start_time": "2022-07-17T14:22:08.682Z"
   },
   {
    "duration": 5,
    "start_time": "2022-07-17T14:25:07.413Z"
   },
   {
    "duration": 11,
    "start_time": "2022-07-17T14:25:09.075Z"
   },
   {
    "duration": 12,
    "start_time": "2022-07-17T14:25:09.291Z"
   },
   {
    "duration": 115,
    "start_time": "2022-07-17T14:25:09.734Z"
   },
   {
    "duration": 15,
    "start_time": "2022-07-17T14:25:09.975Z"
   },
   {
    "duration": 16,
    "start_time": "2022-07-17T14:25:10.211Z"
   },
   {
    "duration": 15,
    "start_time": "2022-07-17T14:25:10.355Z"
   },
   {
    "duration": 4,
    "start_time": "2022-07-17T14:25:24.848Z"
   },
   {
    "duration": 12,
    "start_time": "2022-07-17T14:25:25.222Z"
   },
   {
    "duration": 12,
    "start_time": "2022-07-17T14:25:25.363Z"
   },
   {
    "duration": 23,
    "start_time": "2022-07-17T14:25:25.657Z"
   },
   {
    "duration": 22,
    "start_time": "2022-07-17T14:25:25.776Z"
   },
   {
    "duration": 22,
    "start_time": "2022-07-17T14:25:25.913Z"
   },
   {
    "duration": 22,
    "start_time": "2022-07-17T14:25:26.075Z"
   },
   {
    "duration": 2506,
    "start_time": "2022-07-17T14:25:42.891Z"
   },
   {
    "duration": 1148,
    "start_time": "2022-07-17T14:25:45.399Z"
   },
   {
    "duration": 2,
    "start_time": "2022-07-17T14:25:46.549Z"
   },
   {
    "duration": 33,
    "start_time": "2022-07-17T14:25:46.553Z"
   },
   {
    "duration": 4,
    "start_time": "2022-07-17T14:25:46.588Z"
   },
   {
    "duration": 20,
    "start_time": "2022-07-17T14:25:46.593Z"
   },
   {
    "duration": 15,
    "start_time": "2022-07-17T14:25:46.614Z"
   },
   {
    "duration": 32,
    "start_time": "2022-07-17T14:25:46.631Z"
   },
   {
    "duration": 23,
    "start_time": "2022-07-17T14:25:46.665Z"
   },
   {
    "duration": 10,
    "start_time": "2022-07-17T14:25:46.690Z"
   },
   {
    "duration": 27,
    "start_time": "2022-07-17T14:25:46.701Z"
   },
   {
    "duration": 3748,
    "start_time": "2022-07-17T14:25:46.729Z"
   },
   {
    "duration": 2,
    "start_time": "2022-07-17T14:25:50.480Z"
   },
   {
    "duration": 9,
    "start_time": "2022-07-17T14:25:50.484Z"
   },
   {
    "duration": 16,
    "start_time": "2022-07-17T14:25:50.495Z"
   },
   {
    "duration": 11,
    "start_time": "2022-07-17T14:25:50.513Z"
   },
   {
    "duration": 32,
    "start_time": "2022-07-17T14:25:50.526Z"
   },
   {
    "duration": 19,
    "start_time": "2022-07-17T14:25:50.560Z"
   },
   {
    "duration": 16,
    "start_time": "2022-07-17T14:25:50.582Z"
   },
   {
    "duration": 46,
    "start_time": "2022-07-17T14:25:50.600Z"
   },
   {
    "duration": 3,
    "start_time": "2022-07-17T14:32:35.600Z"
   },
   {
    "duration": 1369,
    "start_time": "2022-07-17T14:32:58.783Z"
   },
   {
    "duration": 3,
    "start_time": "2022-07-17T14:49:09.702Z"
   },
   {
    "duration": 5,
    "start_time": "2022-07-17T14:49:20.124Z"
   },
   {
    "duration": 90,
    "start_time": "2022-07-17T14:49:22.673Z"
   },
   {
    "duration": 4,
    "start_time": "2022-07-17T14:49:29.199Z"
   },
   {
    "duration": 12,
    "start_time": "2022-07-17T14:49:44.320Z"
   },
   {
    "duration": 3,
    "start_time": "2022-07-17T14:50:24.514Z"
   },
   {
    "duration": 5,
    "start_time": "2022-07-17T14:50:25.245Z"
   },
   {
    "duration": 13,
    "start_time": "2022-07-17T14:50:26.095Z"
   },
   {
    "duration": 4,
    "start_time": "2022-07-17T14:58:59.765Z"
   },
   {
    "duration": 10,
    "start_time": "2022-07-17T14:59:02.868Z"
   },
   {
    "duration": 3,
    "start_time": "2022-07-17T14:59:06.774Z"
   },
   {
    "duration": 13,
    "start_time": "2022-07-17T14:59:20.294Z"
   },
   {
    "duration": 6,
    "start_time": "2022-07-17T14:59:35.771Z"
   },
   {
    "duration": 3,
    "start_time": "2022-07-17T15:01:42.722Z"
   },
   {
    "duration": 6,
    "start_time": "2022-07-17T15:02:35.412Z"
   },
   {
    "duration": 29,
    "start_time": "2022-07-17T15:02:42.563Z"
   },
   {
    "duration": 25,
    "start_time": "2022-07-17T15:07:51.495Z"
   },
   {
    "duration": 4,
    "start_time": "2022-07-17T15:11:33.692Z"
   },
   {
    "duration": 23,
    "start_time": "2022-07-17T15:11:40.400Z"
   },
   {
    "duration": 6,
    "start_time": "2022-07-17T15:12:28.047Z"
   },
   {
    "duration": 3,
    "start_time": "2022-07-17T15:12:28.456Z"
   },
   {
    "duration": 3,
    "start_time": "2022-07-17T15:12:28.627Z"
   },
   {
    "duration": 24,
    "start_time": "2022-07-17T15:12:28.791Z"
   },
   {
    "duration": 2662,
    "start_time": "2022-07-17T15:14:22.591Z"
   },
   {
    "duration": 1209,
    "start_time": "2022-07-17T15:14:25.256Z"
   },
   {
    "duration": 3,
    "start_time": "2022-07-17T15:14:26.467Z"
   },
   {
    "duration": 39,
    "start_time": "2022-07-17T15:14:26.471Z"
   },
   {
    "duration": 4,
    "start_time": "2022-07-17T15:14:26.513Z"
   },
   {
    "duration": 18,
    "start_time": "2022-07-17T15:14:26.519Z"
   },
   {
    "duration": 17,
    "start_time": "2022-07-17T15:14:26.538Z"
   },
   {
    "duration": 12,
    "start_time": "2022-07-17T15:14:26.557Z"
   },
   {
    "duration": 29,
    "start_time": "2022-07-17T15:14:26.570Z"
   },
   {
    "duration": 2,
    "start_time": "2022-07-17T15:14:26.601Z"
   },
   {
    "duration": 27,
    "start_time": "2022-07-17T15:14:26.605Z"
   },
   {
    "duration": 3816,
    "start_time": "2022-07-17T15:14:26.633Z"
   },
   {
    "duration": 4,
    "start_time": "2022-07-17T15:14:30.451Z"
   },
   {
    "duration": 22,
    "start_time": "2022-07-17T15:14:30.458Z"
   },
   {
    "duration": 28,
    "start_time": "2022-07-17T15:14:30.482Z"
   },
   {
    "duration": 18,
    "start_time": "2022-07-17T15:14:30.512Z"
   },
   {
    "duration": 36,
    "start_time": "2022-07-17T15:14:30.532Z"
   },
   {
    "duration": 28,
    "start_time": "2022-07-17T15:14:30.570Z"
   },
   {
    "duration": 30,
    "start_time": "2022-07-17T15:14:30.600Z"
   },
   {
    "duration": 31,
    "start_time": "2022-07-17T15:14:30.632Z"
   },
   {
    "duration": 30,
    "start_time": "2022-07-17T15:14:30.665Z"
   },
   {
    "duration": 32,
    "start_time": "2022-07-17T15:14:30.697Z"
   },
   {
    "duration": 21,
    "start_time": "2022-07-17T15:14:30.731Z"
   },
   {
    "duration": 133,
    "start_time": "2022-07-17T15:14:30.754Z"
   },
   {
    "duration": 0,
    "start_time": "2022-07-17T15:14:30.889Z"
   },
   {
    "duration": 0,
    "start_time": "2022-07-17T15:14:30.891Z"
   },
   {
    "duration": 0,
    "start_time": "2022-07-17T15:14:30.892Z"
   },
   {
    "duration": 0,
    "start_time": "2022-07-17T15:14:30.893Z"
   },
   {
    "duration": 0,
    "start_time": "2022-07-17T15:14:30.894Z"
   },
   {
    "duration": 0,
    "start_time": "2022-07-17T15:14:30.895Z"
   },
   {
    "duration": 0,
    "start_time": "2022-07-17T15:14:30.896Z"
   },
   {
    "duration": 0,
    "start_time": "2022-07-17T15:14:30.897Z"
   },
   {
    "duration": 0,
    "start_time": "2022-07-17T15:14:30.898Z"
   },
   {
    "duration": 0,
    "start_time": "2022-07-17T15:14:30.899Z"
   },
   {
    "duration": 0,
    "start_time": "2022-07-17T15:14:30.900Z"
   },
   {
    "duration": 0,
    "start_time": "2022-07-17T15:14:30.901Z"
   },
   {
    "duration": 0,
    "start_time": "2022-07-17T15:14:30.902Z"
   },
   {
    "duration": 0,
    "start_time": "2022-07-17T15:14:30.903Z"
   },
   {
    "duration": 2590,
    "start_time": "2022-07-17T15:14:31.681Z"
   },
   {
    "duration": 4,
    "start_time": "2022-07-17T15:14:34.274Z"
   },
   {
    "duration": 9,
    "start_time": "2022-07-17T15:14:34.280Z"
   },
   {
    "duration": 31,
    "start_time": "2022-07-17T15:14:34.291Z"
   },
   {
    "duration": 4,
    "start_time": "2022-07-17T15:14:34.324Z"
   },
   {
    "duration": 14,
    "start_time": "2022-07-17T15:14:34.330Z"
   },
   {
    "duration": 19,
    "start_time": "2022-07-17T15:14:34.345Z"
   },
   {
    "duration": 8,
    "start_time": "2022-07-17T15:14:34.366Z"
   },
   {
    "duration": 26,
    "start_time": "2022-07-17T15:14:34.376Z"
   },
   {
    "duration": 12,
    "start_time": "2022-07-17T15:14:34.404Z"
   },
   {
    "duration": 31,
    "start_time": "2022-07-17T15:14:34.418Z"
   },
   {
    "duration": 4105,
    "start_time": "2022-07-17T15:14:34.451Z"
   },
   {
    "duration": 2,
    "start_time": "2022-07-17T15:14:38.558Z"
   },
   {
    "duration": 11,
    "start_time": "2022-07-17T15:14:38.563Z"
   },
   {
    "duration": 33,
    "start_time": "2022-07-17T15:14:38.576Z"
   },
   {
    "duration": 19,
    "start_time": "2022-07-17T15:14:38.611Z"
   },
   {
    "duration": 20,
    "start_time": "2022-07-17T15:14:38.631Z"
   },
   {
    "duration": 18,
    "start_time": "2022-07-17T15:14:38.653Z"
   },
   {
    "duration": 16,
    "start_time": "2022-07-17T15:14:38.673Z"
   },
   {
    "duration": 18,
    "start_time": "2022-07-17T15:14:38.691Z"
   },
   {
    "duration": 29,
    "start_time": "2022-07-17T15:14:38.711Z"
   },
   {
    "duration": 8,
    "start_time": "2022-07-17T15:14:38.742Z"
   },
   {
    "duration": 14,
    "start_time": "2022-07-17T15:14:38.752Z"
   },
   {
    "duration": 27,
    "start_time": "2022-07-17T15:14:38.768Z"
   },
   {
    "duration": 0,
    "start_time": "2022-07-17T15:14:38.797Z"
   },
   {
    "duration": 0,
    "start_time": "2022-07-17T15:14:38.798Z"
   },
   {
    "duration": 4,
    "start_time": "2022-07-17T15:16:48.945Z"
   },
   {
    "duration": 2,
    "start_time": "2022-07-17T15:16:49.252Z"
   },
   {
    "duration": 3,
    "start_time": "2022-07-17T15:16:49.509Z"
   },
   {
    "duration": 23,
    "start_time": "2022-07-17T15:16:50.011Z"
   },
   {
    "duration": 5,
    "start_time": "2022-07-17T15:18:47.464Z"
   },
   {
    "duration": 8,
    "start_time": "2022-07-17T15:19:06.653Z"
   },
   {
    "duration": 4,
    "start_time": "2022-07-17T15:19:55.071Z"
   },
   {
    "duration": 8,
    "start_time": "2022-07-17T15:22:03.013Z"
   },
   {
    "duration": 7,
    "start_time": "2022-07-17T15:35:34.040Z"
   },
   {
    "duration": 9,
    "start_time": "2022-07-17T15:35:34.366Z"
   },
   {
    "duration": 9737,
    "start_time": "2022-07-17T17:27:17.384Z"
   },
   {
    "duration": 1381,
    "start_time": "2022-07-17T17:27:29.108Z"
   },
   {
    "duration": 3,
    "start_time": "2022-07-17T17:27:30.491Z"
   },
   {
    "duration": 64,
    "start_time": "2022-07-17T17:27:31.396Z"
   },
   {
    "duration": 4,
    "start_time": "2022-07-17T17:27:32.555Z"
   },
   {
    "duration": 14,
    "start_time": "2022-07-17T17:27:32.888Z"
   },
   {
    "duration": 23,
    "start_time": "2022-07-17T17:27:54.255Z"
   },
   {
    "duration": 10,
    "start_time": "2022-07-17T17:28:03.514Z"
   },
   {
    "duration": 14,
    "start_time": "2022-07-17T17:28:04.548Z"
   },
   {
    "duration": 9,
    "start_time": "2022-07-17T17:28:06.979Z"
   },
   {
    "duration": 10,
    "start_time": "2022-07-17T17:28:08.591Z"
   },
   {
    "duration": 11,
    "start_time": "2022-07-17T17:28:11.791Z"
   },
   {
    "duration": 10,
    "start_time": "2022-07-17T17:28:13.643Z"
   },
   {
    "duration": 5,
    "start_time": "2022-07-17T17:28:25.427Z"
   },
   {
    "duration": 5,
    "start_time": "2022-07-17T17:28:30.748Z"
   },
   {
    "duration": 12,
    "start_time": "2022-07-17T17:28:35.860Z"
   },
   {
    "duration": 11,
    "start_time": "2022-07-17T17:28:36.159Z"
   },
   {
    "duration": 9,
    "start_time": "2022-07-17T17:28:36.927Z"
   },
   {
    "duration": 3,
    "start_time": "2022-07-17T17:28:40.888Z"
   },
   {
    "duration": 22,
    "start_time": "2022-07-17T17:28:41.203Z"
   },
   {
    "duration": 111,
    "start_time": "2022-07-17T17:28:50.386Z"
   },
   {
    "duration": 8,
    "start_time": "2022-07-17T17:29:20.481Z"
   },
   {
    "duration": 15,
    "start_time": "2022-07-17T17:29:26.655Z"
   },
   {
    "duration": 7,
    "start_time": "2022-07-17T17:30:09.306Z"
   },
   {
    "duration": 8,
    "start_time": "2022-07-17T17:30:15.187Z"
   },
   {
    "duration": 11,
    "start_time": "2022-07-17T17:31:02.898Z"
   },
   {
    "duration": 5,
    "start_time": "2022-07-17T17:31:11.124Z"
   },
   {
    "duration": 7,
    "start_time": "2022-07-17T17:31:12.626Z"
   },
   {
    "duration": 11,
    "start_time": "2022-07-17T17:31:16.073Z"
   },
   {
    "duration": 3445,
    "start_time": "2022-07-17T17:31:34.955Z"
   },
   {
    "duration": 5,
    "start_time": "2022-07-17T17:33:22.559Z"
   },
   {
    "duration": 5,
    "start_time": "2022-07-17T17:33:22.951Z"
   },
   {
    "duration": 11,
    "start_time": "2022-07-17T17:33:24.846Z"
   },
   {
    "duration": 9,
    "start_time": "2022-07-17T17:33:24.999Z"
   },
   {
    "duration": 18,
    "start_time": "2022-07-17T17:33:25.315Z"
   },
   {
    "duration": 18,
    "start_time": "2022-07-17T17:33:25.452Z"
   },
   {
    "duration": 20,
    "start_time": "2022-07-17T17:33:25.554Z"
   },
   {
    "duration": 16,
    "start_time": "2022-07-17T17:33:25.716Z"
   },
   {
    "duration": 6,
    "start_time": "2022-07-17T17:35:59.891Z"
   },
   {
    "duration": 6,
    "start_time": "2022-07-17T17:36:00.199Z"
   },
   {
    "duration": 4,
    "start_time": "2022-07-17T17:36:01.879Z"
   },
   {
    "duration": 18,
    "start_time": "2022-07-17T17:36:07.725Z"
   },
   {
    "duration": 4,
    "start_time": "2022-07-17T17:40:41.393Z"
   },
   {
    "duration": 8,
    "start_time": "2022-07-17T17:40:42.187Z"
   },
   {
    "duration": 21,
    "start_time": "2022-07-17T17:40:56.694Z"
   },
   {
    "duration": 10,
    "start_time": "2022-07-17T17:41:51.118Z"
   },
   {
    "duration": 4,
    "start_time": "2022-07-17T17:42:06.000Z"
   },
   {
    "duration": 11,
    "start_time": "2022-07-17T17:42:06.733Z"
   },
   {
    "duration": 117,
    "start_time": "2022-07-17T17:42:07.154Z"
   },
   {
    "duration": 12,
    "start_time": "2022-07-17T17:42:16.889Z"
   },
   {
    "duration": 5,
    "start_time": "2022-07-17T17:42:30.593Z"
   },
   {
    "duration": 4,
    "start_time": "2022-07-17T17:42:45.743Z"
   },
   {
    "duration": 6,
    "start_time": "2022-07-17T17:43:30.637Z"
   },
   {
    "duration": 4,
    "start_time": "2022-07-17T17:43:33.640Z"
   },
   {
    "duration": 3,
    "start_time": "2022-07-17T17:43:34.229Z"
   },
   {
    "duration": 23,
    "start_time": "2022-07-17T17:43:36.319Z"
   },
   {
    "duration": 13,
    "start_time": "2022-07-17T17:47:41.657Z"
   },
   {
    "duration": 1017,
    "start_time": "2022-07-17T17:47:42.981Z"
   },
   {
    "duration": 5,
    "start_time": "2022-07-17T17:48:30.757Z"
   },
   {
    "duration": 14,
    "start_time": "2022-07-17T17:48:31.533Z"
   },
   {
    "duration": 4,
    "start_time": "2022-07-17T17:48:50.386Z"
   },
   {
    "duration": 1038,
    "start_time": "2022-07-17T17:48:50.753Z"
   },
   {
    "duration": 5,
    "start_time": "2022-07-17T17:49:10.141Z"
   },
   {
    "duration": 1401,
    "start_time": "2022-07-17T17:49:10.662Z"
   },
   {
    "duration": 12,
    "start_time": "2022-07-17T17:49:51.239Z"
   },
   {
    "duration": 6,
    "start_time": "2022-07-17T17:50:06.787Z"
   },
   {
    "duration": 8,
    "start_time": "2022-07-17T17:50:07.318Z"
   },
   {
    "duration": 5,
    "start_time": "2022-07-17T17:50:08.707Z"
   },
   {
    "duration": 1506,
    "start_time": "2022-07-17T17:50:10.405Z"
   },
   {
    "duration": 15,
    "start_time": "2022-07-17T17:50:16.541Z"
   },
   {
    "duration": 5,
    "start_time": "2022-07-17T17:50:29.289Z"
   },
   {
    "duration": 4,
    "start_time": "2022-07-17T17:50:42.395Z"
   },
   {
    "duration": 2952,
    "start_time": "2022-07-17T17:51:05.087Z"
   },
   {
    "duration": 1439,
    "start_time": "2022-07-17T17:51:08.041Z"
   },
   {
    "duration": 2,
    "start_time": "2022-07-17T17:51:09.483Z"
   },
   {
    "duration": 46,
    "start_time": "2022-07-17T17:51:09.489Z"
   },
   {
    "duration": 3,
    "start_time": "2022-07-17T17:51:09.537Z"
   },
   {
    "duration": 56,
    "start_time": "2022-07-17T17:51:09.542Z"
   },
   {
    "duration": 12,
    "start_time": "2022-07-17T17:51:09.599Z"
   },
   {
    "duration": 26,
    "start_time": "2022-07-17T17:51:09.613Z"
   },
   {
    "duration": 31,
    "start_time": "2022-07-17T17:51:09.641Z"
   },
   {
    "duration": 29,
    "start_time": "2022-07-17T17:51:09.675Z"
   },
   {
    "duration": 62,
    "start_time": "2022-07-17T17:51:09.707Z"
   },
   {
    "duration": 35,
    "start_time": "2022-07-17T17:51:09.770Z"
   },
   {
    "duration": 4,
    "start_time": "2022-07-17T17:51:09.807Z"
   },
   {
    "duration": 3643,
    "start_time": "2022-07-17T17:51:09.813Z"
   },
   {
    "duration": 5,
    "start_time": "2022-07-17T17:51:13.458Z"
   },
   {
    "duration": 24,
    "start_time": "2022-07-17T17:51:13.465Z"
   },
   {
    "duration": 14,
    "start_time": "2022-07-17T17:51:13.491Z"
   },
   {
    "duration": 9,
    "start_time": "2022-07-17T17:51:13.507Z"
   },
   {
    "duration": 22,
    "start_time": "2022-07-17T17:51:13.518Z"
   },
   {
    "duration": 35,
    "start_time": "2022-07-17T17:51:13.542Z"
   },
   {
    "duration": 31,
    "start_time": "2022-07-17T17:51:13.579Z"
   },
   {
    "duration": 17,
    "start_time": "2022-07-17T17:51:13.613Z"
   },
   {
    "duration": 5,
    "start_time": "2022-07-17T17:51:13.631Z"
   },
   {
    "duration": 28,
    "start_time": "2022-07-17T17:51:13.638Z"
   },
   {
    "duration": 16,
    "start_time": "2022-07-17T17:51:13.668Z"
   },
   {
    "duration": 1458,
    "start_time": "2022-07-17T17:51:13.685Z"
   },
   {
    "duration": 993,
    "start_time": "2022-07-17T17:51:15.145Z"
   },
   {
    "duration": 16,
    "start_time": "2022-07-17T17:51:26.312Z"
   },
   {
    "duration": 7,
    "start_time": "2022-07-17T17:51:35.385Z"
   },
   {
    "duration": 4,
    "start_time": "2022-07-17T17:51:41.014Z"
   },
   {
    "duration": 5,
    "start_time": "2022-07-17T17:52:02.908Z"
   },
   {
    "duration": 5,
    "start_time": "2022-07-17T17:52:43.613Z"
   },
   {
    "duration": 6,
    "start_time": "2022-07-17T17:52:49.758Z"
   },
   {
    "duration": 6,
    "start_time": "2022-07-17T17:52:59.432Z"
   },
   {
    "duration": 6,
    "start_time": "2022-07-17T17:52:59.788Z"
   },
   {
    "duration": 3,
    "start_time": "2022-07-17T17:53:08.123Z"
   },
   {
    "duration": 3,
    "start_time": "2022-07-17T17:53:08.617Z"
   },
   {
    "duration": 25,
    "start_time": "2022-07-17T17:53:09.179Z"
   },
   {
    "duration": 3,
    "start_time": "2022-07-17T17:55:56.813Z"
   },
   {
    "duration": 29,
    "start_time": "2022-07-17T17:56:00.542Z"
   },
   {
    "duration": 21,
    "start_time": "2022-07-17T17:56:57.294Z"
   },
   {
    "duration": 4,
    "start_time": "2022-07-17T18:00:19.055Z"
   },
   {
    "duration": 6,
    "start_time": "2022-07-17T18:00:19.430Z"
   },
   {
    "duration": 4,
    "start_time": "2022-07-17T18:00:21.717Z"
   },
   {
    "duration": 3,
    "start_time": "2022-07-17T18:00:21.922Z"
   },
   {
    "duration": 1282,
    "start_time": "2022-07-17T18:01:34.763Z"
   },
   {
    "duration": 5,
    "start_time": "2022-07-17T18:05:16.644Z"
   },
   {
    "duration": 6,
    "start_time": "2022-07-17T18:05:17.138Z"
   },
   {
    "duration": 3,
    "start_time": "2022-07-17T18:05:18.035Z"
   },
   {
    "duration": 4,
    "start_time": "2022-07-17T18:05:18.324Z"
   },
   {
    "duration": 15979,
    "start_time": "2022-07-17T18:05:18.624Z"
   },
   {
    "duration": 5,
    "start_time": "2022-07-17T18:08:55.144Z"
   },
   {
    "duration": 7,
    "start_time": "2022-07-17T18:08:55.545Z"
   },
   {
    "duration": 9,
    "start_time": "2022-07-17T18:08:56.286Z"
   },
   {
    "duration": 6,
    "start_time": "2022-07-17T18:09:00.529Z"
   },
   {
    "duration": 3,
    "start_time": "2022-07-17T18:09:02.798Z"
   },
   {
    "duration": 3,
    "start_time": "2022-07-17T18:09:03.319Z"
   },
   {
    "duration": 1479,
    "start_time": "2022-07-17T18:09:14.877Z"
   },
   {
    "duration": 8,
    "start_time": "2022-07-17T18:09:47.056Z"
   },
   {
    "duration": 1398,
    "start_time": "2022-07-17T18:09:52.383Z"
   },
   {
    "duration": 6,
    "start_time": "2022-07-17T18:11:05.229Z"
   },
   {
    "duration": 14999,
    "start_time": "2022-07-17T18:11:19.300Z"
   },
   {
    "duration": 1279,
    "start_time": "2022-07-17T18:13:56.953Z"
   },
   {
    "duration": 2675,
    "start_time": "2022-07-17T18:14:14.572Z"
   },
   {
    "duration": 1213,
    "start_time": "2022-07-17T18:14:17.249Z"
   },
   {
    "duration": 3,
    "start_time": "2022-07-17T18:14:18.463Z"
   },
   {
    "duration": 38,
    "start_time": "2022-07-17T18:14:18.468Z"
   },
   {
    "duration": 4,
    "start_time": "2022-07-17T18:14:18.508Z"
   },
   {
    "duration": 15,
    "start_time": "2022-07-17T18:14:18.514Z"
   },
   {
    "duration": 10,
    "start_time": "2022-07-17T18:14:18.532Z"
   },
   {
    "duration": 5,
    "start_time": "2022-07-17T18:14:18.544Z"
   },
   {
    "duration": 17,
    "start_time": "2022-07-17T18:14:18.550Z"
   },
   {
    "duration": 2,
    "start_time": "2022-07-17T18:14:18.569Z"
   },
   {
    "duration": 27,
    "start_time": "2022-07-17T18:14:18.573Z"
   },
   {
    "duration": 13,
    "start_time": "2022-07-17T18:14:18.601Z"
   },
   {
    "duration": 5,
    "start_time": "2022-07-17T18:14:18.616Z"
   },
   {
    "duration": 3469,
    "start_time": "2022-07-17T18:14:18.624Z"
   },
   {
    "duration": 3,
    "start_time": "2022-07-17T18:14:22.095Z"
   },
   {
    "duration": 8,
    "start_time": "2022-07-17T18:14:22.099Z"
   },
   {
    "duration": 15,
    "start_time": "2022-07-17T18:14:22.109Z"
   },
   {
    "duration": 10,
    "start_time": "2022-07-17T18:14:22.125Z"
   },
   {
    "duration": 33,
    "start_time": "2022-07-17T18:14:22.137Z"
   },
   {
    "duration": 17,
    "start_time": "2022-07-17T18:14:22.172Z"
   },
   {
    "duration": 15,
    "start_time": "2022-07-17T18:14:22.191Z"
   },
   {
    "duration": 22,
    "start_time": "2022-07-17T18:14:22.207Z"
   },
   {
    "duration": 9,
    "start_time": "2022-07-17T18:14:22.261Z"
   },
   {
    "duration": 10,
    "start_time": "2022-07-17T18:14:22.272Z"
   },
   {
    "duration": 9,
    "start_time": "2022-07-17T18:14:22.284Z"
   },
   {
    "duration": 1015,
    "start_time": "2022-07-17T18:14:22.294Z"
   },
   {
    "duration": 0,
    "start_time": "2022-07-17T18:14:23.311Z"
   },
   {
    "duration": 0,
    "start_time": "2022-07-17T18:14:23.312Z"
   },
   {
    "duration": 0,
    "start_time": "2022-07-17T18:14:23.313Z"
   },
   {
    "duration": 0,
    "start_time": "2022-07-17T18:14:23.314Z"
   },
   {
    "duration": 10,
    "start_time": "2022-07-17T18:15:40.768Z"
   },
   {
    "duration": 1360,
    "start_time": "2022-07-17T18:15:49.677Z"
   },
   {
    "duration": 4,
    "start_time": "2022-07-17T18:16:00.278Z"
   },
   {
    "duration": 3,
    "start_time": "2022-07-17T18:16:00.481Z"
   },
   {
    "duration": 15394,
    "start_time": "2022-07-17T18:16:00.720Z"
   },
   {
    "duration": 14967,
    "start_time": "2022-07-17T18:16:22.548Z"
   },
   {
    "duration": 16931,
    "start_time": "2022-07-17T18:17:45.788Z"
   },
   {
    "duration": 14160,
    "start_time": "2022-07-17T18:19:32.292Z"
   },
   {
    "duration": 11,
    "start_time": "2022-07-17T18:29:48.981Z"
   },
   {
    "duration": 11,
    "start_time": "2022-07-17T18:29:58.803Z"
   },
   {
    "duration": 665,
    "start_time": "2022-07-17T18:30:17.346Z"
   },
   {
    "duration": 6,
    "start_time": "2022-07-17T18:43:01.311Z"
   },
   {
    "duration": 7,
    "start_time": "2022-07-17T18:43:01.601Z"
   },
   {
    "duration": 6,
    "start_time": "2022-07-17T18:47:44.469Z"
   },
   {
    "duration": 4,
    "start_time": "2022-07-17T18:47:46.987Z"
   },
   {
    "duration": 15,
    "start_time": "2022-07-17T18:47:51.408Z"
   },
   {
    "duration": 4,
    "start_time": "2022-07-17T18:48:41.145Z"
   },
   {
    "duration": 3,
    "start_time": "2022-07-17T18:48:47.464Z"
   },
   {
    "duration": 17,
    "start_time": "2022-07-17T18:48:48.181Z"
   },
   {
    "duration": 4,
    "start_time": "2022-07-17T19:16:35.549Z"
   },
   {
    "duration": 4,
    "start_time": "2022-07-17T19:16:36.377Z"
   },
   {
    "duration": 16,
    "start_time": "2022-07-17T19:16:36.679Z"
   },
   {
    "duration": 5,
    "start_time": "2022-07-17T19:16:50.863Z"
   },
   {
    "duration": 4,
    "start_time": "2022-07-17T19:16:51.298Z"
   },
   {
    "duration": 24,
    "start_time": "2022-07-17T19:16:51.657Z"
   },
   {
    "duration": 4,
    "start_time": "2022-07-17T19:19:29.942Z"
   },
   {
    "duration": 4,
    "start_time": "2022-07-17T19:19:30.195Z"
   },
   {
    "duration": 17,
    "start_time": "2022-07-17T19:19:30.386Z"
   },
   {
    "duration": 4,
    "start_time": "2022-07-17T19:23:01.777Z"
   },
   {
    "duration": 4,
    "start_time": "2022-07-17T19:23:02.110Z"
   },
   {
    "duration": 81,
    "start_time": "2022-07-17T19:23:02.366Z"
   },
   {
    "duration": 5,
    "start_time": "2022-07-17T19:25:06.572Z"
   },
   {
    "duration": 3,
    "start_time": "2022-07-17T19:25:06.832Z"
   },
   {
    "duration": 76,
    "start_time": "2022-07-17T19:25:07.071Z"
   },
   {
    "duration": 5,
    "start_time": "2022-07-17T19:26:08.647Z"
   },
   {
    "duration": 4,
    "start_time": "2022-07-17T19:26:08.910Z"
   },
   {
    "duration": 18,
    "start_time": "2022-07-17T19:26:09.092Z"
   },
   {
    "duration": 3,
    "start_time": "2022-07-17T19:26:56.942Z"
   },
   {
    "duration": 3,
    "start_time": "2022-07-17T19:27:07.193Z"
   },
   {
    "duration": 10,
    "start_time": "2022-07-17T19:27:07.772Z"
   },
   {
    "duration": 10,
    "start_time": "2022-07-17T19:27:56.572Z"
   },
   {
    "duration": 11,
    "start_time": "2022-07-17T19:32:11.179Z"
   },
   {
    "duration": 4,
    "start_time": "2022-07-17T19:32:13.457Z"
   },
   {
    "duration": 4,
    "start_time": "2022-07-17T19:32:13.721Z"
   },
   {
    "duration": 4,
    "start_time": "2022-07-17T19:32:14.080Z"
   },
   {
    "duration": 4,
    "start_time": "2022-07-17T19:32:14.737Z"
   },
   {
    "duration": 5,
    "start_time": "2022-07-17T19:34:32.605Z"
   },
   {
    "duration": 4,
    "start_time": "2022-07-17T19:34:50.670Z"
   },
   {
    "duration": 5,
    "start_time": "2022-07-17T19:35:00.961Z"
   },
   {
    "duration": 3,
    "start_time": "2022-07-17T19:35:09.196Z"
   },
   {
    "duration": 5,
    "start_time": "2022-07-17T19:35:17.772Z"
   },
   {
    "duration": 4,
    "start_time": "2022-07-17T19:40:55.678Z"
   },
   {
    "duration": 2,
    "start_time": "2022-07-17T19:41:32.050Z"
   },
   {
    "duration": 45,
    "start_time": "2022-07-17T19:41:36.915Z"
   },
   {
    "duration": 3,
    "start_time": "2022-07-17T19:41:41.228Z"
   },
   {
    "duration": 3,
    "start_time": "2022-07-17T19:42:00.812Z"
   },
   {
    "duration": 4,
    "start_time": "2022-07-17T19:42:04.004Z"
   },
   {
    "duration": 57,
    "start_time": "2022-07-17T19:42:10.967Z"
   },
   {
    "duration": 4,
    "start_time": "2022-07-17T19:46:14.839Z"
   },
   {
    "duration": 4,
    "start_time": "2022-07-17T19:46:15.701Z"
   },
   {
    "duration": 4,
    "start_time": "2022-07-17T19:46:16.811Z"
   },
   {
    "duration": 3,
    "start_time": "2022-07-17T19:46:18.133Z"
   },
   {
    "duration": 7,
    "start_time": "2022-07-17T19:46:18.594Z"
   },
   {
    "duration": 4,
    "start_time": "2022-07-17T19:47:42.151Z"
   },
   {
    "duration": 3,
    "start_time": "2022-07-17T19:48:26.220Z"
   },
   {
    "duration": 5,
    "start_time": "2022-07-17T19:48:35.593Z"
   },
   {
    "duration": 9,
    "start_time": "2022-07-17T19:49:19.600Z"
   },
   {
    "duration": 7,
    "start_time": "2022-07-17T19:49:27.033Z"
   },
   {
    "duration": 4,
    "start_time": "2022-07-17T19:51:58.155Z"
   },
   {
    "duration": 5,
    "start_time": "2022-07-17T19:52:04.742Z"
   },
   {
    "duration": 3,
    "start_time": "2022-07-17T19:52:27.029Z"
   },
   {
    "duration": 171,
    "start_time": "2022-07-17T22:10:51.016Z"
   },
   {
    "duration": 6,
    "start_time": "2022-07-17T22:11:08.432Z"
   },
   {
    "duration": 50,
    "start_time": "2022-07-17T22:11:57.234Z"
   },
   {
    "duration": 7150,
    "start_time": "2022-07-17T22:12:22.316Z"
   },
   {
    "duration": 1472,
    "start_time": "2022-07-17T22:12:29.468Z"
   },
   {
    "duration": 3,
    "start_time": "2022-07-17T22:12:30.942Z"
   },
   {
    "duration": 110,
    "start_time": "2022-07-17T22:12:30.946Z"
   },
   {
    "duration": 4,
    "start_time": "2022-07-17T22:12:31.059Z"
   },
   {
    "duration": 33,
    "start_time": "2022-07-17T22:12:31.065Z"
   },
   {
    "duration": 18,
    "start_time": "2022-07-17T22:12:31.100Z"
   },
   {
    "duration": 4,
    "start_time": "2022-07-17T22:12:31.120Z"
   },
   {
    "duration": 20,
    "start_time": "2022-07-17T22:12:31.125Z"
   },
   {
    "duration": 18,
    "start_time": "2022-07-17T22:12:31.147Z"
   },
   {
    "duration": 37,
    "start_time": "2022-07-17T22:12:31.167Z"
   },
   {
    "duration": 15,
    "start_time": "2022-07-17T22:12:31.205Z"
   },
   {
    "duration": 10,
    "start_time": "2022-07-17T22:12:31.222Z"
   },
   {
    "duration": 3776,
    "start_time": "2022-07-17T22:12:31.236Z"
   },
   {
    "duration": 3,
    "start_time": "2022-07-17T22:12:35.014Z"
   },
   {
    "duration": 30,
    "start_time": "2022-07-17T22:12:35.019Z"
   },
   {
    "duration": 19,
    "start_time": "2022-07-17T22:12:35.051Z"
   },
   {
    "duration": 12,
    "start_time": "2022-07-17T22:12:35.071Z"
   },
   {
    "duration": 23,
    "start_time": "2022-07-17T22:12:35.084Z"
   },
   {
    "duration": 36,
    "start_time": "2022-07-17T22:12:35.109Z"
   },
   {
    "duration": 21,
    "start_time": "2022-07-17T22:12:35.147Z"
   },
   {
    "duration": 19,
    "start_time": "2022-07-17T22:12:35.170Z"
   },
   {
    "duration": 7,
    "start_time": "2022-07-17T22:12:35.191Z"
   },
   {
    "duration": 9,
    "start_time": "2022-07-17T22:12:35.239Z"
   },
   {
    "duration": 8,
    "start_time": "2022-07-17T22:12:35.250Z"
   },
   {
    "duration": 1474,
    "start_time": "2022-07-17T22:12:35.260Z"
   },
   {
    "duration": 4,
    "start_time": "2022-07-17T22:12:36.736Z"
   },
   {
    "duration": 6,
    "start_time": "2022-07-17T22:12:36.741Z"
   },
   {
    "duration": 14923,
    "start_time": "2022-07-17T22:12:36.748Z"
   },
   {
    "duration": 15414,
    "start_time": "2022-07-17T22:12:51.672Z"
   },
   {
    "duration": 802,
    "start_time": "2022-07-17T22:13:07.088Z"
   },
   {
    "duration": 9,
    "start_time": "2022-07-17T22:13:07.892Z"
   },
   {
    "duration": 23,
    "start_time": "2022-07-17T22:13:07.903Z"
   },
   {
    "duration": 17,
    "start_time": "2022-07-17T22:13:07.929Z"
   },
   {
    "duration": 7,
    "start_time": "2022-07-17T22:13:07.947Z"
   },
   {
    "duration": 11,
    "start_time": "2022-07-17T22:13:07.956Z"
   },
   {
    "duration": 76,
    "start_time": "2022-07-17T22:13:07.969Z"
   },
   {
    "duration": 96,
    "start_time": "2022-07-17T22:13:08.047Z"
   },
   {
    "duration": 96,
    "start_time": "2022-07-17T22:13:08.145Z"
   },
   {
    "duration": 4,
    "start_time": "2022-07-17T22:13:08.243Z"
   },
   {
    "duration": 9,
    "start_time": "2022-07-17T22:13:08.250Z"
   },
   {
    "duration": 9,
    "start_time": "2022-07-17T22:13:08.260Z"
   },
   {
    "duration": 71,
    "start_time": "2022-07-17T22:13:08.271Z"
   },
   {
    "duration": 98,
    "start_time": "2022-07-17T22:13:08.344Z"
   },
   {
    "duration": 11,
    "start_time": "2022-07-17T22:13:08.444Z"
   },
   {
    "duration": 6,
    "start_time": "2022-07-17T22:14:12.549Z"
   },
   {
    "duration": 4,
    "start_time": "2022-07-17T22:14:15.702Z"
   },
   {
    "duration": 3,
    "start_time": "2022-07-17T22:14:16.402Z"
   },
   {
    "duration": 113,
    "start_time": "2022-07-17T22:23:58.199Z"
   },
   {
    "duration": 7,
    "start_time": "2022-07-17T22:24:00.434Z"
   },
   {
    "duration": 15,
    "start_time": "2022-07-17T22:24:00.861Z"
   },
   {
    "duration": 6,
    "start_time": "2022-07-17T22:24:18.542Z"
   },
   {
    "duration": 7,
    "start_time": "2022-07-17T22:24:18.918Z"
   },
   {
    "duration": 6,
    "start_time": "2022-07-17T22:24:52.267Z"
   },
   {
    "duration": 8,
    "start_time": "2022-07-17T22:24:54.067Z"
   },
   {
    "duration": 7,
    "start_time": "2022-07-17T22:25:17.108Z"
   },
   {
    "duration": 7,
    "start_time": "2022-07-17T22:25:25.109Z"
   },
   {
    "duration": 6,
    "start_time": "2022-07-17T22:29:13.443Z"
   },
   {
    "duration": 7,
    "start_time": "2022-07-17T22:29:14.204Z"
   },
   {
    "duration": 7,
    "start_time": "2022-07-17T22:31:48.402Z"
   },
   {
    "duration": 8,
    "start_time": "2022-07-17T22:31:59.699Z"
   },
   {
    "duration": 6,
    "start_time": "2022-07-17T22:33:32.084Z"
   },
   {
    "duration": 8,
    "start_time": "2022-07-17T22:35:23.968Z"
   },
   {
    "duration": 8,
    "start_time": "2022-07-17T22:35:24.326Z"
   },
   {
    "duration": 18,
    "start_time": "2022-07-17T22:35:25.819Z"
   },
   {
    "duration": 18,
    "start_time": "2022-07-17T22:35:34.657Z"
   },
   {
    "duration": 9,
    "start_time": "2022-07-17T22:35:52.740Z"
   },
   {
    "duration": 7,
    "start_time": "2022-07-17T22:35:53.080Z"
   },
   {
    "duration": 18,
    "start_time": "2022-07-17T22:35:53.388Z"
   },
   {
    "duration": 2625,
    "start_time": "2022-07-17T22:36:14.794Z"
   },
   {
    "duration": 1215,
    "start_time": "2022-07-17T22:36:17.421Z"
   },
   {
    "duration": 3,
    "start_time": "2022-07-17T22:36:18.638Z"
   },
   {
    "duration": 39,
    "start_time": "2022-07-17T22:36:18.642Z"
   },
   {
    "duration": 4,
    "start_time": "2022-07-17T22:36:18.683Z"
   },
   {
    "duration": 31,
    "start_time": "2022-07-17T22:36:18.689Z"
   },
   {
    "duration": 21,
    "start_time": "2022-07-17T22:36:18.722Z"
   },
   {
    "duration": 13,
    "start_time": "2022-07-17T22:36:18.744Z"
   },
   {
    "duration": 14,
    "start_time": "2022-07-17T22:36:18.759Z"
   },
   {
    "duration": 21,
    "start_time": "2022-07-17T22:36:18.774Z"
   },
   {
    "duration": 33,
    "start_time": "2022-07-17T22:36:18.797Z"
   },
   {
    "duration": 16,
    "start_time": "2022-07-17T22:36:18.832Z"
   },
   {
    "duration": 5,
    "start_time": "2022-07-17T22:36:18.849Z"
   },
   {
    "duration": 3649,
    "start_time": "2022-07-17T22:36:18.857Z"
   },
   {
    "duration": 2,
    "start_time": "2022-07-17T22:36:22.508Z"
   },
   {
    "duration": 8,
    "start_time": "2022-07-17T22:36:22.512Z"
   },
   {
    "duration": 25,
    "start_time": "2022-07-17T22:36:22.522Z"
   },
   {
    "duration": 10,
    "start_time": "2022-07-17T22:36:22.549Z"
   },
   {
    "duration": 24,
    "start_time": "2022-07-17T22:36:22.560Z"
   },
   {
    "duration": 18,
    "start_time": "2022-07-17T22:36:22.586Z"
   },
   {
    "duration": 43,
    "start_time": "2022-07-17T22:36:22.606Z"
   },
   {
    "duration": 19,
    "start_time": "2022-07-17T22:36:22.651Z"
   },
   {
    "duration": 11,
    "start_time": "2022-07-17T22:36:22.672Z"
   },
   {
    "duration": 7,
    "start_time": "2022-07-17T22:36:22.685Z"
   },
   {
    "duration": 7,
    "start_time": "2022-07-17T22:36:22.694Z"
   },
   {
    "duration": 1530,
    "start_time": "2022-07-17T22:36:22.703Z"
   },
   {
    "duration": 5,
    "start_time": "2022-07-17T22:36:24.235Z"
   },
   {
    "duration": 8,
    "start_time": "2022-07-17T22:36:24.242Z"
   },
   {
    "duration": 15208,
    "start_time": "2022-07-17T22:36:24.251Z"
   },
   {
    "duration": 15471,
    "start_time": "2022-07-17T22:36:39.460Z"
   },
   {
    "duration": 746,
    "start_time": "2022-07-17T22:36:54.933Z"
   },
   {
    "duration": 7,
    "start_time": "2022-07-17T22:36:55.680Z"
   },
   {
    "duration": 23,
    "start_time": "2022-07-17T22:36:55.688Z"
   },
   {
    "duration": 20,
    "start_time": "2022-07-17T22:36:55.713Z"
   },
   {
    "duration": 29,
    "start_time": "2022-07-17T22:36:55.735Z"
   },
   {
    "duration": 21,
    "start_time": "2022-07-17T22:36:55.766Z"
   },
   {
    "duration": 55,
    "start_time": "2022-07-17T22:36:55.789Z"
   },
   {
    "duration": 104,
    "start_time": "2022-07-17T22:36:55.846Z"
   },
   {
    "duration": 8,
    "start_time": "2022-07-17T22:36:55.952Z"
   },
   {
    "duration": 3,
    "start_time": "2022-07-17T22:36:56.041Z"
   },
   {
    "duration": 6,
    "start_time": "2022-07-17T22:36:56.048Z"
   },
   {
    "duration": 10,
    "start_time": "2022-07-17T22:36:56.056Z"
   },
   {
    "duration": 77,
    "start_time": "2022-07-17T22:36:56.068Z"
   },
   {
    "duration": 8,
    "start_time": "2022-07-17T22:36:56.146Z"
   },
   {
    "duration": 88,
    "start_time": "2022-07-17T22:36:56.156Z"
   },
   {
    "duration": 9,
    "start_time": "2022-07-17T22:36:56.247Z"
   },
   {
    "duration": 86,
    "start_time": "2022-07-17T22:36:56.258Z"
   },
   {
    "duration": 278,
    "start_time": "2022-07-17T22:36:56.347Z"
   },
   {
    "duration": 7,
    "start_time": "2022-07-17T22:37:58.804Z"
   },
   {
    "duration": 16,
    "start_time": "2022-07-17T22:37:59.290Z"
   },
   {
    "duration": 19,
    "start_time": "2022-07-17T22:37:59.547Z"
   },
   {
    "duration": 7,
    "start_time": "2022-07-17T22:38:19.523Z"
   },
   {
    "duration": 7,
    "start_time": "2022-07-17T22:38:19.881Z"
   },
   {
    "duration": 17,
    "start_time": "2022-07-17T22:38:20.069Z"
   },
   {
    "duration": 4,
    "start_time": "2022-07-17T22:38:32.942Z"
   },
   {
    "duration": 7,
    "start_time": "2022-07-17T22:39:44.123Z"
   },
   {
    "duration": 13,
    "start_time": "2022-07-17T22:39:44.412Z"
   },
   {
    "duration": 19,
    "start_time": "2022-07-17T22:39:44.592Z"
   },
   {
    "duration": 5,
    "start_time": "2022-07-17T22:39:44.739Z"
   },
   {
    "duration": 9,
    "start_time": "2022-07-17T22:42:50.678Z"
   },
   {
    "duration": 4,
    "start_time": "2022-07-17T22:42:59.640Z"
   },
   {
    "duration": 9,
    "start_time": "2022-07-17T22:43:20.660Z"
   },
   {
    "duration": 4,
    "start_time": "2022-07-17T22:43:52.274Z"
   },
   {
    "duration": 9,
    "start_time": "2022-07-17T22:43:58.436Z"
   },
   {
    "duration": 9,
    "start_time": "2022-07-17T22:44:27.545Z"
   },
   {
    "duration": 12,
    "start_time": "2022-07-17T22:44:27.904Z"
   },
   {
    "duration": 7,
    "start_time": "2022-07-17T22:46:09.054Z"
   },
   {
    "duration": 7,
    "start_time": "2022-07-17T22:46:09.395Z"
   },
   {
    "duration": 14,
    "start_time": "2022-07-17T22:46:10.206Z"
   },
   {
    "duration": 8,
    "start_time": "2022-07-17T22:46:29.426Z"
   },
   {
    "duration": 15,
    "start_time": "2022-07-17T22:46:29.630Z"
   },
   {
    "duration": 7,
    "start_time": "2022-07-17T22:46:51.576Z"
   },
   {
    "duration": 12,
    "start_time": "2022-07-17T22:46:51.831Z"
   },
   {
    "duration": 85,
    "start_time": "2022-07-17T22:47:43.702Z"
   },
   {
    "duration": 13,
    "start_time": "2022-07-17T22:47:44.069Z"
   },
   {
    "duration": 17,
    "start_time": "2022-07-17T22:47:44.770Z"
   },
   {
    "duration": 3,
    "start_time": "2022-07-17T22:50:34.512Z"
   },
   {
    "duration": 82,
    "start_time": "2022-07-17T22:50:55.615Z"
   },
   {
    "duration": 13,
    "start_time": "2022-07-17T22:50:56.212Z"
   },
   {
    "duration": 15,
    "start_time": "2022-07-17T22:50:56.949Z"
   },
   {
    "duration": 82,
    "start_time": "2022-07-17T22:51:01.308Z"
   },
   {
    "duration": 14,
    "start_time": "2022-07-17T22:51:01.626Z"
   },
   {
    "duration": 76,
    "start_time": "2022-07-17T22:51:28.989Z"
   },
   {
    "duration": 15,
    "start_time": "2022-07-17T22:51:29.714Z"
   },
   {
    "duration": 7,
    "start_time": "2022-07-17T22:51:40.092Z"
   },
   {
    "duration": 6,
    "start_time": "2022-07-17T22:51:40.569Z"
   },
   {
    "duration": 7,
    "start_time": "2022-07-17T22:51:41.751Z"
   },
   {
    "duration": 6,
    "start_time": "2022-07-17T22:52:34.052Z"
   },
   {
    "duration": 7,
    "start_time": "2022-07-17T22:52:34.521Z"
   },
   {
    "duration": 7,
    "start_time": "2022-07-17T22:52:35.494Z"
   },
   {
    "duration": 7,
    "start_time": "2022-07-17T22:52:41.348Z"
   },
   {
    "duration": 6,
    "start_time": "2022-07-17T22:52:42.175Z"
   },
   {
    "duration": 7,
    "start_time": "2022-07-17T22:52:49.082Z"
   },
   {
    "duration": 4,
    "start_time": "2022-07-17T22:52:54.970Z"
   },
   {
    "duration": 8,
    "start_time": "2022-07-17T22:53:03.008Z"
   },
   {
    "duration": 14,
    "start_time": "2022-07-17T22:53:03.819Z"
   },
   {
    "duration": 8,
    "start_time": "2022-07-17T22:53:27.531Z"
   },
   {
    "duration": 6,
    "start_time": "2022-07-17T22:53:27.873Z"
   },
   {
    "duration": 19,
    "start_time": "2022-07-17T22:53:28.855Z"
   },
   {
    "duration": 2482,
    "start_time": "2022-07-17T22:54:36.915Z"
   },
   {
    "duration": 1147,
    "start_time": "2022-07-17T22:54:39.400Z"
   },
   {
    "duration": 3,
    "start_time": "2022-07-17T22:54:40.548Z"
   },
   {
    "duration": 36,
    "start_time": "2022-07-17T22:54:40.553Z"
   },
   {
    "duration": 5,
    "start_time": "2022-07-17T22:54:40.592Z"
   },
   {
    "duration": 23,
    "start_time": "2022-07-17T22:54:40.598Z"
   },
   {
    "duration": 12,
    "start_time": "2022-07-17T22:54:40.623Z"
   },
   {
    "duration": 4,
    "start_time": "2022-07-17T22:54:40.641Z"
   },
   {
    "duration": 16,
    "start_time": "2022-07-17T22:54:40.647Z"
   },
   {
    "duration": 4,
    "start_time": "2022-07-17T22:54:40.665Z"
   },
   {
    "duration": 25,
    "start_time": "2022-07-17T22:54:40.671Z"
   },
   {
    "duration": 50,
    "start_time": "2022-07-17T22:54:40.698Z"
   },
   {
    "duration": 6,
    "start_time": "2022-07-17T22:54:40.750Z"
   },
   {
    "duration": 3604,
    "start_time": "2022-07-17T22:54:40.760Z"
   },
   {
    "duration": 3,
    "start_time": "2022-07-17T22:54:44.366Z"
   },
   {
    "duration": 9,
    "start_time": "2022-07-17T22:54:44.371Z"
   },
   {
    "duration": 18,
    "start_time": "2022-07-17T22:54:44.382Z"
   },
   {
    "duration": 39,
    "start_time": "2022-07-17T22:54:44.402Z"
   },
   {
    "duration": 20,
    "start_time": "2022-07-17T22:54:44.443Z"
   },
   {
    "duration": 20,
    "start_time": "2022-07-17T22:54:44.465Z"
   },
   {
    "duration": 20,
    "start_time": "2022-07-17T22:54:44.488Z"
   },
   {
    "duration": 52,
    "start_time": "2022-07-17T22:54:44.510Z"
   },
   {
    "duration": 6,
    "start_time": "2022-07-17T22:54:44.563Z"
   },
   {
    "duration": 11,
    "start_time": "2022-07-17T22:54:44.570Z"
   },
   {
    "duration": 6,
    "start_time": "2022-07-17T22:54:44.582Z"
   },
   {
    "duration": 1542,
    "start_time": "2022-07-17T22:54:44.589Z"
   },
   {
    "duration": 7,
    "start_time": "2022-07-17T22:54:46.133Z"
   },
   {
    "duration": 15,
    "start_time": "2022-07-17T22:54:46.142Z"
   },
   {
    "duration": 15515,
    "start_time": "2022-07-17T22:54:46.159Z"
   },
   {
    "duration": 15221,
    "start_time": "2022-07-17T22:55:01.676Z"
   },
   {
    "duration": 752,
    "start_time": "2022-07-17T22:55:16.898Z"
   },
   {
    "duration": 8,
    "start_time": "2022-07-17T22:55:17.652Z"
   },
   {
    "duration": 13,
    "start_time": "2022-07-17T22:55:17.662Z"
   },
   {
    "duration": 23,
    "start_time": "2022-07-17T22:55:17.677Z"
   },
   {
    "duration": 6,
    "start_time": "2022-07-17T22:55:17.703Z"
   },
   {
    "duration": 37,
    "start_time": "2022-07-17T22:55:17.712Z"
   },
   {
    "duration": 99,
    "start_time": "2022-07-17T22:55:17.751Z"
   },
   {
    "duration": 89,
    "start_time": "2022-07-17T22:55:17.851Z"
   },
   {
    "duration": 4,
    "start_time": "2022-07-17T22:55:17.942Z"
   },
   {
    "duration": 92,
    "start_time": "2022-07-17T22:55:17.948Z"
   },
   {
    "duration": 4,
    "start_time": "2022-07-17T22:55:18.045Z"
   },
   {
    "duration": 16,
    "start_time": "2022-07-17T22:55:18.051Z"
   },
   {
    "duration": 3,
    "start_time": "2022-07-17T22:55:18.141Z"
   },
   {
    "duration": 9,
    "start_time": "2022-07-17T22:55:18.146Z"
   },
   {
    "duration": 87,
    "start_time": "2022-07-17T22:55:18.156Z"
   },
   {
    "duration": 8,
    "start_time": "2022-07-17T22:55:18.245Z"
   },
   {
    "duration": 91,
    "start_time": "2022-07-17T22:55:18.254Z"
   },
   {
    "duration": 275,
    "start_time": "2022-07-17T22:55:18.348Z"
   },
   {
    "duration": 5,
    "start_time": "2022-07-17T22:55:55.947Z"
   },
   {
    "duration": 5,
    "start_time": "2022-07-17T22:56:14.219Z"
   },
   {
    "duration": 5,
    "start_time": "2022-07-17T22:56:22.803Z"
   },
   {
    "duration": 7,
    "start_time": "2022-07-17T22:57:38.884Z"
   },
   {
    "duration": 7,
    "start_time": "2022-07-17T22:57:39.175Z"
   },
   {
    "duration": 17,
    "start_time": "2022-07-17T22:57:40.002Z"
   },
   {
    "duration": 4,
    "start_time": "2022-07-17T22:57:44.420Z"
   },
   {
    "duration": 5,
    "start_time": "2022-07-17T22:57:52.185Z"
   },
   {
    "duration": 7,
    "start_time": "2022-07-17T23:00:16.233Z"
   },
   {
    "duration": 10,
    "start_time": "2022-07-17T23:00:17.700Z"
   },
   {
    "duration": 7,
    "start_time": "2022-07-17T23:00:17.931Z"
   },
   {
    "duration": 16,
    "start_time": "2022-07-17T23:00:35.365Z"
   },
   {
    "duration": 8,
    "start_time": "2022-07-17T23:00:43.603Z"
   },
   {
    "duration": 7,
    "start_time": "2022-07-17T23:00:44.099Z"
   },
   {
    "duration": 16,
    "start_time": "2022-07-17T23:00:44.926Z"
   },
   {
    "duration": 8,
    "start_time": "2022-07-17T23:01:05.795Z"
   },
   {
    "duration": 8,
    "start_time": "2022-07-17T23:01:06.119Z"
   },
   {
    "duration": 19,
    "start_time": "2022-07-17T23:01:07.135Z"
   },
   {
    "duration": 4,
    "start_time": "2022-07-17T23:01:11.274Z"
   },
   {
    "duration": 8,
    "start_time": "2022-07-17T23:01:56.757Z"
   },
   {
    "duration": 7,
    "start_time": "2022-07-17T23:01:57.440Z"
   },
   {
    "duration": 90,
    "start_time": "2022-07-17T23:01:58.250Z"
   },
   {
    "duration": 4,
    "start_time": "2022-07-17T23:04:56.880Z"
   },
   {
    "duration": 4,
    "start_time": "2022-07-17T23:05:11.420Z"
   },
   {
    "duration": 4,
    "start_time": "2022-07-17T23:05:26.371Z"
   },
   {
    "duration": 9,
    "start_time": "2022-07-17T23:05:35.365Z"
   },
   {
    "duration": 4,
    "start_time": "2022-07-17T23:05:42.976Z"
   },
   {
    "duration": 5,
    "start_time": "2022-07-17T23:07:41.498Z"
   },
   {
    "duration": 18,
    "start_time": "2022-07-17T23:09:50.181Z"
   },
   {
    "duration": 10,
    "start_time": "2022-07-17T23:10:45.516Z"
   },
   {
    "duration": 88,
    "start_time": "2022-07-17T23:10:49.952Z"
   },
   {
    "duration": 10,
    "start_time": "2022-07-17T23:10:50.873Z"
   },
   {
    "duration": 10,
    "start_time": "2022-07-17T23:10:59.406Z"
   },
   {
    "duration": 10,
    "start_time": "2022-07-17T23:11:04.731Z"
   },
   {
    "duration": 5,
    "start_time": "2022-07-17T23:11:10.969Z"
   },
   {
    "duration": 8,
    "start_time": "2022-07-17T23:15:36.419Z"
   },
   {
    "duration": 7,
    "start_time": "2022-07-17T23:15:36.962Z"
   },
   {
    "duration": 7,
    "start_time": "2022-07-17T23:15:41.661Z"
   },
   {
    "duration": 142,
    "start_time": "2022-07-17T23:15:42.506Z"
   },
   {
    "duration": 6,
    "start_time": "2022-07-17T23:15:47.916Z"
   },
   {
    "duration": 8,
    "start_time": "2022-07-17T23:16:59.413Z"
   },
   {
    "duration": 9,
    "start_time": "2022-07-17T23:16:59.848Z"
   },
   {
    "duration": 92,
    "start_time": "2022-07-17T23:17:01.648Z"
   },
   {
    "duration": 5,
    "start_time": "2022-07-17T23:17:03.927Z"
   },
   {
    "duration": 7,
    "start_time": "2022-07-17T23:19:09.907Z"
   },
   {
    "duration": 8,
    "start_time": "2022-07-17T23:19:10.231Z"
   },
   {
    "duration": 76,
    "start_time": "2022-07-17T23:19:10.965Z"
   },
   {
    "duration": 8,
    "start_time": "2022-07-17T23:20:12.935Z"
   },
   {
    "duration": 7,
    "start_time": "2022-07-17T23:20:13.302Z"
   },
   {
    "duration": 92,
    "start_time": "2022-07-17T23:20:14.847Z"
   },
   {
    "duration": 5,
    "start_time": "2022-07-17T23:20:25.937Z"
   },
   {
    "duration": 2509,
    "start_time": "2022-07-17T23:24:49.427Z"
   },
   {
    "duration": 1246,
    "start_time": "2022-07-17T23:24:56.315Z"
   },
   {
    "duration": 2,
    "start_time": "2022-07-17T23:24:57.563Z"
   },
   {
    "duration": 31,
    "start_time": "2022-07-17T23:25:00.198Z"
   },
   {
    "duration": 4,
    "start_time": "2022-07-17T23:25:01.776Z"
   },
   {
    "duration": 22,
    "start_time": "2022-07-17T23:25:01.905Z"
   },
   {
    "duration": 14,
    "start_time": "2022-07-17T23:25:02.032Z"
   },
   {
    "duration": 4,
    "start_time": "2022-07-17T23:25:03.440Z"
   },
   {
    "duration": 12,
    "start_time": "2022-07-17T23:25:03.696Z"
   },
   {
    "duration": 2,
    "start_time": "2022-07-17T23:25:03.944Z"
   },
   {
    "duration": 24,
    "start_time": "2022-07-17T23:25:04.123Z"
   },
   {
    "duration": 15,
    "start_time": "2022-07-17T23:25:05.736Z"
   },
   {
    "duration": 5,
    "start_time": "2022-07-17T23:25:05.898Z"
   },
   {
    "duration": 3624,
    "start_time": "2022-07-17T23:25:09.448Z"
   },
   {
    "duration": 2,
    "start_time": "2022-07-17T23:25:16.838Z"
   },
   {
    "duration": 5,
    "start_time": "2022-07-17T23:25:16.982Z"
   },
   {
    "duration": 11,
    "start_time": "2022-07-17T23:25:22.862Z"
   },
   {
    "duration": 11,
    "start_time": "2022-07-17T23:25:22.999Z"
   },
   {
    "duration": 20,
    "start_time": "2022-07-17T23:25:23.280Z"
   },
   {
    "duration": 19,
    "start_time": "2022-07-17T23:25:23.417Z"
   },
   {
    "duration": 16,
    "start_time": "2022-07-17T23:25:23.554Z"
   },
   {
    "duration": 18,
    "start_time": "2022-07-17T23:25:23.690Z"
   },
   {
    "duration": 6,
    "start_time": "2022-07-17T23:43:10.893Z"
   },
   {
    "duration": 9,
    "start_time": "2022-07-17T23:43:11.081Z"
   },
   {
    "duration": 5,
    "start_time": "2022-07-17T23:43:14.144Z"
   },
   {
    "duration": 1446,
    "start_time": "2022-07-17T23:43:17.336Z"
   },
   {
    "duration": 3,
    "start_time": "2022-07-17T23:43:22.422Z"
   },
   {
    "duration": 3,
    "start_time": "2022-07-17T23:43:22.669Z"
   },
   {
    "duration": 15087,
    "start_time": "2022-07-17T23:43:22.959Z"
   },
   {
    "duration": 15445,
    "start_time": "2022-07-17T23:43:38.048Z"
   },
   {
    "duration": 784,
    "start_time": "2022-07-17T23:43:53.495Z"
   },
   {
    "duration": 4,
    "start_time": "2022-07-17T23:48:03.041Z"
   },
   {
    "duration": 113,
    "start_time": "2022-07-17T23:49:44.254Z"
   },
   {
    "duration": 4,
    "start_time": "2022-07-17T23:50:06.612Z"
   },
   {
    "duration": 1476,
    "start_time": "2022-07-17T23:50:15.649Z"
   },
   {
    "duration": 4,
    "start_time": "2022-07-17T23:50:18.200Z"
   },
   {
    "duration": 10,
    "start_time": "2022-07-17T23:50:19.736Z"
   },
   {
    "duration": 423,
    "start_time": "2022-07-17T23:50:45.115Z"
   },
   {
    "duration": 12,
    "start_time": "2022-07-17T23:50:51.762Z"
   },
   {
    "duration": 598,
    "start_time": "2022-07-17T23:50:52.436Z"
   },
   {
    "duration": 14,
    "start_time": "2022-07-17T23:50:59.800Z"
   },
   {
    "duration": 754,
    "start_time": "2022-07-17T23:51:00.091Z"
   },
   {
    "duration": 16,
    "start_time": "2022-07-17T23:51:14.217Z"
   },
   {
    "duration": 1135,
    "start_time": "2022-07-17T23:51:14.626Z"
   },
   {
    "duration": 26,
    "start_time": "2022-07-17T23:51:39.141Z"
   },
   {
    "duration": 2081,
    "start_time": "2022-07-17T23:51:39.423Z"
   },
   {
    "duration": 14,
    "start_time": "2022-07-17T23:51:51.546Z"
   },
   {
    "duration": 973,
    "start_time": "2022-07-17T23:51:54.626Z"
   },
   {
    "duration": 14,
    "start_time": "2022-07-17T23:51:58.509Z"
   },
   {
    "duration": 744,
    "start_time": "2022-07-17T23:51:58.773Z"
   },
   {
    "duration": 12,
    "start_time": "2022-07-17T23:52:02.707Z"
   },
   {
    "duration": 588,
    "start_time": "2022-07-17T23:52:03.031Z"
   },
   {
    "duration": 10,
    "start_time": "2022-07-17T23:52:07.571Z"
   },
   {
    "duration": 473,
    "start_time": "2022-07-17T23:52:08.167Z"
   },
   {
    "duration": 11,
    "start_time": "2022-07-17T23:52:12.041Z"
   },
   {
    "duration": 575,
    "start_time": "2022-07-17T23:52:13.125Z"
   },
   {
    "duration": 4,
    "start_time": "2022-07-17T23:54:27.404Z"
   },
   {
    "duration": 11,
    "start_time": "2022-07-17T23:54:29.712Z"
   },
   {
    "duration": 582,
    "start_time": "2022-07-17T23:54:30.489Z"
   },
   {
    "duration": 9,
    "start_time": "2022-07-17T23:55:45.359Z"
   },
   {
    "duration": 5,
    "start_time": "2022-07-17T23:55:49.224Z"
   },
   {
    "duration": 11,
    "start_time": "2022-07-17T23:55:50.231Z"
   },
   {
    "duration": 562,
    "start_time": "2022-07-17T23:55:50.479Z"
   },
   {
    "duration": 9,
    "start_time": "2022-07-17T23:55:51.391Z"
   },
   {
    "duration": 29,
    "start_time": "2022-07-17T23:56:09.201Z"
   },
   {
    "duration": 21,
    "start_time": "2022-07-17T23:56:53.610Z"
   },
   {
    "duration": 25,
    "start_time": "2022-07-17T23:58:00.183Z"
   },
   {
    "duration": 28,
    "start_time": "2022-07-17T23:58:37.498Z"
   },
   {
    "duration": 11,
    "start_time": "2022-07-17T23:59:03.679Z"
   },
   {
    "duration": 12,
    "start_time": "2022-07-17T23:59:13.054Z"
   },
   {
    "duration": 5,
    "start_time": "2022-07-18T00:00:04.379Z"
   },
   {
    "duration": 6,
    "start_time": "2022-07-18T00:01:23.950Z"
   },
   {
    "duration": 12,
    "start_time": "2022-07-18T00:01:29.548Z"
   },
   {
    "duration": 5,
    "start_time": "2022-07-18T00:01:38.068Z"
   },
   {
    "duration": 5,
    "start_time": "2022-07-18T00:01:52.632Z"
   },
   {
    "duration": 1446,
    "start_time": "2022-07-18T00:01:59.117Z"
   },
   {
    "duration": 12,
    "start_time": "2022-07-18T00:02:19.189Z"
   },
   {
    "duration": 4,
    "start_time": "2022-07-18T00:02:35.870Z"
   },
   {
    "duration": 11,
    "start_time": "2022-07-18T00:02:41.893Z"
   },
   {
    "duration": 12,
    "start_time": "2022-07-18T00:02:44.761Z"
   },
   {
    "duration": 5,
    "start_time": "2022-07-18T00:02:45.690Z"
   },
   {
    "duration": 9,
    "start_time": "2022-07-18T00:02:51.723Z"
   },
   {
    "duration": 326,
    "start_time": "2022-07-18T00:02:53.942Z"
   },
   {
    "duration": 13,
    "start_time": "2022-07-18T00:02:57.603Z"
   },
   {
    "duration": 6,
    "start_time": "2022-07-18T00:03:01.118Z"
   },
   {
    "duration": 5,
    "start_time": "2022-07-18T00:03:19.090Z"
   },
   {
    "duration": 22,
    "start_time": "2022-07-18T00:03:19.866Z"
   },
   {
    "duration": 29,
    "start_time": "2022-07-18T00:05:21.653Z"
   },
   {
    "duration": 24,
    "start_time": "2022-07-18T00:05:25.237Z"
   },
   {
    "duration": 23,
    "start_time": "2022-07-18T00:05:28.283Z"
   },
   {
    "duration": 5,
    "start_time": "2022-07-18T00:06:47.297Z"
   },
   {
    "duration": 9,
    "start_time": "2022-07-18T00:06:48.014Z"
   },
   {
    "duration": 334,
    "start_time": "2022-07-18T00:06:48.364Z"
   },
   {
    "duration": 12,
    "start_time": "2022-07-18T00:06:48.944Z"
   },
   {
    "duration": 5,
    "start_time": "2022-07-18T00:06:50.147Z"
   },
   {
    "duration": 20,
    "start_time": "2022-07-18T00:06:51.478Z"
   },
   {
    "duration": 5,
    "start_time": "2022-07-18T00:07:51.826Z"
   },
   {
    "duration": 11,
    "start_time": "2022-07-18T00:07:52.909Z"
   },
   {
    "duration": 345,
    "start_time": "2022-07-18T00:07:53.330Z"
   },
   {
    "duration": 13,
    "start_time": "2022-07-18T00:07:53.848Z"
   },
   {
    "duration": 6,
    "start_time": "2022-07-18T00:07:54.454Z"
   },
   {
    "duration": 27,
    "start_time": "2022-07-18T00:07:55.460Z"
   },
   {
    "duration": 27,
    "start_time": "2022-07-18T00:08:45.882Z"
   },
   {
    "duration": 6,
    "start_time": "2022-07-18T00:08:59.141Z"
   },
   {
    "duration": 26,
    "start_time": "2022-07-18T00:08:59.851Z"
   },
   {
    "duration": 12,
    "start_time": "2022-07-18T00:09:12.625Z"
   },
   {
    "duration": 5,
    "start_time": "2022-07-18T00:09:35.428Z"
   },
   {
    "duration": 9,
    "start_time": "2022-07-18T00:09:35.889Z"
   },
   {
    "duration": 329,
    "start_time": "2022-07-18T00:09:36.111Z"
   },
   {
    "duration": 13,
    "start_time": "2022-07-18T00:09:36.442Z"
   },
   {
    "duration": 6,
    "start_time": "2022-07-18T00:09:36.751Z"
   },
   {
    "duration": 33,
    "start_time": "2022-07-18T00:09:37.433Z"
   },
   {
    "duration": 4,
    "start_time": "2022-07-18T00:10:38.297Z"
   },
   {
    "duration": 9,
    "start_time": "2022-07-18T00:10:39.534Z"
   },
   {
    "duration": 326,
    "start_time": "2022-07-18T00:10:39.773Z"
   },
   {
    "duration": 11,
    "start_time": "2022-07-18T00:10:40.101Z"
   },
   {
    "duration": 6,
    "start_time": "2022-07-18T00:10:40.174Z"
   },
   {
    "duration": 20,
    "start_time": "2022-07-18T00:10:41.346Z"
   },
   {
    "duration": 4,
    "start_time": "2022-07-18T00:10:51.552Z"
   },
   {
    "duration": 8,
    "start_time": "2022-07-18T00:10:52.081Z"
   },
   {
    "duration": 325,
    "start_time": "2022-07-18T00:10:52.260Z"
   },
   {
    "duration": 12,
    "start_time": "2022-07-18T00:10:52.587Z"
   },
   {
    "duration": 11,
    "start_time": "2022-07-18T00:10:52.601Z"
   },
   {
    "duration": 9,
    "start_time": "2022-07-18T00:10:52.722Z"
   },
   {
    "duration": 348,
    "start_time": "2022-07-18T00:11:07.663Z"
   },
   {
    "duration": 10,
    "start_time": "2022-07-18T00:11:24.183Z"
   },
   {
    "duration": 330,
    "start_time": "2022-07-18T00:11:24.508Z"
   },
   {
    "duration": 10,
    "start_time": "2022-07-18T00:12:22.218Z"
   },
   {
    "duration": 433,
    "start_time": "2022-07-18T00:12:22.490Z"
   },
   {
    "duration": 9,
    "start_time": "2022-07-18T00:12:26.339Z"
   },
   {
    "duration": 417,
    "start_time": "2022-07-18T00:12:26.672Z"
   },
   {
    "duration": 3,
    "start_time": "2022-07-18T00:12:27.091Z"
   },
   {
    "duration": 3,
    "start_time": "2022-07-18T00:12:27.210Z"
   },
   {
    "duration": 15634,
    "start_time": "2022-07-18T00:12:27.491Z"
   },
   {
    "duration": 15667,
    "start_time": "2022-07-18T00:12:43.128Z"
   },
   {
    "duration": 6,
    "start_time": "2022-07-18T00:14:02.598Z"
   },
   {
    "duration": 7,
    "start_time": "2022-07-18T00:14:02.915Z"
   },
   {
    "duration": 5,
    "start_time": "2022-07-18T00:14:04.707Z"
   },
   {
    "duration": 3,
    "start_time": "2022-07-18T00:14:04.938Z"
   },
   {
    "duration": 11,
    "start_time": "2022-07-18T00:14:08.436Z"
   },
   {
    "duration": 9,
    "start_time": "2022-07-18T00:14:08.949Z"
   },
   {
    "duration": 4,
    "start_time": "2022-07-18T00:16:52.247Z"
   },
   {
    "duration": 3,
    "start_time": "2022-07-18T00:16:52.631Z"
   },
   {
    "duration": 3,
    "start_time": "2022-07-18T00:16:54.517Z"
   },
   {
    "duration": 4,
    "start_time": "2022-07-18T00:16:55.515Z"
   },
   {
    "duration": 5,
    "start_time": "2022-07-18T00:17:36.137Z"
   },
   {
    "duration": 3,
    "start_time": "2022-07-18T00:17:38.147Z"
   },
   {
    "duration": 5,
    "start_time": "2022-07-18T00:17:38.522Z"
   },
   {
    "duration": 6,
    "start_time": "2022-07-18T00:17:43.974Z"
   },
   {
    "duration": 8,
    "start_time": "2022-07-18T00:20:21.119Z"
   },
   {
    "duration": 8,
    "start_time": "2022-07-18T00:20:23.651Z"
   },
   {
    "duration": 20,
    "start_time": "2022-07-18T00:20:24.120Z"
   },
   {
    "duration": 5,
    "start_time": "2022-07-18T00:20:26.305Z"
   },
   {
    "duration": 9,
    "start_time": "2022-07-18T00:21:58.724Z"
   },
   {
    "duration": 7,
    "start_time": "2022-07-18T00:22:00.243Z"
   },
   {
    "duration": 17,
    "start_time": "2022-07-18T00:22:02.556Z"
   },
   {
    "duration": 5,
    "start_time": "2022-07-18T00:22:05.875Z"
   },
   {
    "duration": 1091,
    "start_time": "2022-07-18T20:55:14.574Z"
   },
   {
    "duration": 9549,
    "start_time": "2022-07-18T20:55:42.550Z"
   },
   {
    "duration": 1628,
    "start_time": "2022-07-18T20:55:52.102Z"
   },
   {
    "duration": 4,
    "start_time": "2022-07-18T20:55:53.732Z"
   },
   {
    "duration": 105,
    "start_time": "2022-07-18T20:55:53.737Z"
   },
   {
    "duration": 5,
    "start_time": "2022-07-18T20:55:53.845Z"
   },
   {
    "duration": 19,
    "start_time": "2022-07-18T20:55:53.852Z"
   },
   {
    "duration": 14,
    "start_time": "2022-07-18T20:55:53.872Z"
   },
   {
    "duration": 5,
    "start_time": "2022-07-18T20:55:53.888Z"
   },
   {
    "duration": 17,
    "start_time": "2022-07-18T20:55:53.894Z"
   },
   {
    "duration": 13,
    "start_time": "2022-07-18T20:55:53.915Z"
   },
   {
    "duration": 38,
    "start_time": "2022-07-18T20:55:53.930Z"
   },
   {
    "duration": 21,
    "start_time": "2022-07-18T20:55:53.970Z"
   },
   {
    "duration": 25,
    "start_time": "2022-07-18T20:55:53.993Z"
   },
   {
    "duration": 4283,
    "start_time": "2022-07-18T20:55:54.023Z"
   },
   {
    "duration": 11,
    "start_time": "2022-07-18T20:55:58.316Z"
   },
   {
    "duration": 10,
    "start_time": "2022-07-18T20:55:58.334Z"
   },
   {
    "duration": 17,
    "start_time": "2022-07-18T20:55:58.346Z"
   },
   {
    "duration": 13,
    "start_time": "2022-07-18T20:55:58.366Z"
   },
   {
    "duration": 44,
    "start_time": "2022-07-18T20:55:58.382Z"
   },
   {
    "duration": 25,
    "start_time": "2022-07-18T20:55:58.429Z"
   },
   {
    "duration": 26,
    "start_time": "2022-07-18T20:55:58.456Z"
   },
   {
    "duration": 45,
    "start_time": "2022-07-18T20:55:58.485Z"
   },
   {
    "duration": 35,
    "start_time": "2022-07-18T20:55:58.533Z"
   },
   {
    "duration": 30,
    "start_time": "2022-07-18T20:55:58.571Z"
   },
   {
    "duration": 1312,
    "start_time": "2022-07-18T20:55:58.603Z"
   },
   {
    "duration": 143,
    "start_time": "2022-07-18T20:55:59.920Z"
   },
   {
    "duration": 0,
    "start_time": "2022-07-18T20:56:00.066Z"
   },
   {
    "duration": 0,
    "start_time": "2022-07-18T20:56:00.068Z"
   },
   {
    "duration": 0,
    "start_time": "2022-07-18T20:56:00.069Z"
   },
   {
    "duration": 0,
    "start_time": "2022-07-18T20:56:00.071Z"
   },
   {
    "duration": 0,
    "start_time": "2022-07-18T20:56:00.071Z"
   },
   {
    "duration": 0,
    "start_time": "2022-07-18T20:56:00.074Z"
   },
   {
    "duration": 0,
    "start_time": "2022-07-18T20:56:00.075Z"
   },
   {
    "duration": 0,
    "start_time": "2022-07-18T20:56:00.076Z"
   },
   {
    "duration": 0,
    "start_time": "2022-07-18T20:56:00.077Z"
   },
   {
    "duration": 0,
    "start_time": "2022-07-18T20:56:00.078Z"
   },
   {
    "duration": 0,
    "start_time": "2022-07-18T20:56:00.079Z"
   },
   {
    "duration": 0,
    "start_time": "2022-07-18T20:56:00.080Z"
   },
   {
    "duration": 0,
    "start_time": "2022-07-18T20:56:00.081Z"
   },
   {
    "duration": 0,
    "start_time": "2022-07-18T20:56:00.082Z"
   },
   {
    "duration": 0,
    "start_time": "2022-07-18T20:56:00.083Z"
   },
   {
    "duration": 0,
    "start_time": "2022-07-18T20:56:00.084Z"
   },
   {
    "duration": 0,
    "start_time": "2022-07-18T20:56:00.112Z"
   },
   {
    "duration": 0,
    "start_time": "2022-07-18T20:56:00.116Z"
   },
   {
    "duration": 1,
    "start_time": "2022-07-18T20:56:00.116Z"
   },
   {
    "duration": 0,
    "start_time": "2022-07-18T20:56:00.117Z"
   },
   {
    "duration": 0,
    "start_time": "2022-07-18T20:56:00.118Z"
   },
   {
    "duration": 0,
    "start_time": "2022-07-18T20:56:00.119Z"
   },
   {
    "duration": 0,
    "start_time": "2022-07-18T20:56:00.121Z"
   },
   {
    "duration": 0,
    "start_time": "2022-07-18T20:56:00.122Z"
   },
   {
    "duration": 0,
    "start_time": "2022-07-18T20:56:00.123Z"
   },
   {
    "duration": 0,
    "start_time": "2022-07-18T20:56:00.123Z"
   },
   {
    "duration": 10,
    "start_time": "2022-07-18T20:58:26.704Z"
   },
   {
    "duration": 4,
    "start_time": "2022-07-18T20:59:04.868Z"
   },
   {
    "duration": 12,
    "start_time": "2022-07-18T20:59:05.439Z"
   },
   {
    "duration": 5,
    "start_time": "2022-07-18T21:00:37.070Z"
   },
   {
    "duration": 7,
    "start_time": "2022-07-18T21:01:00.242Z"
   },
   {
    "duration": 5,
    "start_time": "2022-07-18T21:01:13.290Z"
   },
   {
    "duration": 3,
    "start_time": "2022-07-18T21:01:44.333Z"
   },
   {
    "duration": 7,
    "start_time": "2022-07-18T21:01:44.338Z"
   },
   {
    "duration": 16,
    "start_time": "2022-07-18T21:01:44.679Z"
   },
   {
    "duration": 1151,
    "start_time": "2022-07-18T21:01:48.131Z"
   },
   {
    "duration": 6,
    "start_time": "2022-07-18T21:01:49.284Z"
   },
   {
    "duration": 4,
    "start_time": "2022-07-18T21:01:50.993Z"
   },
   {
    "duration": 4,
    "start_time": "2022-07-18T21:01:51.164Z"
   },
   {
    "duration": 17,
    "start_time": "2022-07-18T21:01:51.331Z"
   },
   {
    "duration": 19,
    "start_time": "2022-07-18T21:23:32.806Z"
   },
   {
    "duration": 18,
    "start_time": "2022-07-18T21:24:10.818Z"
   },
   {
    "duration": 1108,
    "start_time": "2022-07-18T21:24:59.263Z"
   },
   {
    "duration": 2301,
    "start_time": "2022-07-18T21:25:22.081Z"
   },
   {
    "duration": 7,
    "start_time": "2022-07-18T21:25:24.384Z"
   },
   {
    "duration": 34,
    "start_time": "2022-07-18T21:25:24.393Z"
   },
   {
    "duration": 12,
    "start_time": "2022-07-18T21:25:44.727Z"
   },
   {
    "duration": 2180,
    "start_time": "2022-07-18T21:26:10.755Z"
   },
   {
    "duration": 6,
    "start_time": "2022-07-18T21:26:12.937Z"
   },
   {
    "duration": 12,
    "start_time": "2022-07-18T21:26:12.945Z"
   },
   {
    "duration": 8,
    "start_time": "2022-07-18T21:26:22.190Z"
   },
   {
    "duration": 3,
    "start_time": "2022-07-18T21:26:24.742Z"
   },
   {
    "duration": 3,
    "start_time": "2022-07-18T21:26:26.209Z"
   },
   {
    "duration": 443,
    "start_time": "2022-07-18T21:33:17.648Z"
   },
   {
    "duration": 467,
    "start_time": "2022-07-18T21:33:35.732Z"
   },
   {
    "duration": 38,
    "start_time": "2022-07-18T21:34:12.143Z"
   },
   {
    "duration": 4,
    "start_time": "2022-07-18T21:34:48.375Z"
   },
   {
    "duration": 38,
    "start_time": "2022-07-18T21:34:53.563Z"
   },
   {
    "duration": 8,
    "start_time": "2022-07-18T21:47:58.150Z"
   },
   {
    "duration": 10,
    "start_time": "2022-07-18T21:48:05.895Z"
   },
   {
    "duration": 4,
    "start_time": "2022-07-18T21:49:27.202Z"
   },
   {
    "duration": 4,
    "start_time": "2022-07-18T21:49:27.799Z"
   },
   {
    "duration": 11,
    "start_time": "2022-07-18T21:49:28.073Z"
   },
   {
    "duration": 10,
    "start_time": "2022-07-18T21:49:28.329Z"
   },
   {
    "duration": 4,
    "start_time": "2022-07-18T21:49:32.698Z"
   },
   {
    "duration": 4,
    "start_time": "2022-07-18T21:49:32.859Z"
   },
   {
    "duration": 3,
    "start_time": "2022-07-18T21:49:33.176Z"
   },
   {
    "duration": 5,
    "start_time": "2022-07-18T21:49:33.491Z"
   },
   {
    "duration": 5,
    "start_time": "2022-07-18T21:49:36.283Z"
   },
   {
    "duration": 3,
    "start_time": "2022-07-18T21:49:36.539Z"
   },
   {
    "duration": 4,
    "start_time": "2022-07-18T21:49:36.676Z"
   },
   {
    "duration": 7,
    "start_time": "2022-07-18T21:49:37.068Z"
   },
   {
    "duration": 7,
    "start_time": "2022-07-18T21:49:40.789Z"
   },
   {
    "duration": 10,
    "start_time": "2022-07-18T21:49:42.290Z"
   },
   {
    "duration": 23,
    "start_time": "2022-07-18T21:49:43.887Z"
   },
   {
    "duration": 5,
    "start_time": "2022-07-18T21:49:46.208Z"
   },
   {
    "duration": 18,
    "start_time": "2022-07-18T21:51:11.684Z"
   },
   {
    "duration": 7,
    "start_time": "2022-07-18T21:53:42.982Z"
   },
   {
    "duration": 8,
    "start_time": "2022-07-18T21:53:56.405Z"
   },
   {
    "duration": 9,
    "start_time": "2022-07-18T21:53:58.999Z"
   },
   {
    "duration": 11,
    "start_time": "2022-07-18T21:54:04.938Z"
   },
   {
    "duration": 7,
    "start_time": "2022-07-18T21:58:03.253Z"
   },
   {
    "duration": 7,
    "start_time": "2022-07-18T21:58:06.128Z"
   },
   {
    "duration": 18,
    "start_time": "2022-07-18T21:58:09.215Z"
   },
   {
    "duration": 45,
    "start_time": "2022-07-18T21:58:26.869Z"
   },
   {
    "duration": 9,
    "start_time": "2022-07-18T21:58:50.402Z"
   },
   {
    "duration": 18,
    "start_time": "2022-07-18T21:58:54.164Z"
   },
   {
    "duration": 8,
    "start_time": "2022-07-18T21:59:22.178Z"
   },
   {
    "duration": 58,
    "start_time": "2022-07-18T21:59:24.157Z"
   },
   {
    "duration": 9,
    "start_time": "2022-07-18T22:01:58.017Z"
   },
   {
    "duration": 7,
    "start_time": "2022-07-18T22:01:59.843Z"
   },
   {
    "duration": 19,
    "start_time": "2022-07-18T22:02:00.107Z"
   },
   {
    "duration": 8,
    "start_time": "2022-07-18T22:02:30.119Z"
   },
   {
    "duration": 7,
    "start_time": "2022-07-18T22:02:31.553Z"
   },
   {
    "duration": 17,
    "start_time": "2022-07-18T22:02:33.370Z"
   },
   {
    "duration": 9,
    "start_time": "2022-07-18T22:05:41.278Z"
   },
   {
    "duration": 7,
    "start_time": "2022-07-18T22:05:41.952Z"
   },
   {
    "duration": 96,
    "start_time": "2022-07-18T22:05:42.115Z"
   },
   {
    "duration": 5,
    "start_time": "2022-07-18T22:05:42.405Z"
   },
   {
    "duration": 10,
    "start_time": "2022-07-18T22:06:27.818Z"
   },
   {
    "duration": 9,
    "start_time": "2022-07-18T22:06:28.389Z"
   },
   {
    "duration": 151,
    "start_time": "2022-07-18T22:06:28.560Z"
   },
   {
    "duration": 6,
    "start_time": "2022-07-18T22:06:28.739Z"
   },
   {
    "duration": 9,
    "start_time": "2022-07-18T22:07:33.166Z"
   },
   {
    "duration": 41,
    "start_time": "2022-07-18T22:07:35.771Z"
   },
   {
    "duration": 9,
    "start_time": "2022-07-18T22:09:35.405Z"
   },
   {
    "duration": 9,
    "start_time": "2022-07-18T22:09:38.178Z"
   },
   {
    "duration": 9,
    "start_time": "2022-07-18T22:10:16.631Z"
   },
   {
    "duration": 78,
    "start_time": "2022-07-18T22:10:19.434Z"
   },
   {
    "duration": 9,
    "start_time": "2022-07-18T22:10:59.419Z"
   },
   {
    "duration": 63,
    "start_time": "2022-07-18T22:11:01.357Z"
   },
   {
    "duration": 8,
    "start_time": "2022-07-18T22:11:47.981Z"
   },
   {
    "duration": 7,
    "start_time": "2022-07-18T22:11:48.987Z"
   },
   {
    "duration": 72,
    "start_time": "2022-07-18T22:11:50.140Z"
   },
   {
    "duration": 8,
    "start_time": "2022-07-18T22:12:13.111Z"
   },
   {
    "duration": 18,
    "start_time": "2022-07-18T22:12:16.416Z"
   },
   {
    "duration": 10,
    "start_time": "2022-07-18T22:12:25.736Z"
   },
   {
    "duration": 38,
    "start_time": "2022-07-18T22:12:31.574Z"
   },
   {
    "duration": 8,
    "start_time": "2022-07-18T22:14:39.247Z"
   },
   {
    "duration": 17,
    "start_time": "2022-07-18T22:14:42.288Z"
   },
   {
    "duration": 5,
    "start_time": "2022-07-18T22:14:49.089Z"
   },
   {
    "duration": 17,
    "start_time": "2022-07-18T22:16:40.860Z"
   },
   {
    "duration": 9,
    "start_time": "2022-07-18T22:17:50.748Z"
   },
   {
    "duration": 105,
    "start_time": "2022-07-18T22:17:53.607Z"
   },
   {
    "duration": 8,
    "start_time": "2022-07-18T22:20:41.445Z"
   },
   {
    "duration": 62,
    "start_time": "2022-07-18T22:20:43.756Z"
   },
   {
    "duration": 8,
    "start_time": "2022-07-18T22:21:14.930Z"
   },
   {
    "duration": 67,
    "start_time": "2022-07-18T22:21:17.243Z"
   },
   {
    "duration": 8,
    "start_time": "2022-07-18T22:21:29.003Z"
   },
   {
    "duration": 19,
    "start_time": "2022-07-18T22:21:32.297Z"
   },
   {
    "duration": 8,
    "start_time": "2022-07-18T22:22:42.436Z"
   },
   {
    "duration": 7,
    "start_time": "2022-07-18T22:22:44.603Z"
   },
   {
    "duration": 19,
    "start_time": "2022-07-18T22:22:46.019Z"
   },
   {
    "duration": 8,
    "start_time": "2022-07-18T22:23:13.116Z"
   },
   {
    "duration": 9,
    "start_time": "2022-07-18T22:23:29.655Z"
   },
   {
    "duration": 49,
    "start_time": "2022-07-18T22:23:31.773Z"
   },
   {
    "duration": 8,
    "start_time": "2022-07-18T22:25:20.372Z"
   },
   {
    "duration": 7,
    "start_time": "2022-07-18T22:25:22.343Z"
   },
   {
    "duration": 99,
    "start_time": "2022-07-18T22:25:23.213Z"
   },
   {
    "duration": 9,
    "start_time": "2022-07-18T22:26:01.195Z"
   },
   {
    "duration": 25,
    "start_time": "2022-07-18T22:26:03.805Z"
   },
   {
    "duration": 9,
    "start_time": "2022-07-18T22:26:46.056Z"
   },
   {
    "duration": 20,
    "start_time": "2022-07-18T22:26:48.932Z"
   },
   {
    "duration": 8,
    "start_time": "2022-07-18T22:27:54.122Z"
   },
   {
    "duration": 8,
    "start_time": "2022-07-18T22:28:01.427Z"
   },
   {
    "duration": 9,
    "start_time": "2022-07-18T22:28:15.319Z"
   },
   {
    "duration": 8,
    "start_time": "2022-07-18T22:28:17.990Z"
   },
   {
    "duration": 84,
    "start_time": "2022-07-18T22:28:18.527Z"
   },
   {
    "duration": 9,
    "start_time": "2022-07-18T22:28:46.448Z"
   },
   {
    "duration": 68,
    "start_time": "2022-07-18T22:28:48.744Z"
   },
   {
    "duration": 9,
    "start_time": "2022-07-18T22:29:14.454Z"
   },
   {
    "duration": 62,
    "start_time": "2022-07-18T22:29:19.350Z"
   },
   {
    "duration": 8,
    "start_time": "2022-07-18T22:29:32.073Z"
   },
   {
    "duration": 44,
    "start_time": "2022-07-18T22:29:34.870Z"
   },
   {
    "duration": 9,
    "start_time": "2022-07-18T22:31:27.241Z"
   },
   {
    "duration": 35,
    "start_time": "2022-07-18T22:31:29.579Z"
   },
   {
    "duration": 5,
    "start_time": "2022-07-18T22:31:36.313Z"
   },
   {
    "duration": 8,
    "start_time": "2022-07-18T22:31:47.197Z"
   },
   {
    "duration": 17,
    "start_time": "2022-07-18T22:31:49.791Z"
   },
   {
    "duration": 8,
    "start_time": "2022-07-18T22:33:14.918Z"
   },
   {
    "duration": 41,
    "start_time": "2022-07-18T22:33:17.870Z"
   },
   {
    "duration": 9,
    "start_time": "2022-07-18T22:33:34.887Z"
   },
   {
    "duration": 18,
    "start_time": "2022-07-18T22:33:38.267Z"
   },
   {
    "duration": 4,
    "start_time": "2022-07-18T22:33:53.685Z"
   },
   {
    "duration": 5,
    "start_time": "2022-07-18T22:34:05.478Z"
   },
   {
    "duration": 5,
    "start_time": "2022-07-18T22:34:31.130Z"
   },
   {
    "duration": 4,
    "start_time": "2022-07-18T22:35:14.704Z"
   },
   {
    "duration": 18,
    "start_time": "2022-07-18T22:35:52.507Z"
   },
   {
    "duration": 8,
    "start_time": "2022-07-18T22:36:01.519Z"
   },
   {
    "duration": 18,
    "start_time": "2022-07-18T22:36:04.830Z"
   },
   {
    "duration": 8,
    "start_time": "2022-07-18T22:36:30.163Z"
   },
   {
    "duration": 77,
    "start_time": "2022-07-18T22:36:32.040Z"
   },
   {
    "duration": 8,
    "start_time": "2022-07-18T22:36:50.567Z"
   },
   {
    "duration": 26,
    "start_time": "2022-07-18T22:36:52.896Z"
   },
   {
    "duration": 8,
    "start_time": "2022-07-18T22:37:36.082Z"
   },
   {
    "duration": 4,
    "start_time": "2022-07-18T22:37:39.633Z"
   },
   {
    "duration": 5,
    "start_time": "2022-07-18T22:37:41.739Z"
   },
   {
    "duration": 25,
    "start_time": "2022-07-18T22:37:44.094Z"
   },
   {
    "duration": 9,
    "start_time": "2022-07-18T22:38:05.565Z"
   },
   {
    "duration": 19,
    "start_time": "2022-07-18T22:38:07.919Z"
   },
   {
    "duration": 8,
    "start_time": "2022-07-18T22:38:23.497Z"
   },
   {
    "duration": 90,
    "start_time": "2022-07-18T22:38:26.022Z"
   },
   {
    "duration": 11,
    "start_time": "2022-07-18T22:39:06.378Z"
   },
   {
    "duration": 52,
    "start_time": "2022-07-18T22:39:08.460Z"
   },
   {
    "duration": 9,
    "start_time": "2022-07-18T22:40:09.993Z"
   },
   {
    "duration": 63,
    "start_time": "2022-07-18T22:40:12.549Z"
   },
   {
    "duration": 8,
    "start_time": "2022-07-18T22:41:33.680Z"
   },
   {
    "duration": 17,
    "start_time": "2022-07-18T22:41:36.699Z"
   },
   {
    "duration": 9,
    "start_time": "2022-07-18T22:41:48.458Z"
   },
   {
    "duration": 26,
    "start_time": "2022-07-18T22:41:50.396Z"
   },
   {
    "duration": 8,
    "start_time": "2022-07-18T22:42:26.418Z"
   },
   {
    "duration": 8,
    "start_time": "2022-07-18T22:42:41.113Z"
   },
   {
    "duration": 87,
    "start_time": "2022-07-18T22:42:45.730Z"
   },
   {
    "duration": 8,
    "start_time": "2022-07-18T23:20:48.689Z"
   },
   {
    "duration": 8,
    "start_time": "2022-07-18T23:21:36.917Z"
   },
   {
    "duration": 85,
    "start_time": "2022-07-18T23:21:45.532Z"
   },
   {
    "duration": 388,
    "start_time": "2022-07-18T23:22:30.369Z"
   },
   {
    "duration": 7,
    "start_time": "2022-07-18T23:22:33.346Z"
   },
   {
    "duration": 6,
    "start_time": "2022-07-18T23:22:46.978Z"
   },
   {
    "duration": 5,
    "start_time": "2022-07-18T23:22:54.254Z"
   },
   {
    "duration": 9,
    "start_time": "2022-07-18T23:24:22.492Z"
   },
   {
    "duration": 10,
    "start_time": "2022-07-18T23:24:35.224Z"
   },
   {
    "duration": 8,
    "start_time": "2022-07-18T23:24:37.409Z"
   },
   {
    "duration": 44,
    "start_time": "2022-07-18T23:24:38.968Z"
   },
   {
    "duration": 7,
    "start_time": "2022-07-18T23:25:03.300Z"
   },
   {
    "duration": 52,
    "start_time": "2022-07-18T23:25:05.160Z"
   },
   {
    "duration": 8,
    "start_time": "2022-07-18T23:25:20.955Z"
   },
   {
    "duration": 38,
    "start_time": "2022-07-18T23:25:22.978Z"
   },
   {
    "duration": 83,
    "start_time": "2022-07-18T23:27:36.335Z"
   },
   {
    "duration": 8,
    "start_time": "2022-07-18T23:27:55.809Z"
   },
   {
    "duration": 91,
    "start_time": "2022-07-18T23:27:57.822Z"
   },
   {
    "duration": 8,
    "start_time": "2022-07-18T23:28:10.018Z"
   },
   {
    "duration": 25,
    "start_time": "2022-07-18T23:28:11.988Z"
   },
   {
    "duration": 9,
    "start_time": "2022-07-18T23:34:16.009Z"
   },
   {
    "duration": 9,
    "start_time": "2022-07-18T23:34:20.294Z"
   },
   {
    "duration": 78,
    "start_time": "2022-07-18T23:34:22.537Z"
   },
   {
    "duration": 8,
    "start_time": "2022-07-18T23:35:17.193Z"
   },
   {
    "duration": 10,
    "start_time": "2022-07-18T23:35:50.943Z"
   },
   {
    "duration": 105,
    "start_time": "2022-07-18T23:35:52.906Z"
   },
   {
    "duration": 38,
    "start_time": "2022-07-18T23:36:23.974Z"
   },
   {
    "duration": 15,
    "start_time": "2022-07-18T23:37:03.711Z"
   },
   {
    "duration": 85,
    "start_time": "2022-07-18T23:37:05.926Z"
   },
   {
    "duration": 13,
    "start_time": "2022-07-18T23:37:27.007Z"
   },
   {
    "duration": 62,
    "start_time": "2022-07-18T23:37:30.258Z"
   },
   {
    "duration": 9,
    "start_time": "2022-07-18T23:40:13.332Z"
   },
   {
    "duration": 42,
    "start_time": "2022-07-18T23:40:15.470Z"
   },
   {
    "duration": 9,
    "start_time": "2022-07-18T23:40:26.342Z"
   },
   {
    "duration": 8,
    "start_time": "2022-07-18T23:40:28.262Z"
   },
   {
    "duration": 14,
    "start_time": "2022-07-18T23:41:13.626Z"
   },
   {
    "duration": 7,
    "start_time": "2022-07-18T23:41:15.997Z"
   },
   {
    "duration": 8,
    "start_time": "2022-07-18T23:41:23.796Z"
   },
   {
    "duration": 7,
    "start_time": "2022-07-18T23:41:26.331Z"
   },
   {
    "duration": 9,
    "start_time": "2022-07-18T23:41:26.843Z"
   },
   {
    "duration": 9,
    "start_time": "2022-07-18T23:43:13.002Z"
   },
   {
    "duration": 8,
    "start_time": "2022-07-18T23:43:18.498Z"
   },
   {
    "duration": 9,
    "start_time": "2022-07-18T23:43:18.720Z"
   },
   {
    "duration": 9,
    "start_time": "2022-07-18T23:43:30.120Z"
   },
   {
    "duration": 8,
    "start_time": "2022-07-18T23:54:15.718Z"
   },
   {
    "duration": 8,
    "start_time": "2022-07-18T23:54:16.572Z"
   },
   {
    "duration": 8,
    "start_time": "2022-07-18T23:54:18.756Z"
   },
   {
    "duration": 11,
    "start_time": "2022-07-19T00:04:26.699Z"
   },
   {
    "duration": 7,
    "start_time": "2022-07-19T00:10:10.159Z"
   },
   {
    "duration": 7,
    "start_time": "2022-07-19T00:10:16.090Z"
   },
   {
    "duration": 11,
    "start_time": "2022-07-19T00:10:23.882Z"
   },
   {
    "duration": 12,
    "start_time": "2022-07-19T00:10:34.051Z"
   },
   {
    "duration": 9,
    "start_time": "2022-07-19T00:10:45.913Z"
   },
   {
    "duration": 7,
    "start_time": "2022-07-19T00:11:25.111Z"
   },
   {
    "duration": 2802,
    "start_time": "2022-07-19T00:11:42.900Z"
   },
   {
    "duration": 1247,
    "start_time": "2022-07-19T00:11:45.705Z"
   },
   {
    "duration": 2,
    "start_time": "2022-07-19T00:11:46.954Z"
   },
   {
    "duration": 30,
    "start_time": "2022-07-19T00:11:46.958Z"
   },
   {
    "duration": 4,
    "start_time": "2022-07-19T00:11:46.990Z"
   },
   {
    "duration": 21,
    "start_time": "2022-07-19T00:11:46.995Z"
   },
   {
    "duration": 11,
    "start_time": "2022-07-19T00:11:47.018Z"
   },
   {
    "duration": 4,
    "start_time": "2022-07-19T00:11:47.031Z"
   },
   {
    "duration": 19,
    "start_time": "2022-07-19T00:11:47.037Z"
   },
   {
    "duration": 3,
    "start_time": "2022-07-19T00:11:47.058Z"
   },
   {
    "duration": 47,
    "start_time": "2022-07-19T00:11:47.063Z"
   },
   {
    "duration": 14,
    "start_time": "2022-07-19T00:11:47.112Z"
   },
   {
    "duration": 5,
    "start_time": "2022-07-19T00:11:47.128Z"
   },
   {
    "duration": 3631,
    "start_time": "2022-07-19T00:11:47.136Z"
   },
   {
    "duration": 3,
    "start_time": "2022-07-19T00:11:50.769Z"
   },
   {
    "duration": 11,
    "start_time": "2022-07-19T00:11:50.774Z"
   },
   {
    "duration": 20,
    "start_time": "2022-07-19T00:11:50.787Z"
   },
   {
    "duration": 14,
    "start_time": "2022-07-19T00:11:50.810Z"
   },
   {
    "duration": 18,
    "start_time": "2022-07-19T00:11:50.826Z"
   },
   {
    "duration": 22,
    "start_time": "2022-07-19T00:11:50.846Z"
   },
   {
    "duration": 25,
    "start_time": "2022-07-19T00:11:50.870Z"
   },
   {
    "duration": 17,
    "start_time": "2022-07-19T00:11:50.910Z"
   },
   {
    "duration": 7,
    "start_time": "2022-07-19T00:11:50.929Z"
   },
   {
    "duration": 17,
    "start_time": "2022-07-19T00:11:50.938Z"
   },
   {
    "duration": 18,
    "start_time": "2022-07-19T00:11:50.956Z"
   },
   {
    "duration": 29,
    "start_time": "2022-07-19T00:11:50.975Z"
   },
   {
    "duration": 11,
    "start_time": "2022-07-19T00:11:51.006Z"
   },
   {
    "duration": 15,
    "start_time": "2022-07-19T00:11:51.018Z"
   },
   {
    "duration": 381,
    "start_time": "2022-07-19T00:11:51.035Z"
   },
   {
    "duration": 505,
    "start_time": "2022-07-19T00:11:51.418Z"
   },
   {
    "duration": 35,
    "start_time": "2022-07-19T00:11:51.925Z"
   },
   {
    "duration": 125,
    "start_time": "2022-07-19T00:11:51.962Z"
   },
   {
    "duration": 0,
    "start_time": "2022-07-19T00:11:52.089Z"
   },
   {
    "duration": 1,
    "start_time": "2022-07-19T00:11:52.090Z"
   },
   {
    "duration": 0,
    "start_time": "2022-07-19T00:11:52.092Z"
   },
   {
    "duration": 0,
    "start_time": "2022-07-19T00:11:52.093Z"
   },
   {
    "duration": 0,
    "start_time": "2022-07-19T00:11:52.094Z"
   },
   {
    "duration": 0,
    "start_time": "2022-07-19T00:11:52.095Z"
   },
   {
    "duration": 0,
    "start_time": "2022-07-19T00:11:52.110Z"
   },
   {
    "duration": 0,
    "start_time": "2022-07-19T00:11:52.112Z"
   },
   {
    "duration": 0,
    "start_time": "2022-07-19T00:11:52.113Z"
   },
   {
    "duration": 0,
    "start_time": "2022-07-19T00:11:52.114Z"
   },
   {
    "duration": 0,
    "start_time": "2022-07-19T00:11:52.115Z"
   },
   {
    "duration": 0,
    "start_time": "2022-07-19T00:11:52.116Z"
   },
   {
    "duration": 0,
    "start_time": "2022-07-19T00:11:52.117Z"
   },
   {
    "duration": 0,
    "start_time": "2022-07-19T00:11:52.118Z"
   },
   {
    "duration": 0,
    "start_time": "2022-07-19T00:11:52.119Z"
   },
   {
    "duration": 0,
    "start_time": "2022-07-19T00:11:52.121Z"
   },
   {
    "duration": 2721,
    "start_time": "2022-07-19T00:12:32.052Z"
   },
   {
    "duration": 5,
    "start_time": "2022-07-19T00:12:34.775Z"
   },
   {
    "duration": 13,
    "start_time": "2022-07-19T00:12:34.782Z"
   },
   {
    "duration": 30,
    "start_time": "2022-07-19T00:12:34.797Z"
   },
   {
    "duration": 4,
    "start_time": "2022-07-19T00:12:34.830Z"
   },
   {
    "duration": 17,
    "start_time": "2022-07-19T00:12:34.836Z"
   },
   {
    "duration": 17,
    "start_time": "2022-07-19T00:12:34.854Z"
   },
   {
    "duration": 24,
    "start_time": "2022-07-19T00:12:34.873Z"
   },
   {
    "duration": 22,
    "start_time": "2022-07-19T00:12:34.898Z"
   },
   {
    "duration": 3,
    "start_time": "2022-07-19T00:12:34.922Z"
   },
   {
    "duration": 46,
    "start_time": "2022-07-19T00:12:34.926Z"
   },
   {
    "duration": 14,
    "start_time": "2022-07-19T00:12:34.974Z"
   },
   {
    "duration": 7,
    "start_time": "2022-07-19T00:12:34.990Z"
   },
   {
    "duration": 3905,
    "start_time": "2022-07-19T00:12:35.000Z"
   },
   {
    "duration": 3,
    "start_time": "2022-07-19T00:12:38.907Z"
   },
   {
    "duration": 9,
    "start_time": "2022-07-19T00:12:38.911Z"
   },
   {
    "duration": 22,
    "start_time": "2022-07-19T00:12:38.922Z"
   },
   {
    "duration": 14,
    "start_time": "2022-07-19T00:12:38.946Z"
   },
   {
    "duration": 18,
    "start_time": "2022-07-19T00:12:38.962Z"
   },
   {
    "duration": 20,
    "start_time": "2022-07-19T00:12:38.982Z"
   },
   {
    "duration": 18,
    "start_time": "2022-07-19T00:12:39.011Z"
   },
   {
    "duration": 17,
    "start_time": "2022-07-19T00:12:39.031Z"
   },
   {
    "duration": 7,
    "start_time": "2022-07-19T00:12:39.050Z"
   },
   {
    "duration": 6,
    "start_time": "2022-07-19T00:12:39.059Z"
   },
   {
    "duration": 12,
    "start_time": "2022-07-19T00:12:39.066Z"
   },
   {
    "duration": 37,
    "start_time": "2022-07-19T00:12:39.080Z"
   },
   {
    "duration": 5,
    "start_time": "2022-07-19T00:12:39.119Z"
   },
   {
    "duration": 5,
    "start_time": "2022-07-19T00:12:39.126Z"
   },
   {
    "duration": 410,
    "start_time": "2022-07-19T00:12:39.132Z"
   },
   {
    "duration": 476,
    "start_time": "2022-07-19T00:12:39.544Z"
   },
   {
    "duration": 38,
    "start_time": "2022-07-19T00:12:40.022Z"
   },
   {
    "duration": 5,
    "start_time": "2022-07-19T00:12:40.062Z"
   },
   {
    "duration": 8,
    "start_time": "2022-07-19T00:12:40.068Z"
   },
   {
    "duration": 33,
    "start_time": "2022-07-19T00:12:40.078Z"
   },
   {
    "duration": 97,
    "start_time": "2022-07-19T00:12:40.114Z"
   },
   {
    "duration": 6,
    "start_time": "2022-07-19T00:12:40.216Z"
   },
   {
    "duration": 93,
    "start_time": "2022-07-19T00:12:40.224Z"
   },
   {
    "duration": 6,
    "start_time": "2022-07-19T00:12:40.319Z"
   },
   {
    "duration": 7,
    "start_time": "2022-07-19T00:12:40.326Z"
   },
   {
    "duration": 76,
    "start_time": "2022-07-19T00:12:40.335Z"
   },
   {
    "duration": 4,
    "start_time": "2022-07-19T00:12:40.418Z"
   },
   {
    "duration": 87,
    "start_time": "2022-07-19T00:12:40.424Z"
   },
   {
    "duration": 7,
    "start_time": "2022-07-19T00:12:40.513Z"
   },
   {
    "duration": 91,
    "start_time": "2022-07-19T00:12:40.522Z"
   },
   {
    "duration": 14,
    "start_time": "2022-07-19T00:12:40.615Z"
   },
   {
    "duration": 91,
    "start_time": "2022-07-19T00:12:40.630Z"
   },
   {
    "duration": 2725,
    "start_time": "2022-07-19T00:12:56.145Z"
   },
   {
    "duration": 1265,
    "start_time": "2022-07-19T00:12:58.873Z"
   },
   {
    "duration": 3,
    "start_time": "2022-07-19T00:13:00.139Z"
   },
   {
    "duration": 49,
    "start_time": "2022-07-19T00:13:00.144Z"
   },
   {
    "duration": 4,
    "start_time": "2022-07-19T00:13:00.195Z"
   },
   {
    "duration": 27,
    "start_time": "2022-07-19T00:13:00.200Z"
   },
   {
    "duration": 12,
    "start_time": "2022-07-19T00:13:00.228Z"
   },
   {
    "duration": 21,
    "start_time": "2022-07-19T00:13:00.241Z"
   },
   {
    "duration": 21,
    "start_time": "2022-07-19T00:13:00.263Z"
   },
   {
    "duration": 27,
    "start_time": "2022-07-19T00:13:00.286Z"
   },
   {
    "duration": 34,
    "start_time": "2022-07-19T00:13:00.315Z"
   },
   {
    "duration": 31,
    "start_time": "2022-07-19T00:13:00.351Z"
   },
   {
    "duration": 20,
    "start_time": "2022-07-19T00:13:00.384Z"
   },
   {
    "duration": 3591,
    "start_time": "2022-07-19T00:13:00.407Z"
   },
   {
    "duration": 11,
    "start_time": "2022-07-19T00:13:04.000Z"
   },
   {
    "duration": 11,
    "start_time": "2022-07-19T00:13:04.013Z"
   },
   {
    "duration": 18,
    "start_time": "2022-07-19T00:13:04.025Z"
   },
   {
    "duration": 10,
    "start_time": "2022-07-19T00:13:04.045Z"
   },
   {
    "duration": 20,
    "start_time": "2022-07-19T00:13:04.057Z"
   },
   {
    "duration": 35,
    "start_time": "2022-07-19T00:13:04.079Z"
   },
   {
    "duration": 17,
    "start_time": "2022-07-19T00:13:04.115Z"
   },
   {
    "duration": 17,
    "start_time": "2022-07-19T00:13:04.134Z"
   },
   {
    "duration": 8,
    "start_time": "2022-07-19T00:13:04.153Z"
   },
   {
    "duration": 7,
    "start_time": "2022-07-19T00:13:04.162Z"
   },
   {
    "duration": 39,
    "start_time": "2022-07-19T00:13:04.171Z"
   },
   {
    "duration": 10,
    "start_time": "2022-07-19T00:13:04.212Z"
   },
   {
    "duration": 6,
    "start_time": "2022-07-19T00:13:04.224Z"
   },
   {
    "duration": 6,
    "start_time": "2022-07-19T00:13:04.231Z"
   },
   {
    "duration": 430,
    "start_time": "2022-07-19T00:13:04.239Z"
   },
   {
    "duration": 488,
    "start_time": "2022-07-19T00:13:04.670Z"
   },
   {
    "duration": 51,
    "start_time": "2022-07-19T00:13:05.160Z"
   },
   {
    "duration": 5,
    "start_time": "2022-07-19T00:13:05.214Z"
   },
   {
    "duration": 8,
    "start_time": "2022-07-19T00:13:05.221Z"
   },
   {
    "duration": 13,
    "start_time": "2022-07-19T00:13:05.231Z"
   },
   {
    "duration": 165,
    "start_time": "2022-07-19T00:13:05.246Z"
   },
   {
    "duration": 5,
    "start_time": "2022-07-19T00:13:05.413Z"
   },
   {
    "duration": 89,
    "start_time": "2022-07-19T00:13:05.421Z"
   },
   {
    "duration": 9,
    "start_time": "2022-07-19T00:13:05.512Z"
   },
   {
    "duration": 9,
    "start_time": "2022-07-19T00:13:05.522Z"
   },
   {
    "duration": 14,
    "start_time": "2022-07-19T00:13:05.532Z"
   },
   {
    "duration": 3,
    "start_time": "2022-07-19T00:13:05.613Z"
   },
   {
    "duration": 94,
    "start_time": "2022-07-19T00:13:05.618Z"
   },
   {
    "duration": 14,
    "start_time": "2022-07-19T00:13:05.714Z"
   },
   {
    "duration": 80,
    "start_time": "2022-07-19T00:13:05.730Z"
   },
   {
    "duration": 7,
    "start_time": "2022-07-19T00:13:05.813Z"
   },
   {
    "duration": 100,
    "start_time": "2022-07-19T00:13:05.822Z"
   },
   {
    "duration": 406,
    "start_time": "2022-07-19T00:16:03.387Z"
   },
   {
    "duration": 425,
    "start_time": "2022-07-19T00:16:07.195Z"
   },
   {
    "duration": 430,
    "start_time": "2022-07-19T00:56:47.693Z"
   },
   {
    "duration": 470,
    "start_time": "2022-07-19T00:56:50.054Z"
   },
   {
    "duration": 421,
    "start_time": "2022-07-19T00:56:52.842Z"
   },
   {
    "duration": 421,
    "start_time": "2022-07-19T00:56:55.556Z"
   },
   {
    "duration": 494,
    "start_time": "2022-07-19T00:57:22.572Z"
   },
   {
    "duration": 2924,
    "start_time": "2022-07-19T01:17:27.290Z"
   },
   {
    "duration": 1340,
    "start_time": "2022-07-19T01:17:30.217Z"
   },
   {
    "duration": 3,
    "start_time": "2022-07-19T01:17:31.559Z"
   },
   {
    "duration": 39,
    "start_time": "2022-07-19T01:17:31.564Z"
   },
   {
    "duration": 4,
    "start_time": "2022-07-19T01:17:31.605Z"
   },
   {
    "duration": 25,
    "start_time": "2022-07-19T01:17:31.611Z"
   },
   {
    "duration": 13,
    "start_time": "2022-07-19T01:17:31.637Z"
   },
   {
    "duration": 5,
    "start_time": "2022-07-19T01:17:31.652Z"
   },
   {
    "duration": 12,
    "start_time": "2022-07-19T01:17:31.659Z"
   },
   {
    "duration": 2,
    "start_time": "2022-07-19T01:17:31.673Z"
   },
   {
    "duration": 44,
    "start_time": "2022-07-19T01:17:31.677Z"
   },
   {
    "duration": 15,
    "start_time": "2022-07-19T01:17:31.723Z"
   },
   {
    "duration": 6,
    "start_time": "2022-07-19T01:17:31.739Z"
   },
   {
    "duration": 3811,
    "start_time": "2022-07-19T01:17:31.746Z"
   },
   {
    "duration": 3,
    "start_time": "2022-07-19T01:17:35.559Z"
   },
   {
    "duration": 26,
    "start_time": "2022-07-19T01:17:35.563Z"
   },
   {
    "duration": 151,
    "start_time": "2022-07-19T01:17:35.591Z"
   },
   {
    "duration": 23,
    "start_time": "2022-07-19T01:17:35.744Z"
   },
   {
    "duration": 30,
    "start_time": "2022-07-19T01:17:35.768Z"
   },
   {
    "duration": 18,
    "start_time": "2022-07-19T01:17:35.800Z"
   },
   {
    "duration": 19,
    "start_time": "2022-07-19T01:17:35.819Z"
   },
   {
    "duration": 18,
    "start_time": "2022-07-19T01:17:35.840Z"
   },
   {
    "duration": 9,
    "start_time": "2022-07-19T01:17:35.859Z"
   },
   {
    "duration": 11,
    "start_time": "2022-07-19T01:17:35.869Z"
   },
   {
    "duration": 30,
    "start_time": "2022-07-19T01:17:35.881Z"
   },
   {
    "duration": 10,
    "start_time": "2022-07-19T01:17:35.913Z"
   },
   {
    "duration": 5,
    "start_time": "2022-07-19T01:17:35.925Z"
   },
   {
    "duration": 3,
    "start_time": "2022-07-19T01:17:35.934Z"
   },
   {
    "duration": 418,
    "start_time": "2022-07-19T01:17:35.939Z"
   },
   {
    "duration": 478,
    "start_time": "2022-07-19T01:17:36.358Z"
   },
   {
    "duration": 425,
    "start_time": "2022-07-19T01:17:36.838Z"
   },
   {
    "duration": 487,
    "start_time": "2022-07-19T01:17:37.264Z"
   },
   {
    "duration": 41,
    "start_time": "2022-07-19T01:17:37.754Z"
   },
   {
    "duration": 5,
    "start_time": "2022-07-19T01:17:37.810Z"
   },
   {
    "duration": 28,
    "start_time": "2022-07-19T01:17:37.817Z"
   },
   {
    "duration": 37,
    "start_time": "2022-07-19T01:17:37.847Z"
   },
   {
    "duration": 28,
    "start_time": "2022-07-19T01:17:37.887Z"
   },
   {
    "duration": 93,
    "start_time": "2022-07-19T01:17:37.918Z"
   },
   {
    "duration": 8,
    "start_time": "2022-07-19T01:17:38.013Z"
   },
   {
    "duration": 87,
    "start_time": "2022-07-19T01:17:38.023Z"
   },
   {
    "duration": 8,
    "start_time": "2022-07-19T01:17:38.112Z"
   },
   {
    "duration": 13,
    "start_time": "2022-07-19T01:17:38.122Z"
   },
   {
    "duration": 77,
    "start_time": "2022-07-19T01:17:38.137Z"
   },
   {
    "duration": 15,
    "start_time": "2022-07-19T01:17:38.216Z"
   },
   {
    "duration": 7,
    "start_time": "2022-07-19T01:17:38.311Z"
   },
   {
    "duration": 92,
    "start_time": "2022-07-19T01:17:38.320Z"
   },
   {
    "duration": 96,
    "start_time": "2022-07-19T01:17:38.415Z"
   },
   {
    "duration": 99,
    "start_time": "2022-07-19T01:17:38.514Z"
   }
  ],
  "kernelspec": {
   "display_name": "Python 3 (ipykernel)",
   "language": "python",
   "name": "python3"
  },
  "language_info": {
   "codemirror_mode": {
    "name": "ipython",
    "version": 3
   },
   "file_extension": ".py",
   "mimetype": "text/x-python",
   "name": "python",
   "nbconvert_exporter": "python",
   "pygments_lexer": "ipython3",
   "version": "3.9.5"
  },
  "toc": {
   "base_numbering": 1,
   "nav_menu": {},
   "number_sections": true,
   "sideBar": true,
   "skip_h1_title": true,
   "title_cell": "Table of Contents",
   "title_sidebar": "Contents",
   "toc_cell": false,
   "toc_position": {},
   "toc_section_display": true,
   "toc_window_display": false
  }
 },
 "nbformat": 4,
 "nbformat_minor": 4
}
